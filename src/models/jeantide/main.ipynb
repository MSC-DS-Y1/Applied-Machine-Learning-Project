{
 "cells": [
  {
   "cell_type": "code",
   "execution_count": 1,
   "metadata": {},
   "outputs": [
    {
     "data": {
      "text/html": [
       "<div>\n",
       "<style scoped>\n",
       "    .dataframe tbody tr th:only-of-type {\n",
       "        vertical-align: middle;\n",
       "    }\n",
       "\n",
       "    .dataframe tbody tr th {\n",
       "        vertical-align: top;\n",
       "    }\n",
       "\n",
       "    .dataframe thead th {\n",
       "        text-align: right;\n",
       "    }\n",
       "</style>\n",
       "<table border=\"1\" class=\"dataframe\">\n",
       "  <thead>\n",
       "    <tr style=\"text-align: right;\">\n",
       "      <th></th>\n",
       "      <th>PC1</th>\n",
       "      <th>PC2</th>\n",
       "      <th>PC3</th>\n",
       "      <th>PC4</th>\n",
       "      <th>PC5</th>\n",
       "      <th>PC6</th>\n",
       "      <th>PC7</th>\n",
       "      <th>PC8</th>\n",
       "      <th>Target</th>\n",
       "    </tr>\n",
       "  </thead>\n",
       "  <tbody>\n",
       "    <tr>\n",
       "      <th>0</th>\n",
       "      <td>-0.314242</td>\n",
       "      <td>-0.205719</td>\n",
       "      <td>-0.028824</td>\n",
       "      <td>0.206659</td>\n",
       "      <td>0.012864</td>\n",
       "      <td>-0.874508</td>\n",
       "      <td>0.387179</td>\n",
       "      <td>0.010646</td>\n",
       "      <td>Dropout</td>\n",
       "    </tr>\n",
       "    <tr>\n",
       "      <th>1</th>\n",
       "      <td>-0.470709</td>\n",
       "      <td>-0.329179</td>\n",
       "      <td>0.884960</td>\n",
       "      <td>-0.093840</td>\n",
       "      <td>-0.083021</td>\n",
       "      <td>0.226558</td>\n",
       "      <td>0.106516</td>\n",
       "      <td>-0.184132</td>\n",
       "      <td>Graduate</td>\n",
       "    </tr>\n",
       "    <tr>\n",
       "      <th>2</th>\n",
       "      <td>-0.396169</td>\n",
       "      <td>0.580298</td>\n",
       "      <td>0.717272</td>\n",
       "      <td>0.092688</td>\n",
       "      <td>0.067955</td>\n",
       "      <td>-0.065536</td>\n",
       "      <td>-0.096558</td>\n",
       "      <td>-0.204557</td>\n",
       "      <td>Dropout</td>\n",
       "    </tr>\n",
       "    <tr>\n",
       "      <th>3</th>\n",
       "      <td>-0.130125</td>\n",
       "      <td>0.273844</td>\n",
       "      <td>-0.174658</td>\n",
       "      <td>-0.023552</td>\n",
       "      <td>-0.576278</td>\n",
       "      <td>0.067090</td>\n",
       "      <td>-0.072535</td>\n",
       "      <td>-0.123530</td>\n",
       "      <td>Graduate</td>\n",
       "    </tr>\n",
       "    <tr>\n",
       "      <th>4</th>\n",
       "      <td>-0.131716</td>\n",
       "      <td>0.229628</td>\n",
       "      <td>-0.067836</td>\n",
       "      <td>-0.505245</td>\n",
       "      <td>-0.335535</td>\n",
       "      <td>-0.094679</td>\n",
       "      <td>0.105542</td>\n",
       "      <td>0.325822</td>\n",
       "      <td>Graduate</td>\n",
       "    </tr>\n",
       "    <tr>\n",
       "      <th>...</th>\n",
       "      <td>...</td>\n",
       "      <td>...</td>\n",
       "      <td>...</td>\n",
       "      <td>...</td>\n",
       "      <td>...</td>\n",
       "      <td>...</td>\n",
       "      <td>...</td>\n",
       "      <td>...</td>\n",
       "      <td>...</td>\n",
       "    </tr>\n",
       "    <tr>\n",
       "      <th>4419</th>\n",
       "      <td>-0.276222</td>\n",
       "      <td>-0.514504</td>\n",
       "      <td>-0.105317</td>\n",
       "      <td>-0.246347</td>\n",
       "      <td>0.491042</td>\n",
       "      <td>0.030594</td>\n",
       "      <td>-0.111448</td>\n",
       "      <td>-0.049411</td>\n",
       "      <td>Graduate</td>\n",
       "    </tr>\n",
       "    <tr>\n",
       "      <th>4420</th>\n",
       "      <td>-0.528528</td>\n",
       "      <td>-0.238030</td>\n",
       "      <td>0.820748</td>\n",
       "      <td>0.271141</td>\n",
       "      <td>0.030093</td>\n",
       "      <td>0.218110</td>\n",
       "      <td>-0.039184</td>\n",
       "      <td>-0.136250</td>\n",
       "      <td>Dropout</td>\n",
       "    </tr>\n",
       "    <tr>\n",
       "      <th>4421</th>\n",
       "      <td>0.814815</td>\n",
       "      <td>0.084677</td>\n",
       "      <td>0.172297</td>\n",
       "      <td>-0.317228</td>\n",
       "      <td>-0.250588</td>\n",
       "      <td>-0.060601</td>\n",
       "      <td>-0.045802</td>\n",
       "      <td>0.100848</td>\n",
       "      <td>Dropout</td>\n",
       "    </tr>\n",
       "    <tr>\n",
       "      <th>4422</th>\n",
       "      <td>0.810934</td>\n",
       "      <td>0.170534</td>\n",
       "      <td>0.080124</td>\n",
       "      <td>0.148968</td>\n",
       "      <td>-0.501787</td>\n",
       "      <td>-0.070562</td>\n",
       "      <td>0.011215</td>\n",
       "      <td>-0.056446</td>\n",
       "      <td>Graduate</td>\n",
       "    </tr>\n",
       "    <tr>\n",
       "      <th>4423</th>\n",
       "      <td>-0.132748</td>\n",
       "      <td>0.347853</td>\n",
       "      <td>-0.328484</td>\n",
       "      <td>-0.190778</td>\n",
       "      <td>0.465049</td>\n",
       "      <td>-0.012571</td>\n",
       "      <td>0.015455</td>\n",
       "      <td>-0.132039</td>\n",
       "      <td>Graduate</td>\n",
       "    </tr>\n",
       "  </tbody>\n",
       "</table>\n",
       "<p>4424 rows × 9 columns</p>\n",
       "</div>"
      ],
      "text/plain": [
       "           PC1       PC2       PC3       PC4       PC5       PC6       PC7  \\\n",
       "0    -0.314242 -0.205719 -0.028824  0.206659  0.012864 -0.874508  0.387179   \n",
       "1    -0.470709 -0.329179  0.884960 -0.093840 -0.083021  0.226558  0.106516   \n",
       "2    -0.396169  0.580298  0.717272  0.092688  0.067955 -0.065536 -0.096558   \n",
       "3    -0.130125  0.273844 -0.174658 -0.023552 -0.576278  0.067090 -0.072535   \n",
       "4    -0.131716  0.229628 -0.067836 -0.505245 -0.335535 -0.094679  0.105542   \n",
       "...        ...       ...       ...       ...       ...       ...       ...   \n",
       "4419 -0.276222 -0.514504 -0.105317 -0.246347  0.491042  0.030594 -0.111448   \n",
       "4420 -0.528528 -0.238030  0.820748  0.271141  0.030093  0.218110 -0.039184   \n",
       "4421  0.814815  0.084677  0.172297 -0.317228 -0.250588 -0.060601 -0.045802   \n",
       "4422  0.810934  0.170534  0.080124  0.148968 -0.501787 -0.070562  0.011215   \n",
       "4423 -0.132748  0.347853 -0.328484 -0.190778  0.465049 -0.012571  0.015455   \n",
       "\n",
       "           PC8    Target  \n",
       "0     0.010646   Dropout  \n",
       "1    -0.184132  Graduate  \n",
       "2    -0.204557   Dropout  \n",
       "3    -0.123530  Graduate  \n",
       "4     0.325822  Graduate  \n",
       "...        ...       ...  \n",
       "4419 -0.049411  Graduate  \n",
       "4420 -0.136250   Dropout  \n",
       "4421  0.100848   Dropout  \n",
       "4422 -0.056446  Graduate  \n",
       "4423 -0.132039  Graduate  \n",
       "\n",
       "[4424 rows x 9 columns]"
      ]
     },
     "execution_count": 1,
     "metadata": {},
     "output_type": "execute_result"
    }
   ],
   "source": [
    "import pandas as pd\n",
    "\n",
    "data = pd.read_csv(\"Data_PCA.csv\")\n",
    "data"
   ]
  },
  {
   "cell_type": "code",
   "execution_count": 3,
   "metadata": {},
   "outputs": [
    {
     "name": "stdout",
     "output_type": "stream",
     "text": [
      "0.44516422855016563\n",
      "5.741840597518892e-17\n"
     ]
    }
   ],
   "source": [
    "print(data['PC1'].std())\n",
    "print(data['PC1'].mean())"
   ]
  },
  {
   "cell_type": "code",
   "execution_count": 4,
   "metadata": {},
   "outputs": [
    {
     "name": "stdout",
     "output_type": "stream",
     "text": [
      "0.36350721009469966\n",
      "9.636655548283456e-18\n"
     ]
    }
   ],
   "source": [
    "print(data['PC2'].std())\n",
    "print(data['PC2'].mean())"
   ]
  },
  {
   "cell_type": "code",
   "execution_count": 2,
   "metadata": {},
   "outputs": [
    {
     "data": {
      "text/plain": [
       "Graduate    2209\n",
       "Dropout     1421\n",
       "Enrolled     794\n",
       "Name: Target, dtype: int64"
      ]
     },
     "execution_count": 2,
     "metadata": {},
     "output_type": "execute_result"
    }
   ],
   "source": [
    "features = data.drop(['Target'], axis = 1)\n",
    "\n",
    "target = data['Target']\n",
    "target.value_counts()"
   ]
  },
  {
   "cell_type": "markdown",
   "metadata": {},
   "source": [
    "Checking whether target is balanced"
   ]
  },
  {
   "cell_type": "code",
   "execution_count": 3,
   "metadata": {},
   "outputs": [
    {
     "data": {
      "text/plain": [
       "<function matplotlib.pyplot.show(close=None, block=None)>"
      ]
     },
     "execution_count": 3,
     "metadata": {},
     "output_type": "execute_result"
    },
    {
     "data": {
      "image/png": "[encoded data removed]",
      "text/plain": [
       "<Figure size 640x480 with 1 Axes>"
      ]
     },
     "metadata": {},
     "output_type": "display_data"
    }
   ],
   "source": [
    "import matplotlib.pyplot as plt\n",
    "count_class = target.value_counts()\n",
    "plt.bar(count_class.index, count_class.values)\n",
    "plt.xlabel(\"Target Classes\")\n",
    "plt.ylabel(\"Count\")\n",
    "plt.show"
   ]
  },
  {
   "cell_type": "markdown",
   "metadata": {},
   "source": [
    "Using SMOTE to blanace the data"
   ]
  },
  {
   "cell_type": "code",
   "execution_count": 4,
   "metadata": {},
   "outputs": [
    {
     "data": {
      "text/plain": [
       "Dropout     2209\n",
       "Graduate    2209\n",
       "Enrolled    2209\n",
       "Name: Target, dtype: int64"
      ]
     },
     "execution_count": 4,
     "metadata": {},
     "output_type": "execute_result"
    }
   ],
   "source": [
    "from imblearn.over_sampling import SMOTE\n",
    "\n",
    "#taking the minority approach to generate synthetic values for the minority class\n",
    "smote = SMOTE(sampling_strategy=\"minority\", random_state=42) #setting the seed for reproducibility\n",
    "\n",
    "features_bal,target_bal = smote.fit_resample(features, target)\n",
    "target.value_counts()\n",
    "\n",
    "#repeat again since there are three classes and 2 are undersampled\n",
    "features_bal,target_bal = smote.fit_resample(features_bal, target_bal)\n",
    "target_bal.value_counts()"
   ]
  },
  {
   "cell_type": "markdown",
   "metadata": {},
   "source": [
    "Now that the dataset is balanced, need to split the data into training (70%), testng (20%) and validating (10%) datasets."
   ]
  },
  {
   "cell_type": "code",
   "execution_count": 5,
   "metadata": {},
   "outputs": [
    {
     "name": "stdout",
     "output_type": "stream",
     "text": [
      "Total number of datapoints: 6627\n",
      "Number of datapoints in the training set: 4638\n",
      "Number of datapoints in the validation set: 663\n",
      "Number of datapoints in the test set: 1326\n"
     ]
    }
   ],
   "source": [
    "from sklearn.model_selection import train_test_split\n",
    "\n",
    "#training data is 70%, 30% of dataset is a temporary one which will be further split\n",
    "X_train, X_temp, y_train, y_temp = train_test_split(features_bal, target_bal, test_size = 0.3, random_state = 42) \n",
    "\n",
    "#splitting the temp dataset into validation and testing data\n",
    "X_test, X_val, y_test, y_val = train_test_split(X_temp, y_temp, test_size=10/30, random_state=42)\n",
    "\n",
    "#checking split\n",
    "print(\"Total number of datapoints: \"+str(features_bal.shape[0]))\n",
    "print(\"Number of datapoints in the training set: \"+str(X_train.shape[0]))\n",
    "print(\"Number of datapoints in the validation set: \"+str(X_val.shape[0]))\n",
    "print(\"Number of datapoints in the test set: \"+str(X_test.shape[0]))\n"
   ]
  },
  {
   "cell_type": "markdown",
   "metadata": {},
   "source": [
    "**K-nearest neighbours (KNN) Algorithm**"
   ]
  },
  {
   "cell_type": "markdown",
   "metadata": {},
   "source": [
    "To ensure that all features equally contribute to the computation of distances, when KNN is applied, we need to standardise them"
   ]
  },
  {
   "cell_type": "code",
   "execution_count": 6,
   "metadata": {},
   "outputs": [
    {
     "name": "stdout",
     "output_type": "stream",
     "text": [
      "feature:  1 - Mean: 0.0 - Std: 1.000 - Min: -1.320 - Max: 2.153\n",
      "feature:  2 - Mean: -0.0 - Std: 1.000 - Min: -2.073 - Max: 2.428\n",
      "feature:  3 - Mean: -0.0 - Std: 1.000 - Min: -1.680 - Max: 3.752\n",
      "feature:  4 - Mean: 0.0 - Std: 1.000 - Min: -2.801 - Max: 2.506\n",
      "feature:  5 - Mean: 0.0 - Std: 1.000 - Min: -1.962 - Max: 2.613\n",
      "feature:  6 - Mean: 0.0 - Std: 1.000 - Min: -4.303 - Max: 4.950\n",
      "feature:  7 - Mean: 0.0 - Std: 1.000 - Min: -1.761 - Max: 8.124\n",
      "feature:  8 - Mean: -0.0 - Std: 1.000 - Min: -1.882 - Max: 6.845\n"
     ]
    }
   ],
   "source": [
    "from sklearn.preprocessing import StandardScaler\n",
    "import numpy as np\n",
    "\n",
    "#fit the standardscaler on the training data and use it to transform the validation and test data\n",
    "#learn the statistics from the training data - mean and stdev of the training data to scale the training, valid and test data as well\n",
    "scaler = StandardScaler()\n",
    "#does the fit and transform in one step\n",
    "X_train = scaler.fit_transform(X_train)\n",
    "\n",
    "X_val = scaler.transform(X_val)\n",
    "X_test = scaler.transform(X_test)\n",
    "\n",
    "for i in range(X_train.shape[1]):\n",
    "  print(\"feature: %2d - Mean: %.1f - Std: %.3f - Min: %.3f - Max: %.3f\" % (i+ 1,  np.mean(X_train[:,i]), np.std(X_train[:,i]), np.min(X_train[:,i]), np.max(X_train[:,i])))"
   ]
  },
  {
   "cell_type": "markdown",
   "metadata": {},
   "source": [
    "Chosing k based on the accuracy of the predictor on the validation data, and trying three different metrics"
   ]
  },
  {
   "cell_type": "code",
   "execution_count": 7,
   "metadata": {},
   "outputs": [],
   "source": [
    "from sklearn.neighbors import KNeighborsClassifier\n",
    "from sklearn.metrics import accuracy_score\n",
    "import matplotlib.pyplot as plt\n",
    "\n",
    "#try these values of k\n",
    "num_neighbours = [1, 3, 5, 7, 9, 11, 13, 15, 21, 27, 31, 45, 65, 131]\n",
    "#store performances for each of the classifiers in this empty list\n",
    "performance_euclidean = []\n",
    "\n",
    "for k in num_neighbours:\n",
    "  clf = KNeighborsClassifier(n_neighbors=k, metric='euclidean')\n",
    "  clf.fit(X_train, y_train)\n",
    "  \n",
    "  #make predictions on validation and check performance on it\n",
    "  y_pred = clf.predict(X_val)\n",
    "  acc = accuracy_score(y_val, y_pred)\n",
    "  performance_euclidean.append(acc)\n",
    "\n",
    "performance_manhattan = []\n",
    "for k in num_neighbours:\n",
    "  clf = KNeighborsClassifier(n_neighbors=k, metric='manhattan')\n",
    "  clf.fit(X_train, y_train)\n",
    "  \n",
    "  #make predictions on validation and check performance on it\n",
    "  y_pred = clf.predict(X_val)\n",
    "  acc = accuracy_score(y_val, y_pred)\n",
    "  performance_manhattan.append(acc)\n",
    "\n",
    "\n",
    "performance_cosine = []\n",
    "for k in num_neighbours:\n",
    "  clf = KNeighborsClassifier(n_neighbors=k, metric='cosine')\n",
    "  clf.fit(X_train, y_train)\n",
    "  \n",
    "  #make predictions on validation and check performance on it\n",
    "  y_pred = clf.predict(X_val)\n",
    "  acc = accuracy_score(y_val, y_pred)\n",
    "  performance_cosine.append(acc)\n"
   ]
  },
  {
   "cell_type": "code",
   "execution_count": 8,
   "metadata": {},
   "outputs": [
    {
     "data": {
      "text/plain": [
       "<matplotlib.legend.Legend at 0x206bd0291b0>"
      ]
     },
     "execution_count": 8,
     "metadata": {},
     "output_type": "execute_result"
    },
    {
     "data": {
      "image/png": "[encoded data removed]",
      "text/plain": [
       "<Figure size 640x480 with 1 Axes>"
      ]
     },
     "metadata": {},
     "output_type": "display_data"
    }
   ],
   "source": [
    "plt.plot(num_neighbours, performance_euclidean, '-b', label = 'Euclidean metric')\n",
    "plt.plot(num_neighbours, performance_manhattan, '-g', label = 'Manhattan metric')\n",
    "plt.plot(num_neighbours, performance_cosine, '-k', label = 'Cosine metric')\n",
    "plt.grid(True)\n",
    "plt.legend()"
   ]
  },
  {
   "cell_type": "markdown",
   "metadata": {},
   "source": [
    "k=1 makes sense, a good approach is to start off with k = sqrt(n)/2 - sqrt(8)/2 ~ 1.4\n",
    "\n",
    "Although, k=1 is usually a case for overfitting, but with the few features we have it might make sense"
   ]
  },
  {
   "cell_type": "markdown",
   "metadata": {},
   "source": [
    "keeping k=1, now we can make predictions on the test data, at the moment checking also the metric"
   ]
  },
  {
   "cell_type": "code",
   "execution_count": 9,
   "metadata": {},
   "outputs": [
    {
     "name": "stdout",
     "output_type": "stream",
     "text": [
      "\n",
      "Classification Report for Manhattan Metric:\n",
      "              precision    recall  f1-score   support\n",
      "\n",
      "     Dropout       0.83      0.81      0.82       463\n",
      "    Enrolled       0.73      0.83      0.78       432\n",
      "    Graduate       0.80      0.71      0.75       431\n",
      "\n",
      "    accuracy                           0.78      1326\n",
      "   macro avg       0.79      0.78      0.78      1326\n",
      "weighted avg       0.79      0.78      0.78      1326\n",
      "\n"
     ]
    }
   ],
   "source": [
    "from sklearn.metrics import classification_report\n",
    "\n",
    "clf = KNeighborsClassifier(n_neighbors=1, metric='manhattan')\n",
    "clf.fit(X_train, y_train)\n",
    "#validation set was used to find number of k\n",
    "#test set is completely unseens\n",
    "y_pred = clf.predict(X_test)\n",
    "#acc = accuracy_score(y_test, y_pred)\n",
    "\n",
    "#print(\"The performance of the KNN is: %.2f\"%(acc))\n",
    "\n",
    "print(\"\\nClassification Report for Manhattan Metric:\")\n",
    "print(classification_report(y_test, y_pred))"
   ]
  },
  {
   "cell_type": "markdown",
   "metadata": {},
   "source": [
    "changing for euclidian metric"
   ]
  },
  {
   "cell_type": "code",
   "execution_count": 10,
   "metadata": {},
   "outputs": [
    {
     "name": "stdout",
     "output_type": "stream",
     "text": [
      "\n",
      "Classification Report for Euclidean Metric:\n",
      "              precision    recall  f1-score   support\n",
      "\n",
      "     Dropout       0.83      0.80      0.81       463\n",
      "    Enrolled       0.72      0.82      0.77       432\n",
      "    Graduate       0.79      0.71      0.74       431\n",
      "\n",
      "    accuracy                           0.78      1326\n",
      "   macro avg       0.78      0.77      0.77      1326\n",
      "weighted avg       0.78      0.78      0.78      1326\n",
      "\n"
     ]
    }
   ],
   "source": [
    "clf = KNeighborsClassifier(n_neighbors=1, metric='euclidean')\n",
    "clf.fit(X_train, y_train)\n",
    "\n",
    "y_pred = clf.predict(X_test)\n",
    "\n",
    "print(\"\\nClassification Report for Euclidean Metric:\")\n",
    "print(classification_report(y_test, y_pred))"
   ]
  },
  {
   "cell_type": "code",
   "execution_count": 11,
   "metadata": {},
   "outputs": [
    {
     "name": "stdout",
     "output_type": "stream",
     "text": [
      "\n",
      "Classification Report for Cosine Metric:\n",
      "              precision    recall  f1-score   support\n",
      "\n",
      "     Dropout       0.83      0.79      0.81       463\n",
      "    Enrolled       0.73      0.83      0.77       432\n",
      "    Graduate       0.79      0.71      0.75       431\n",
      "\n",
      "    accuracy                           0.78      1326\n",
      "   macro avg       0.78      0.78      0.78      1326\n",
      "weighted avg       0.78      0.78      0.78      1326\n",
      "\n"
     ]
    }
   ],
   "source": [
    "clf = KNeighborsClassifier(n_neighbors=1, metric='cosine')\n",
    "clf.fit(X_train, y_train)\n",
    "\n",
    "y_pred = clf.predict(X_test)\n",
    "\n",
    "print(\"\\nClassification Report for Cosine Metric:\")\n",
    "print(classification_report(y_test, y_pred))"
   ]
  },
  {
   "cell_type": "markdown",
   "metadata": {},
   "source": [
    "running the manhattan distance again since it is slightly better and keeping that data stored"
   ]
  },
  {
   "cell_type": "code",
   "execution_count": 12,
   "metadata": {},
   "outputs": [
    {
     "name": "stdout",
     "output_type": "stream",
     "text": [
      "\n",
      "Classification Report for Manhattan Metric:\n",
      "              precision    recall  f1-score   support\n",
      "\n",
      "     Dropout       0.83      0.81      0.82       463\n",
      "    Enrolled       0.73      0.83      0.78       432\n",
      "    Graduate       0.80      0.71      0.75       431\n",
      "\n",
      "    accuracy                           0.78      1326\n",
      "   macro avg       0.79      0.78      0.78      1326\n",
      "weighted avg       0.79      0.78      0.78      1326\n",
      "\n"
     ]
    }
   ],
   "source": [
    "clf = KNeighborsClassifier(n_neighbors=1, metric='manhattan')\n",
    "clf.fit(X_train, y_train)\n",
    "\n",
    "y_pred = clf.predict(X_test)\n",
    "\n",
    "print(\"\\nClassification Report for Manhattan Metric:\")\n",
    "print(classification_report(y_test, y_pred))"
   ]
  },
  {
   "cell_type": "markdown",
   "metadata": {},
   "source": [
    "Confusion matrix to show the actual classes vs the predicted classes based on the test data"
   ]
  },
  {
   "cell_type": "code",
   "execution_count": 13,
   "metadata": {},
   "outputs": [
    {
     "data": {
      "image/png": "[encoded data removed]",
      "text/plain": [
       "<Figure size 640x480 with 2 Axes>"
      ]
     },
     "metadata": {},
     "output_type": "display_data"
    }
   ],
   "source": [
    "from sklearn.metrics import confusion_matrix, ConfusionMatrixDisplay\n",
    "\n",
    "cm = confusion_matrix(y_test, y_pred, labels=clf.classes_)\n",
    "disp = ConfusionMatrixDisplay(confusion_matrix=cm, display_labels=clf.classes_)\n",
    "disp.plot()\n",
    "plt.show()"
   ]
  },
  {
   "cell_type": "markdown",
   "metadata": {},
   "source": [
    "Trying the same script but on the reduced dataset of 17 variables + Target variable"
   ]
  },
  {
   "cell_type": "code",
   "execution_count": 14,
   "metadata": {},
   "outputs": [
    {
     "data": {
      "text/html": [
       "<div>\n",
       "<style scoped>\n",
       "    .dataframe tbody tr th:only-of-type {\n",
       "        vertical-align: middle;\n",
       "    }\n",
       "\n",
       "    .dataframe tbody tr th {\n",
       "        vertical-align: top;\n",
       "    }\n",
       "\n",
       "    .dataframe thead th {\n",
       "        text-align: right;\n",
       "    }\n",
       "</style>\n",
       "<table border=\"1\" class=\"dataframe\">\n",
       "  <thead>\n",
       "    <tr style=\"text-align: right;\">\n",
       "      <th></th>\n",
       "      <th>marital_status</th>\n",
       "      <th>course</th>\n",
       "      <th>nationality</th>\n",
       "      <th>father_qualif</th>\n",
       "      <th>mother_occ</th>\n",
       "      <th>admission_grade</th>\n",
       "      <th>tuition_fees_up_to_date</th>\n",
       "      <th>scholarship</th>\n",
       "      <th>age_at_enrollment</th>\n",
       "      <th>units_1_credited</th>\n",
       "      <th>units_1_approved</th>\n",
       "      <th>units_2_enrolled</th>\n",
       "      <th>units_2_evaluations</th>\n",
       "      <th>units_2_approved</th>\n",
       "      <th>units_2_no_evaluations</th>\n",
       "      <th>unemployment_rate</th>\n",
       "      <th>inflation_rate</th>\n",
       "      <th>target</th>\n",
       "    </tr>\n",
       "  </thead>\n",
       "  <tbody>\n",
       "    <tr>\n",
       "      <th>0</th>\n",
       "      <td>1</td>\n",
       "      <td>171</td>\n",
       "      <td>1</td>\n",
       "      <td>12</td>\n",
       "      <td>5</td>\n",
       "      <td>127.3</td>\n",
       "      <td>1</td>\n",
       "      <td>0</td>\n",
       "      <td>20</td>\n",
       "      <td>0</td>\n",
       "      <td>0</td>\n",
       "      <td>0</td>\n",
       "      <td>0</td>\n",
       "      <td>0</td>\n",
       "      <td>0</td>\n",
       "      <td>10.8</td>\n",
       "      <td>1.4</td>\n",
       "      <td>Dropout</td>\n",
       "    </tr>\n",
       "    <tr>\n",
       "      <th>1</th>\n",
       "      <td>1</td>\n",
       "      <td>9254</td>\n",
       "      <td>1</td>\n",
       "      <td>3</td>\n",
       "      <td>3</td>\n",
       "      <td>142.5</td>\n",
       "      <td>0</td>\n",
       "      <td>0</td>\n",
       "      <td>19</td>\n",
       "      <td>0</td>\n",
       "      <td>6</td>\n",
       "      <td>6</td>\n",
       "      <td>6</td>\n",
       "      <td>6</td>\n",
       "      <td>0</td>\n",
       "      <td>13.9</td>\n",
       "      <td>-0.3</td>\n",
       "      <td>Graduate</td>\n",
       "    </tr>\n",
       "    <tr>\n",
       "      <th>2</th>\n",
       "      <td>1</td>\n",
       "      <td>9070</td>\n",
       "      <td>1</td>\n",
       "      <td>37</td>\n",
       "      <td>9</td>\n",
       "      <td>124.8</td>\n",
       "      <td>0</td>\n",
       "      <td>0</td>\n",
       "      <td>19</td>\n",
       "      <td>0</td>\n",
       "      <td>0</td>\n",
       "      <td>6</td>\n",
       "      <td>0</td>\n",
       "      <td>0</td>\n",
       "      <td>0</td>\n",
       "      <td>10.8</td>\n",
       "      <td>1.4</td>\n",
       "      <td>Dropout</td>\n",
       "    </tr>\n",
       "    <tr>\n",
       "      <th>3</th>\n",
       "      <td>1</td>\n",
       "      <td>9773</td>\n",
       "      <td>1</td>\n",
       "      <td>37</td>\n",
       "      <td>5</td>\n",
       "      <td>119.6</td>\n",
       "      <td>1</td>\n",
       "      <td>0</td>\n",
       "      <td>20</td>\n",
       "      <td>0</td>\n",
       "      <td>6</td>\n",
       "      <td>6</td>\n",
       "      <td>10</td>\n",
       "      <td>5</td>\n",
       "      <td>0</td>\n",
       "      <td>9.4</td>\n",
       "      <td>-0.8</td>\n",
       "      <td>Graduate</td>\n",
       "    </tr>\n",
       "    <tr>\n",
       "      <th>4</th>\n",
       "      <td>2</td>\n",
       "      <td>8014</td>\n",
       "      <td>1</td>\n",
       "      <td>38</td>\n",
       "      <td>9</td>\n",
       "      <td>141.5</td>\n",
       "      <td>1</td>\n",
       "      <td>0</td>\n",
       "      <td>45</td>\n",
       "      <td>0</td>\n",
       "      <td>5</td>\n",
       "      <td>6</td>\n",
       "      <td>6</td>\n",
       "      <td>6</td>\n",
       "      <td>0</td>\n",
       "      <td>13.9</td>\n",
       "      <td>-0.3</td>\n",
       "      <td>Graduate</td>\n",
       "    </tr>\n",
       "    <tr>\n",
       "      <th>...</th>\n",
       "      <td>...</td>\n",
       "      <td>...</td>\n",
       "      <td>...</td>\n",
       "      <td>...</td>\n",
       "      <td>...</td>\n",
       "      <td>...</td>\n",
       "      <td>...</td>\n",
       "      <td>...</td>\n",
       "      <td>...</td>\n",
       "      <td>...</td>\n",
       "      <td>...</td>\n",
       "      <td>...</td>\n",
       "      <td>...</td>\n",
       "      <td>...</td>\n",
       "      <td>...</td>\n",
       "      <td>...</td>\n",
       "      <td>...</td>\n",
       "      <td>...</td>\n",
       "    </tr>\n",
       "    <tr>\n",
       "      <th>4419</th>\n",
       "      <td>1</td>\n",
       "      <td>9773</td>\n",
       "      <td>1</td>\n",
       "      <td>1</td>\n",
       "      <td>5</td>\n",
       "      <td>122.2</td>\n",
       "      <td>1</td>\n",
       "      <td>0</td>\n",
       "      <td>19</td>\n",
       "      <td>0</td>\n",
       "      <td>5</td>\n",
       "      <td>6</td>\n",
       "      <td>8</td>\n",
       "      <td>5</td>\n",
       "      <td>0</td>\n",
       "      <td>15.5</td>\n",
       "      <td>2.8</td>\n",
       "      <td>Graduate</td>\n",
       "    </tr>\n",
       "    <tr>\n",
       "      <th>4420</th>\n",
       "      <td>1</td>\n",
       "      <td>9773</td>\n",
       "      <td>105</td>\n",
       "      <td>1</td>\n",
       "      <td>9</td>\n",
       "      <td>119.0</td>\n",
       "      <td>0</td>\n",
       "      <td>0</td>\n",
       "      <td>18</td>\n",
       "      <td>0</td>\n",
       "      <td>6</td>\n",
       "      <td>6</td>\n",
       "      <td>6</td>\n",
       "      <td>2</td>\n",
       "      <td>0</td>\n",
       "      <td>11.1</td>\n",
       "      <td>0.6</td>\n",
       "      <td>Dropout</td>\n",
       "    </tr>\n",
       "    <tr>\n",
       "      <th>4421</th>\n",
       "      <td>1</td>\n",
       "      <td>9500</td>\n",
       "      <td>1</td>\n",
       "      <td>37</td>\n",
       "      <td>9</td>\n",
       "      <td>149.5</td>\n",
       "      <td>1</td>\n",
       "      <td>1</td>\n",
       "      <td>30</td>\n",
       "      <td>0</td>\n",
       "      <td>7</td>\n",
       "      <td>8</td>\n",
       "      <td>9</td>\n",
       "      <td>1</td>\n",
       "      <td>0</td>\n",
       "      <td>13.9</td>\n",
       "      <td>-0.3</td>\n",
       "      <td>Dropout</td>\n",
       "    </tr>\n",
       "    <tr>\n",
       "      <th>4422</th>\n",
       "      <td>1</td>\n",
       "      <td>9147</td>\n",
       "      <td>1</td>\n",
       "      <td>37</td>\n",
       "      <td>7</td>\n",
       "      <td>153.8</td>\n",
       "      <td>1</td>\n",
       "      <td>1</td>\n",
       "      <td>20</td>\n",
       "      <td>0</td>\n",
       "      <td>5</td>\n",
       "      <td>5</td>\n",
       "      <td>6</td>\n",
       "      <td>5</td>\n",
       "      <td>0</td>\n",
       "      <td>9.4</td>\n",
       "      <td>-0.8</td>\n",
       "      <td>Graduate</td>\n",
       "    </tr>\n",
       "    <tr>\n",
       "      <th>4423</th>\n",
       "      <td>1</td>\n",
       "      <td>9773</td>\n",
       "      <td>22</td>\n",
       "      <td>37</td>\n",
       "      <td>5</td>\n",
       "      <td>152.0</td>\n",
       "      <td>1</td>\n",
       "      <td>0</td>\n",
       "      <td>22</td>\n",
       "      <td>0</td>\n",
       "      <td>6</td>\n",
       "      <td>6</td>\n",
       "      <td>6</td>\n",
       "      <td>6</td>\n",
       "      <td>0</td>\n",
       "      <td>12.7</td>\n",
       "      <td>3.7</td>\n",
       "      <td>Graduate</td>\n",
       "    </tr>\n",
       "  </tbody>\n",
       "</table>\n",
       "<p>4424 rows × 18 columns</p>\n",
       "</div>"
      ],
      "text/plain": [
       "      marital_status  course  nationality  father_qualif  mother_occ  \\\n",
       "0                  1     171            1             12           5   \n",
       "1                  1    9254            1              3           3   \n",
       "2                  1    9070            1             37           9   \n",
       "3                  1    9773            1             37           5   \n",
       "4                  2    8014            1             38           9   \n",
       "...              ...     ...          ...            ...         ...   \n",
       "4419               1    9773            1              1           5   \n",
       "4420               1    9773          105              1           9   \n",
       "4421               1    9500            1             37           9   \n",
       "4422               1    9147            1             37           7   \n",
       "4423               1    9773           22             37           5   \n",
       "\n",
       "      admission_grade  tuition_fees_up_to_date  scholarship  \\\n",
       "0               127.3                        1            0   \n",
       "1               142.5                        0            0   \n",
       "2               124.8                        0            0   \n",
       "3               119.6                        1            0   \n",
       "4               141.5                        1            0   \n",
       "...               ...                      ...          ...   \n",
       "4419            122.2                        1            0   \n",
       "4420            119.0                        0            0   \n",
       "4421            149.5                        1            1   \n",
       "4422            153.8                        1            1   \n",
       "4423            152.0                        1            0   \n",
       "\n",
       "      age_at_enrollment  units_1_credited  units_1_approved  units_2_enrolled  \\\n",
       "0                    20                 0                 0                 0   \n",
       "1                    19                 0                 6                 6   \n",
       "2                    19                 0                 0                 6   \n",
       "3                    20                 0                 6                 6   \n",
       "4                    45                 0                 5                 6   \n",
       "...                 ...               ...               ...               ...   \n",
       "4419                 19                 0                 5                 6   \n",
       "4420                 18                 0                 6                 6   \n",
       "4421                 30                 0                 7                 8   \n",
       "4422                 20                 0                 5                 5   \n",
       "4423                 22                 0                 6                 6   \n",
       "\n",
       "      units_2_evaluations  units_2_approved  units_2_no_evaluations  \\\n",
       "0                       0                 0                       0   \n",
       "1                       6                 6                       0   \n",
       "2                       0                 0                       0   \n",
       "3                      10                 5                       0   \n",
       "4                       6                 6                       0   \n",
       "...                   ...               ...                     ...   \n",
       "4419                    8                 5                       0   \n",
       "4420                    6                 2                       0   \n",
       "4421                    9                 1                       0   \n",
       "4422                    6                 5                       0   \n",
       "4423                    6                 6                       0   \n",
       "\n",
       "      unemployment_rate  inflation_rate    target  \n",
       "0                  10.8             1.4   Dropout  \n",
       "1                  13.9            -0.3  Graduate  \n",
       "2                  10.8             1.4   Dropout  \n",
       "3                   9.4            -0.8  Graduate  \n",
       "4                  13.9            -0.3  Graduate  \n",
       "...                 ...             ...       ...  \n",
       "4419               15.5             2.8  Graduate  \n",
       "4420               11.1             0.6   Dropout  \n",
       "4421               13.9            -0.3   Dropout  \n",
       "4422                9.4            -0.8  Graduate  \n",
       "4423               12.7             3.7  Graduate  \n",
       "\n",
       "[4424 rows x 18 columns]"
      ]
     },
     "execution_count": 14,
     "metadata": {},
     "output_type": "execute_result"
    }
   ],
   "source": [
    "data_nonpca = pd.read_csv(\"Data_selected_pred.csv\")\n",
    "data_nonpca"
   ]
  },
  {
   "cell_type": "code",
   "execution_count": 15,
   "metadata": {},
   "outputs": [
    {
     "data": {
      "text/plain": [
       "Graduate    2209\n",
       "Dropout     1421\n",
       "Enrolled     794\n",
       "Name: target, dtype: int64"
      ]
     },
     "execution_count": 15,
     "metadata": {},
     "output_type": "execute_result"
    }
   ],
   "source": [
    "features_nonpca = data_nonpca.drop(['target'], axis = 1)\n",
    "\n",
    "target_nonpca = data_nonpca['target']\n",
    "target_nonpca.value_counts()"
   ]
  },
  {
   "cell_type": "code",
   "execution_count": 16,
   "metadata": {},
   "outputs": [
    {
     "data": {
      "text/plain": [
       "<function matplotlib.pyplot.show(close=None, block=None)>"
      ]
     },
     "execution_count": 16,
     "metadata": {},
     "output_type": "execute_result"
    },
    {
     "data": {
      "image/png": "[encoded data removed]",
      "text/plain": [
       "<Figure size 640x480 with 1 Axes>"
      ]
     },
     "metadata": {},
     "output_type": "display_data"
    }
   ],
   "source": [
    "count_class = target_nonpca.value_counts()\n",
    "plt.bar(count_class.index, count_class.values)\n",
    "plt.xlabel(\"Target Classes\")\n",
    "plt.ylabel(\"Count\")\n",
    "plt.show"
   ]
  },
  {
   "cell_type": "code",
   "execution_count": 17,
   "metadata": {},
   "outputs": [
    {
     "data": {
      "text/plain": [
       "Dropout     2209\n",
       "Graduate    2209\n",
       "Enrolled    2209\n",
       "Name: target, dtype: int64"
      ]
     },
     "execution_count": 17,
     "metadata": {},
     "output_type": "execute_result"
    }
   ],
   "source": [
    "from imblearn.over_sampling import SMOTE\n",
    "\n",
    "#setting the seed for reproducibility\n",
    "smote = SMOTE(sampling_strategy=\"minority\", random_state=42) #taking the minority approach to generate synthetic values for the minority class.\n",
    "\n",
    "features_nonpca_bal,target_nonpca_bal = smote.fit_resample(features_nonpca, target_nonpca)\n",
    "target_nonpca.value_counts()\n",
    "\n",
    "#repeat again since there are three classes and 2 are undersampled\n",
    "features_nonpca_bal,target_nonpca_bal = smote.fit_resample(features_nonpca_bal, target_nonpca_bal)\n",
    "target_nonpca_bal.value_counts()"
   ]
  },
  {
   "cell_type": "code",
   "execution_count": 18,
   "metadata": {},
   "outputs": [
    {
     "name": "stdout",
     "output_type": "stream",
     "text": [
      "Total number of datapoints: 6627\n",
      "Number of datapoints in the training set: 4638\n",
      "Number of datapoints in the validation set: 663\n",
      "Number of datapoints in the test set: 1326\n"
     ]
    }
   ],
   "source": [
    "#training data is 70%, 30% of dataset is a temporary one which will be further split\n",
    "Xnp_train, Xnp_temp, ynp_train, ynp_temp = train_test_split(features_nonpca_bal, target_nonpca_bal, test_size = 0.3, random_state = 42) \n",
    "\n",
    "#splitting the temp dataset into validation and testing data\n",
    "Xnp_test, Xnp_val, ynp_test, ynp_val = train_test_split(Xnp_temp, ynp_temp, test_size=10/30, random_state=42)\n",
    "\n",
    "#checking split\n",
    "print(\"Total number of datapoints: \"+str(features_nonpca_bal.shape[0]))\n",
    "print(\"Number of datapoints in the training set: \"+str(Xnp_train.shape[0]))\n",
    "print(\"Number of datapoints in the validation set: \"+str(Xnp_val.shape[0]))\n",
    "print(\"Number of datapoints in the test set: \"+str(Xnp_test.shape[0]))"
   ]
  },
  {
   "cell_type": "code",
   "execution_count": 19,
   "metadata": {},
   "outputs": [
    {
     "name": "stdout",
     "output_type": "stream",
     "text": [
      "feature:  1 - Mean: 0.0 - Std: 1.000 - Min: -0.277 - Max: 8.828\n",
      "feature:  2 - Mean: 0.0 - Std: 1.000 - Min: -4.260 - Max: 0.552\n",
      "feature:  3 - Mean: 0.0 - Std: 1.000 - Min: -0.130 - Max: 17.267\n",
      "feature:  4 - Mean: 0.0 - Std: 1.000 - Min: -1.388 - Max: 1.421\n",
      "feature:  5 - Mean: 0.0 - Std: 1.000 - Min: -0.409 - Max: 6.831\n",
      "feature:  6 - Mean: -0.0 - Std: 1.000 - Min: -2.262 - Max: 4.580\n",
      "feature:  7 - Mean: 0.0 - Std: 1.000 - Min: -2.254 - Max: 0.444\n",
      "feature:  8 - Mean: -0.0 - Std: 1.000 - Min: -0.468 - Max: 2.137\n",
      "feature:  9 - Mean: -0.0 - Std: 1.000 - Min: -0.821 - Max: 6.283\n",
      "feature: 10 - Mean: 0.0 - Std: 1.000 - Min: -0.275 - Max: 9.433\n",
      "feature: 11 - Mean: -0.0 - Std: 1.000 - Min: -1.443 - Max: 7.480\n",
      "feature: 12 - Mean: 0.0 - Std: 1.000 - Min: -2.949 - Max: 8.311\n",
      "feature: 13 - Mean: 0.0 - Std: 1.000 - Min: -2.112 - Max: 6.496\n",
      "feature: 14 - Mean: 0.0 - Std: 1.000 - Min: -1.373 - Max: 5.654\n",
      "feature: 15 - Mean: -0.0 - Std: 1.000 - Min: -0.210 - Max: 17.406\n",
      "feature: 16 - Mean: -0.0 - Std: 1.000 - Min: -1.508 - Max: 1.852\n",
      "feature: 17 - Mean: -0.0 - Std: 1.000 - Min: -1.565 - Max: 1.876\n"
     ]
    }
   ],
   "source": [
    "#fit the standardscaler on the training data and use it to transform the validation and test data\n",
    "#learn the statistics from the training data - mean and stdev of the training data to scale the training, valid and test data as well\n",
    "scaler = StandardScaler()\n",
    "#does the fit and transform in one step\n",
    "Xnp_train = scaler.fit_transform(Xnp_train)\n",
    "\n",
    "Xnp_val = scaler.transform(Xnp_val)\n",
    "Xnp_test = scaler.transform(Xnp_test)\n",
    "\n",
    "for i in range(Xnp_train.shape[1]):\n",
    "  print(\"feature: %2d - Mean: %.1f - Std: %.3f - Min: %.3f - Max: %.3f\" % (i+ 1,  np.mean(Xnp_train[:,i]), np.std(Xnp_train[:,i]), np.min(Xnp_train[:,i]), np.max(Xnp_train[:,i])))"
   ]
  },
  {
   "cell_type": "code",
   "execution_count": 20,
   "metadata": {},
   "outputs": [],
   "source": [
    "#try these values of k\n",
    "num_np_neighbours = [1, 3, 5, 7, 9, 11, 13, 15, 17, 19]\n",
    "#store performances for each of the classifiers in this empty list\n",
    "performance_np_euclidean = []\n",
    "\n",
    "for k in num_np_neighbours:\n",
    "  clf_np = KNeighborsClassifier(n_neighbors=k, metric='euclidean')\n",
    "  clf_np.fit(Xnp_train, ynp_train)\n",
    "  \n",
    "  #make predictions on validation and check performance on it\n",
    "  ynp_pred = clf_np.predict(Xnp_val)\n",
    "  acc_np = accuracy_score(ynp_val, ynp_pred)\n",
    "  performance_np_euclidean.append(acc_np)\n",
    "\n",
    "performance_np_manhattan = []\n",
    "for k in num_np_neighbours:\n",
    "  clf_np = KNeighborsClassifier(n_neighbors=k, metric='manhattan')\n",
    "  clf_np.fit(Xnp_train, ynp_train)\n",
    "  \n",
    "  #make predictions on validation and check performance on it\n",
    "  ynp_pred = clf_np.predict(Xnp_val)\n",
    "  acc_np = accuracy_score(ynp_val, ynp_pred)\n",
    "  performance_np_manhattan.append(acc_np)\n",
    "\n",
    "\n",
    "performance_np_cosine = []\n",
    "for k in num_np_neighbours:\n",
    "  clf_np = KNeighborsClassifier(n_neighbors=k, metric='cosine')\n",
    "  clf_np.fit(Xnp_train, ynp_train)\n",
    "  \n",
    "  #make predictions on validation and check performance on it\n",
    "  ynp_pred = clf_np.predict(Xnp_val)\n",
    "  acc_np = accuracy_score(ynp_val, ynp_pred)\n",
    "  performance_np_cosine.append(acc_np)\n"
   ]
  },
  {
   "cell_type": "code",
   "execution_count": 21,
   "metadata": {},
   "outputs": [
    {
     "data": {
      "text/plain": [
       "<matplotlib.legend.Legend at 0x206c2a87dc0>"
      ]
     },
     "execution_count": 21,
     "metadata": {},
     "output_type": "execute_result"
    },
    {
     "data": {
      "image/png": "[encoded data removed]",
      "text/plain": [
       "<Figure size 640x480 with 1 Axes>"
      ]
     },
     "metadata": {},
     "output_type": "display_data"
    }
   ],
   "source": [
    "plt.plot(num_np_neighbours, performance_np_euclidean, '-b', label = 'Euclidean metric')\n",
    "plt.plot(num_np_neighbours, performance_np_manhattan, '-g', label = 'Manhattan metric')\n",
    "plt.plot(num_np_neighbours, performance_np_cosine, '-k', label = 'Cosine metric')\n",
    "plt.grid(True)\n",
    "plt.legend()"
   ]
  },
  {
   "cell_type": "markdown",
   "metadata": {},
   "source": [
    "Clearly, Euclidean metric works better than the other metrics"
   ]
  },
  {
   "cell_type": "code",
   "execution_count": 22,
   "metadata": {},
   "outputs": [
    {
     "data": {
      "text/plain": [
       "True"
      ]
     },
     "execution_count": 22,
     "metadata": {},
     "output_type": "execute_result"
    }
   ],
   "source": [
    "performance_np_manhattan[5]==performance_np_manhattan[7]"
   ]
  },
  {
   "cell_type": "code",
   "execution_count": 23,
   "metadata": {},
   "outputs": [
    {
     "data": {
      "text/plain": [
       "[0.7571644042232277,\n",
       " 0.779788838612368,\n",
       " 0.7767722473604827,\n",
       " 0.7631975867269984,\n",
       " 0.7812971342383107,\n",
       " 0.77526395173454,\n",
       " 0.7812971342383107,\n",
       " 0.77526395173454,\n",
       " 0.7782805429864253,\n",
       " 0.7692307692307693]"
      ]
     },
     "execution_count": 23,
     "metadata": {},
     "output_type": "execute_result"
    }
   ],
   "source": [
    "performance_np_manhattan"
   ]
  },
  {
   "cell_type": "markdown",
   "metadata": {},
   "source": [
    "for non pca variables, can keep k=9 with manhattan metric"
   ]
  },
  {
   "cell_type": "code",
   "execution_count": 24,
   "metadata": {},
   "outputs": [
    {
     "name": "stdout",
     "output_type": "stream",
     "text": [
      "\n",
      "Classification Report for Manhattan Metric:\n",
      "              precision    recall  f1-score   support\n",
      "\n",
      "     Dropout       0.87      0.67      0.75       463\n",
      "    Enrolled       0.67      0.77      0.72       432\n",
      "    Graduate       0.75      0.83      0.79       431\n",
      "\n",
      "    accuracy                           0.75      1326\n",
      "   macro avg       0.76      0.75      0.75      1326\n",
      "weighted avg       0.77      0.75      0.75      1326\n",
      "\n"
     ]
    }
   ],
   "source": [
    "from sklearn.metrics import classification_report\n",
    "\n",
    "clf_np = KNeighborsClassifier(n_neighbors=9, metric='manhattan')\n",
    "clf_np.fit(Xnp_train, ynp_train)\n",
    "#validation set was used to find number of k\n",
    "#test set is completely unseens\n",
    "ynp_pred = clf_np.predict(Xnp_test)\n",
    "\n",
    "print(\"\\nClassification Report for Manhattan Metric:\")\n",
    "print(classification_report(ynp_test, ynp_pred))"
   ]
  },
  {
   "cell_type": "code",
   "execution_count": 25,
   "metadata": {},
   "outputs": [
    {
     "data": {
      "image/png": "[encoded data removed]",
      "text/plain": [
       "<Figure size 640x480 with 2 Axes>"
      ]
     },
     "metadata": {},
     "output_type": "display_data"
    }
   ],
   "source": [
    "cm_np = confusion_matrix(ynp_test, ynp_pred, labels=clf_np.classes_)\n",
    "disp = ConfusionMatrixDisplay(confusion_matrix=cm_np, display_labels=clf_np.classes_)\n",
    "disp.plot()\n",
    "plt.show()"
   ]
  },
  {
   "cell_type": "markdown",
   "metadata": {},
   "source": [
    "accuracy here is better and without having gone through PCA"
   ]
  }
 ],
 "metadata": {
  "kernelspec": {
   "display_name": "base",
   "language": "python",
   "name": "python3"
  },
  "language_info": {
   "codemirror_mode": {
    "name": "ipython",
    "version": 3
   },
   "file_extension": ".py",
   "mimetype": "text/x-python",
   "name": "python",
   "nbconvert_exporter": "python",
   "pygments_lexer": "ipython3",
   "version": "3.10.16"
  }
 },
 "nbformat": 4,
 "nbformat_minor": 2
}
