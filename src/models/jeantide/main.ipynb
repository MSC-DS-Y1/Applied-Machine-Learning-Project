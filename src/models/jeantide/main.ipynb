{
 "cells": [
  {
   "cell_type": "code",
   "execution_count": 1,
   "metadata": {},
   "outputs": [
    {
     "data": {
      "text/html": [
       "<div>\n",
       "<style scoped>\n",
       "    .dataframe tbody tr th:only-of-type {\n",
       "        vertical-align: middle;\n",
       "    }\n",
       "\n",
       "    .dataframe tbody tr th {\n",
       "        vertical-align: top;\n",
       "    }\n",
       "\n",
       "    .dataframe thead th {\n",
       "        text-align: right;\n",
       "    }\n",
       "</style>\n",
       "<table border=\"1\" class=\"dataframe\">\n",
       "  <thead>\n",
       "    <tr style=\"text-align: right;\">\n",
       "      <th></th>\n",
       "      <th>PC1</th>\n",
       "      <th>PC2</th>\n",
       "      <th>PC3</th>\n",
       "      <th>PC4</th>\n",
       "      <th>PC5</th>\n",
       "      <th>PC6</th>\n",
       "      <th>PC7</th>\n",
       "      <th>PC8</th>\n",
       "      <th>PC9</th>\n",
       "      <th>PC10</th>\n",
       "      <th>PC11</th>\n",
       "      <th>PC12</th>\n",
       "      <th>PC13</th>\n",
       "      <th>PC14</th>\n",
       "      <th>Target</th>\n",
       "    </tr>\n",
       "  </thead>\n",
       "  <tbody>\n",
       "    <tr>\n",
       "      <th>0</th>\n",
       "      <td>-4.362150</td>\n",
       "      <td>-1.007771</td>\n",
       "      <td>-2.563540</td>\n",
       "      <td>1.331845</td>\n",
       "      <td>-1.075936</td>\n",
       "      <td>-1.368674</td>\n",
       "      <td>-0.191537</td>\n",
       "      <td>-0.373345</td>\n",
       "      <td>-0.803115</td>\n",
       "      <td>0.837092</td>\n",
       "      <td>1.623067</td>\n",
       "      <td>-0.261753</td>\n",
       "      <td>0.235638</td>\n",
       "      <td>-0.326818</td>\n",
       "      <td>Dropout</td>\n",
       "    </tr>\n",
       "    <tr>\n",
       "      <th>1</th>\n",
       "      <td>-0.241665</td>\n",
       "      <td>-0.291954</td>\n",
       "      <td>-1.576865</td>\n",
       "      <td>-1.195618</td>\n",
       "      <td>1.024771</td>\n",
       "      <td>0.349829</td>\n",
       "      <td>-0.015485</td>\n",
       "      <td>-0.468722</td>\n",
       "      <td>-0.327269</td>\n",
       "      <td>0.175780</td>\n",
       "      <td>-2.409748</td>\n",
       "      <td>-0.823892</td>\n",
       "      <td>-0.581045</td>\n",
       "      <td>-0.973223</td>\n",
       "      <td>Graduate</td>\n",
       "    </tr>\n",
       "    <tr>\n",
       "      <th>2</th>\n",
       "      <td>-2.704703</td>\n",
       "      <td>0.883059</td>\n",
       "      <td>0.227150</td>\n",
       "      <td>-0.584111</td>\n",
       "      <td>-0.216966</td>\n",
       "      <td>-0.617850</td>\n",
       "      <td>0.370419</td>\n",
       "      <td>0.055970</td>\n",
       "      <td>-1.348930</td>\n",
       "      <td>-0.152507</td>\n",
       "      <td>-2.033690</td>\n",
       "      <td>0.099927</td>\n",
       "      <td>-1.232974</td>\n",
       "      <td>-0.678305</td>\n",
       "      <td>Dropout</td>\n",
       "    </tr>\n",
       "    <tr>\n",
       "      <th>3</th>\n",
       "      <td>0.366266</td>\n",
       "      <td>-0.237005</td>\n",
       "      <td>0.779684</td>\n",
       "      <td>-0.273035</td>\n",
       "      <td>-0.053979</td>\n",
       "      <td>-0.070852</td>\n",
       "      <td>-0.957714</td>\n",
       "      <td>-1.342641</td>\n",
       "      <td>-0.319636</td>\n",
       "      <td>-0.506683</td>\n",
       "      <td>-0.036937</td>\n",
       "      <td>1.136352</td>\n",
       "      <td>0.300461</td>\n",
       "      <td>-0.328121</td>\n",
       "      <td>Graduate</td>\n",
       "    </tr>\n",
       "    <tr>\n",
       "      <th>4</th>\n",
       "      <td>0.002403</td>\n",
       "      <td>2.173728</td>\n",
       "      <td>-0.855346</td>\n",
       "      <td>1.884833</td>\n",
       "      <td>1.329653</td>\n",
       "      <td>0.679385</td>\n",
       "      <td>-0.600227</td>\n",
       "      <td>-0.520670</td>\n",
       "      <td>0.723744</td>\n",
       "      <td>0.238530</td>\n",
       "      <td>0.123345</td>\n",
       "      <td>0.951798</td>\n",
       "      <td>-0.536999</td>\n",
       "      <td>0.329798</td>\n",
       "      <td>Graduate</td>\n",
       "    </tr>\n",
       "    <tr>\n",
       "      <th>...</th>\n",
       "      <td>...</td>\n",
       "      <td>...</td>\n",
       "      <td>...</td>\n",
       "      <td>...</td>\n",
       "      <td>...</td>\n",
       "      <td>...</td>\n",
       "      <td>...</td>\n",
       "      <td>...</td>\n",
       "      <td>...</td>\n",
       "      <td>...</td>\n",
       "      <td>...</td>\n",
       "      <td>...</td>\n",
       "      <td>...</td>\n",
       "      <td>...</td>\n",
       "      <td>...</td>\n",
       "    </tr>\n",
       "    <tr>\n",
       "      <th>6622</th>\n",
       "      <td>0.060873</td>\n",
       "      <td>-1.038330</td>\n",
       "      <td>-0.659588</td>\n",
       "      <td>-0.622870</td>\n",
       "      <td>0.090081</td>\n",
       "      <td>0.225687</td>\n",
       "      <td>0.144346</td>\n",
       "      <td>-0.735628</td>\n",
       "      <td>1.092355</td>\n",
       "      <td>-0.388809</td>\n",
       "      <td>-0.191486</td>\n",
       "      <td>-0.284427</td>\n",
       "      <td>-0.311598</td>\n",
       "      <td>-0.111791</td>\n",
       "      <td>Enrolled</td>\n",
       "    </tr>\n",
       "    <tr>\n",
       "      <th>6623</th>\n",
       "      <td>1.148948</td>\n",
       "      <td>-1.170207</td>\n",
       "      <td>-0.717351</td>\n",
       "      <td>-0.962082</td>\n",
       "      <td>0.870401</td>\n",
       "      <td>0.614360</td>\n",
       "      <td>0.009241</td>\n",
       "      <td>-0.920165</td>\n",
       "      <td>0.642480</td>\n",
       "      <td>0.390729</td>\n",
       "      <td>-0.037445</td>\n",
       "      <td>-0.035594</td>\n",
       "      <td>-0.211604</td>\n",
       "      <td>-0.474668</td>\n",
       "      <td>Enrolled</td>\n",
       "    </tr>\n",
       "    <tr>\n",
       "      <th>6624</th>\n",
       "      <td>-1.002743</td>\n",
       "      <td>0.146619</td>\n",
       "      <td>1.154968</td>\n",
       "      <td>-0.141683</td>\n",
       "      <td>-1.294870</td>\n",
       "      <td>-0.938337</td>\n",
       "      <td>0.429822</td>\n",
       "      <td>-0.098083</td>\n",
       "      <td>0.023849</td>\n",
       "      <td>-0.824973</td>\n",
       "      <td>0.271648</td>\n",
       "      <td>0.682401</td>\n",
       "      <td>0.797084</td>\n",
       "      <td>0.081801</td>\n",
       "      <td>Enrolled</td>\n",
       "    </tr>\n",
       "    <tr>\n",
       "      <th>6625</th>\n",
       "      <td>-0.388730</td>\n",
       "      <td>1.818346</td>\n",
       "      <td>0.501319</td>\n",
       "      <td>1.047079</td>\n",
       "      <td>0.424902</td>\n",
       "      <td>0.603358</td>\n",
       "      <td>-0.964207</td>\n",
       "      <td>-1.525201</td>\n",
       "      <td>0.314041</td>\n",
       "      <td>-0.649624</td>\n",
       "      <td>0.409576</td>\n",
       "      <td>0.568857</td>\n",
       "      <td>-0.749601</td>\n",
       "      <td>-0.016070</td>\n",
       "      <td>Enrolled</td>\n",
       "    </tr>\n",
       "    <tr>\n",
       "      <th>6626</th>\n",
       "      <td>-1.311067</td>\n",
       "      <td>0.165531</td>\n",
       "      <td>-0.989419</td>\n",
       "      <td>-1.531756</td>\n",
       "      <td>-0.396373</td>\n",
       "      <td>-0.378884</td>\n",
       "      <td>0.325120</td>\n",
       "      <td>-0.333634</td>\n",
       "      <td>-0.178589</td>\n",
       "      <td>-0.788813</td>\n",
       "      <td>-2.135803</td>\n",
       "      <td>-1.341024</td>\n",
       "      <td>0.379643</td>\n",
       "      <td>-0.271374</td>\n",
       "      <td>Enrolled</td>\n",
       "    </tr>\n",
       "  </tbody>\n",
       "</table>\n",
       "<p>6627 rows × 15 columns</p>\n",
       "</div>"
      ],
      "text/plain": [
       "           PC1       PC2       PC3       PC4       PC5       PC6       PC7  \\\n",
       "0    -4.362150 -1.007771 -2.563540  1.331845 -1.075936 -1.368674 -0.191537   \n",
       "1    -0.241665 -0.291954 -1.576865 -1.195618  1.024771  0.349829 -0.015485   \n",
       "2    -2.704703  0.883059  0.227150 -0.584111 -0.216966 -0.617850  0.370419   \n",
       "3     0.366266 -0.237005  0.779684 -0.273035 -0.053979 -0.070852 -0.957714   \n",
       "4     0.002403  2.173728 -0.855346  1.884833  1.329653  0.679385 -0.600227   \n",
       "...        ...       ...       ...       ...       ...       ...       ...   \n",
       "6622  0.060873 -1.038330 -0.659588 -0.622870  0.090081  0.225687  0.144346   \n",
       "6623  1.148948 -1.170207 -0.717351 -0.962082  0.870401  0.614360  0.009241   \n",
       "6624 -1.002743  0.146619  1.154968 -0.141683 -1.294870 -0.938337  0.429822   \n",
       "6625 -0.388730  1.818346  0.501319  1.047079  0.424902  0.603358 -0.964207   \n",
       "6626 -1.311067  0.165531 -0.989419 -1.531756 -0.396373 -0.378884  0.325120   \n",
       "\n",
       "           PC8       PC9      PC10      PC11      PC12      PC13      PC14  \\\n",
       "0    -0.373345 -0.803115  0.837092  1.623067 -0.261753  0.235638 -0.326818   \n",
       "1    -0.468722 -0.327269  0.175780 -2.409748 -0.823892 -0.581045 -0.973223   \n",
       "2     0.055970 -1.348930 -0.152507 -2.033690  0.099927 -1.232974 -0.678305   \n",
       "3    -1.342641 -0.319636 -0.506683 -0.036937  1.136352  0.300461 -0.328121   \n",
       "4    -0.520670  0.723744  0.238530  0.123345  0.951798 -0.536999  0.329798   \n",
       "...        ...       ...       ...       ...       ...       ...       ...   \n",
       "6622 -0.735628  1.092355 -0.388809 -0.191486 -0.284427 -0.311598 -0.111791   \n",
       "6623 -0.920165  0.642480  0.390729 -0.037445 -0.035594 -0.211604 -0.474668   \n",
       "6624 -0.098083  0.023849 -0.824973  0.271648  0.682401  0.797084  0.081801   \n",
       "6625 -1.525201  0.314041 -0.649624  0.409576  0.568857 -0.749601 -0.016070   \n",
       "6626 -0.333634 -0.178589 -0.788813 -2.135803 -1.341024  0.379643 -0.271374   \n",
       "\n",
       "        Target  \n",
       "0      Dropout  \n",
       "1     Graduate  \n",
       "2      Dropout  \n",
       "3     Graduate  \n",
       "4     Graduate  \n",
       "...        ...  \n",
       "6622  Enrolled  \n",
       "6623  Enrolled  \n",
       "6624  Enrolled  \n",
       "6625  Enrolled  \n",
       "6626  Enrolled  \n",
       "\n",
       "[6627 rows x 15 columns]"
      ]
     },
     "execution_count": 1,
     "metadata": {},
     "output_type": "execute_result"
    }
   ],
   "source": [
    "import pandas as pd\n",
    "\n",
    "data = pd.read_csv(\"../../dataset/dataset_final.csv\")\n",
    "data"
   ]
  },
  {
   "cell_type": "code",
   "execution_count": 2,
   "metadata": {},
   "outputs": [
    {
     "name": "stdout",
     "output_type": "stream",
     "text": [
      "1.7886068491845746\n",
      "-0.17402570479346016\n"
     ]
    }
   ],
   "source": [
    "print(data['PC1'].std())\n",
    "print(data['PC1'].mean())"
   ]
  },
  {
   "cell_type": "code",
   "execution_count": 3,
   "metadata": {},
   "outputs": [
    {
     "name": "stdout",
     "output_type": "stream",
     "text": [
      "1.3305666704397283\n",
      "0.06070251183079263\n"
     ]
    }
   ],
   "source": [
    "print(data['PC2'].std())\n",
    "print(data['PC2'].mean())"
   ]
  },
  {
   "cell_type": "code",
   "execution_count": 4,
   "metadata": {},
   "outputs": [
    {
     "data": {
      "text/plain": [
       "Dropout     2209\n",
       "Graduate    2209\n",
       "Enrolled    2209\n",
       "Name: Target, dtype: int64"
      ]
     },
     "execution_count": 4,
     "metadata": {},
     "output_type": "execute_result"
    }
   ],
   "source": [
    "features = data.drop(['Target'], axis = 1)\n",
    "\n",
    "target = data['Target']\n",
    "target.value_counts()"
   ]
  },
  {
   "cell_type": "markdown",
   "metadata": {},
   "source": [
    "Now that the dataset is balanced, need to split the data into training (70%), testng (20%) and validating (10%) datasets.\n"
   ]
  },
  {
   "cell_type": "code",
   "execution_count": 6,
   "metadata": {},
   "outputs": [
    {
     "name": "stdout",
     "output_type": "stream",
     "text": [
      "Total number of datapoints: 6627\n",
      "Number of datapoints in the training set: 4638\n",
      "Number of datapoints in the validation set: 663\n",
      "Number of datapoints in the test set: 1326\n"
     ]
    }
   ],
   "source": [
    "from sklearn.model_selection import train_test_split\n",
    "\n",
    "#training data is 70%, 30% of dataset is a temporary one which will be further split\n",
    "X_train, X_temp, y_train, y_temp = train_test_split(features, target, test_size = 0.3, random_state = 42) \n",
    "\n",
    "#splitting the temp dataset into validation and testing data\n",
    "X_test, X_val, y_test, y_val = train_test_split(X_temp, y_temp, test_size=10/30, random_state=42)\n",
    "\n",
    "#checking split\n",
    "print(\"Total number of datapoints: \"+str(features.shape[0]))\n",
    "print(\"Number of datapoints in the training set: \"+str(X_train.shape[0]))\n",
    "print(\"Number of datapoints in the validation set: \"+str(X_val.shape[0]))\n",
    "print(\"Number of datapoints in the test set: \"+str(X_test.shape[0]))\n"
   ]
  },
  {
   "cell_type": "markdown",
   "metadata": {},
   "source": [
    "**K-nearest neighbours (KNN) Algorithm**\n"
   ]
  },
  {
   "cell_type": "markdown",
   "metadata": {},
   "source": [
    "To ensure that all features equally contribute to the computation of distances, when KNN is applied, we need to standardise them\n"
   ]
  },
  {
   "cell_type": "code",
   "execution_count": 7,
   "metadata": {},
   "outputs": [
    {
     "name": "stdout",
     "output_type": "stream",
     "text": [
      "feature:  1 - Mean: 0.0 - Std: 1.000 - Min: -2.603 - Max: 7.321\n",
      "feature:  2 - Mean: 0.0 - Std: 1.000 - Min: -1.873 - Max: 6.381\n",
      "feature:  3 - Mean: -0.0 - Std: 1.000 - Min: -5.698 - Max: 3.126\n",
      "feature:  4 - Mean: 0.0 - Std: 1.000 - Min: -7.013 - Max: 3.420\n",
      "feature:  5 - Mean: 0.0 - Std: 1.000 - Min: -5.719 - Max: 2.876\n",
      "feature:  6 - Mean: 0.0 - Std: 1.000 - Min: -4.951 - Max: 12.801\n",
      "feature:  7 - Mean: 0.0 - Std: 1.000 - Min: -7.925 - Max: 2.407\n",
      "feature:  8 - Mean: 0.0 - Std: 1.000 - Min: -2.312 - Max: 8.823\n",
      "feature:  9 - Mean: 0.0 - Std: 1.000 - Min: -6.703 - Max: 3.603\n",
      "feature: 10 - Mean: -0.0 - Std: 1.000 - Min: -5.693 - Max: 6.341\n",
      "feature: 11 - Mean: -0.0 - Std: 1.000 - Min: -3.566 - Max: 4.447\n",
      "feature: 12 - Mean: -0.0 - Std: 1.000 - Min: -4.760 - Max: 5.191\n",
      "feature: 13 - Mean: 0.0 - Std: 1.000 - Min: -3.088 - Max: 4.463\n",
      "feature: 14 - Mean: -0.0 - Std: 1.000 - Min: -6.091 - Max: 5.029\n"
     ]
    }
   ],
   "source": [
    "from sklearn.preprocessing import StandardScaler\n",
    "import numpy as np\n",
    "\n",
    "#fit the standardscaler on the training data and use it to transform the validation and test data\n",
    "#learn the statistics from the training data - mean and stdev of the training data to scale the training, valid and test data as well\n",
    "scaler = StandardScaler()\n",
    "#does the fit and transform in one step\n",
    "X_train = scaler.fit_transform(X_train)\n",
    "\n",
    "X_val = scaler.transform(X_val)\n",
    "X_test = scaler.transform(X_test)\n",
    "\n",
    "for i in range(X_train.shape[1]):\n",
    "  print(\"feature: %2d - Mean: %.1f - Std: %.3f - Min: %.3f - Max: %.3f\" % (i+ 1,  np.mean(X_train[:,i]), np.std(X_train[:,i]), np.min(X_train[:,i]), np.max(X_train[:,i])))"
   ]
  },
  {
   "cell_type": "markdown",
   "metadata": {},
   "source": [
    "Chosing k based on the accuracy of the predictor on the validation data, and trying three different metrics\n"
   ]
  },
  {
   "cell_type": "code",
   "execution_count": 8,
   "metadata": {},
   "outputs": [],
   "source": [
    "from sklearn.neighbors import KNeighborsClassifier\n",
    "from sklearn.metrics import accuracy_score\n",
    "import matplotlib.pyplot as plt\n",
    "\n",
    "#try these values of k\n",
    "num_neighbours = [1, 3, 5, 7, 9, 11, 13, 15, 21, 27, 31, 45, 65, 131]\n",
    "#store performances for each of the classifiers in this empty list\n",
    "performance_euclidean = []\n",
    "\n",
    "for k in num_neighbours:\n",
    "  clf = KNeighborsClassifier(n_neighbors=k, metric='euclidean')\n",
    "  clf.fit(X_train, y_train)\n",
    "  \n",
    "  #make predictions on validation and check performance on it\n",
    "  y_pred = clf.predict(X_val)\n",
    "  acc = accuracy_score(y_val, y_pred)\n",
    "  performance_euclidean.append(acc)\n",
    "\n",
    "performance_manhattan = []\n",
    "for k in num_neighbours:\n",
    "  clf = KNeighborsClassifier(n_neighbors=k, metric='manhattan')\n",
    "  clf.fit(X_train, y_train)\n",
    "  \n",
    "  #make predictions on validation and check performance on it\n",
    "  y_pred = clf.predict(X_val)\n",
    "  acc = accuracy_score(y_val, y_pred)\n",
    "  performance_manhattan.append(acc)\n",
    "\n",
    "\n",
    "performance_cosine = []\n",
    "for k in num_neighbours:\n",
    "  clf = KNeighborsClassifier(n_neighbors=k, metric='cosine')\n",
    "  clf.fit(X_train, y_train)\n",
    "  \n",
    "  #make predictions on validation and check performance on it\n",
    "  y_pred = clf.predict(X_val)\n",
    "  acc = accuracy_score(y_val, y_pred)\n",
    "  performance_cosine.append(acc)\n"
   ]
  },
  {
   "cell_type": "code",
   "execution_count": 9,
   "metadata": {},
   "outputs": [
    {
     "data": {
      "text/plain": [
       "<matplotlib.legend.Legend at 0x27dcccde140>"
      ]
     },
     "execution_count": 9,
     "metadata": {},
     "output_type": "execute_result"
    },
    {
     "data": {
      "image/png": "[encoded data removed]",
      "text/plain": [
       "<Figure size 640x480 with 1 Axes>"
      ]
     },
     "metadata": {},
     "output_type": "display_data"
    }
   ],
   "source": [
    "plt.plot(num_neighbours, performance_euclidean, '-b', label = 'Euclidean metric')\n",
    "plt.plot(num_neighbours, performance_manhattan, '-g', label = 'Manhattan metric')\n",
    "plt.plot(num_neighbours, performance_cosine, '-k', label = 'Cosine metric')\n",
    "plt.grid(True)\n",
    "plt.legend()"
   ]
  },
  {
   "cell_type": "markdown",
   "metadata": {},
   "source": [
    "k=1 makes sense, a good approach is to start off with k = sqrt(n)/2 - sqrt(8)/2 ~ 1.4\n",
    "\n",
    "Although, k=1 is usually a case for overfitting, but with the few features we have it might make sense\n"
   ]
  },
  {
   "cell_type": "markdown",
   "metadata": {},
   "source": [
    "keeping k=1, now we can make predictions on the test data, at the moment checking also the metric\n"
   ]
  },
  {
   "cell_type": "code",
   "execution_count": 10,
   "metadata": {},
   "outputs": [
    {
     "name": "stdout",
     "output_type": "stream",
     "text": [
      "\n",
      "Classification Report for Manhattan Metric:\n",
      "              precision    recall  f1-score   support\n",
      "\n",
      "     Dropout       0.86      0.80      0.83       474\n",
      "    Enrolled       0.72      0.87      0.79       421\n",
      "    Graduate       0.80      0.71      0.75       431\n",
      "\n",
      "    accuracy                           0.79      1326\n",
      "   macro avg       0.79      0.79      0.79      1326\n",
      "weighted avg       0.80      0.79      0.79      1326\n",
      "\n"
     ]
    }
   ],
   "source": [
    "from sklearn.metrics import classification_report\n",
    "\n",
    "clf = KNeighborsClassifier(n_neighbors=1, metric='manhattan')\n",
    "clf.fit(X_train, y_train)\n",
    "#validation set was used to find number of k\n",
    "#test set is completely unseens\n",
    "y_pred = clf.predict(X_test)\n",
    "#acc = accuracy_score(y_test, y_pred)\n",
    "\n",
    "#print(\"The performance of the KNN is: %.2f\"%(acc))\n",
    "\n",
    "print(\"\\nClassification Report for Manhattan Metric:\")\n",
    "print(classification_report(y_test, y_pred))"
   ]
  },
  {
   "cell_type": "markdown",
   "metadata": {},
   "source": [
    "changing for euclidian metric\n"
   ]
  },
  {
   "cell_type": "code",
   "execution_count": 11,
   "metadata": {},
   "outputs": [
    {
     "name": "stdout",
     "output_type": "stream",
     "text": [
      "\n",
      "Classification Report for Euclidean Metric:\n",
      "              precision    recall  f1-score   support\n",
      "\n",
      "     Dropout       0.85      0.80      0.82       474\n",
      "    Enrolled       0.70      0.85      0.77       421\n",
      "    Graduate       0.79      0.68      0.73       431\n",
      "\n",
      "    accuracy                           0.78      1326\n",
      "   macro avg       0.78      0.78      0.78      1326\n",
      "weighted avg       0.78      0.78      0.78      1326\n",
      "\n"
     ]
    }
   ],
   "source": [
    "clf = KNeighborsClassifier(n_neighbors=1, metric='euclidean')\n",
    "clf.fit(X_train, y_train)\n",
    "\n",
    "y_pred = clf.predict(X_test)\n",
    "\n",
    "print(\"\\nClassification Report for Euclidean Metric:\")\n",
    "print(classification_report(y_test, y_pred))"
   ]
  },
  {
   "cell_type": "code",
   "execution_count": 12,
   "metadata": {},
   "outputs": [
    {
     "name": "stdout",
     "output_type": "stream",
     "text": [
      "\n",
      "Classification Report for Cosine Metric:\n",
      "              precision    recall  f1-score   support\n",
      "\n",
      "     Dropout       0.86      0.78      0.82       474\n",
      "    Enrolled       0.71      0.85      0.77       421\n",
      "    Graduate       0.78      0.71      0.74       431\n",
      "\n",
      "    accuracy                           0.78      1326\n",
      "   macro avg       0.78      0.78      0.78      1326\n",
      "weighted avg       0.78      0.78      0.78      1326\n",
      "\n"
     ]
    }
   ],
   "source": [
    "clf = KNeighborsClassifier(n_neighbors=1, metric='cosine')\n",
    "clf.fit(X_train, y_train)\n",
    "\n",
    "y_pred = clf.predict(X_test)\n",
    "\n",
    "print(\"\\nClassification Report for Cosine Metric:\")\n",
    "print(classification_report(y_test, y_pred))"
   ]
  },
  {
   "cell_type": "markdown",
   "metadata": {},
   "source": [
    "running the manhattan distance again since it is slightly better and keeping that data stored\n"
   ]
  },
  {
   "cell_type": "code",
   "execution_count": 13,
   "metadata": {},
   "outputs": [
    {
     "name": "stdout",
     "output_type": "stream",
     "text": [
      "\n",
      "Classification Report for Manhattan Metric:\n",
      "              precision    recall  f1-score   support\n",
      "\n",
      "     Dropout       0.86      0.80      0.83       474\n",
      "    Enrolled       0.72      0.87      0.79       421\n",
      "    Graduate       0.80      0.71      0.75       431\n",
      "\n",
      "    accuracy                           0.79      1326\n",
      "   macro avg       0.79      0.79      0.79      1326\n",
      "weighted avg       0.80      0.79      0.79      1326\n",
      "\n"
     ]
    }
   ],
   "source": [
    "clf = KNeighborsClassifier(n_neighbors=1, metric='manhattan')\n",
    "clf.fit(X_train, y_train)\n",
    "\n",
    "y_pred = clf.predict(X_test)\n",
    "\n",
    "print(\"\\nClassification Report for Manhattan Metric:\")\n",
    "print(classification_report(y_test, y_pred))"
   ]
  },
  {
   "cell_type": "markdown",
   "metadata": {},
   "source": [
    "Confusion matrix to show the actual classes vs the predicted classes based on the test data\n"
   ]
  },
  {
   "cell_type": "code",
   "execution_count": 14,
   "metadata": {},
   "outputs": [
    {
     "data": {
      "image/png": "[encoded data removed]",
      "text/plain": [
       "<Figure size 640x480 with 2 Axes>"
      ]
     },
     "metadata": {},
     "output_type": "display_data"
    }
   ],
   "source": [
    "from sklearn.metrics import confusion_matrix, ConfusionMatrixDisplay\n",
    "\n",
    "cm = confusion_matrix(y_test, y_pred, labels=clf.classes_)\n",
    "disp = ConfusionMatrixDisplay(confusion_matrix=cm, display_labels=clf.classes_)\n",
    "disp.plot()\n",
    "plt.show()"
   ]
  },
  {
   "cell_type": "markdown",
   "metadata": {},
   "source": [
    "Trying the same script but on the reduced dataset of 17 variables + Target variable\n"
   ]
  },
  {
   "cell_type": "code",
   "execution_count": null,
   "metadata": {},
   "outputs": [],
   "source": [
    "data_nonpca = pd.read_csv(\"../../dataset/dataset_selected_pred.csv\")\n",
    "data_nonpca"
   ]
  },
  {
   "cell_type": "code",
   "execution_count": null,
   "metadata": {},
   "outputs": [],
   "source": [
    "features_nonpca = data_nonpca.drop(['target'], axis = 1)\n",
    "\n",
    "target_nonpca = data_nonpca['target']\n",
    "target_nonpca.value_counts()"
   ]
  },
  {
   "cell_type": "code",
   "execution_count": null,
   "metadata": {},
   "outputs": [],
   "source": [
    "count_class = target_nonpca.value_counts()\n",
    "plt.bar(count_class.index, count_class.values)\n",
    "plt.xlabel(\"Target Classes\")\n",
    "plt.ylabel(\"Count\")\n",
    "plt.show"
   ]
  },
  {
   "cell_type": "code",
   "execution_count": null,
   "metadata": {},
   "outputs": [],
   "source": [
    "from imblearn.over_sampling import SMOTE\n",
    "\n",
    "#setting the seed for reproducibility\n",
    "smote = SMOTE(sampling_strategy=\"minority\", random_state=42) #taking the minority approach to generate synthetic values for the minority class.\n",
    "\n",
    "features_nonpca_bal,target_nonpca_bal = smote.fit_resample(features_nonpca, target_nonpca)\n",
    "target_nonpca.value_counts()\n",
    "\n",
    "#repeat again since there are three classes and 2 are undersampled\n",
    "features_nonpca_bal,target_nonpca_bal = smote.fit_resample(features_nonpca_bal, target_nonpca_bal)\n",
    "target_nonpca_bal.value_counts()"
   ]
  },
  {
   "cell_type": "code",
   "execution_count": null,
   "metadata": {},
   "outputs": [],
   "source": [
    "#training data is 70%, 30% of dataset is a temporary one which will be further split\n",
    "Xnp_train, Xnp_temp, ynp_train, ynp_temp = train_test_split(features_nonpca_bal, target_nonpca_bal, test_size = 0.3, random_state = 42) \n",
    "\n",
    "#splitting the temp dataset into validation and testing data\n",
    "Xnp_test, Xnp_val, ynp_test, ynp_val = train_test_split(Xnp_temp, ynp_temp, test_size=10/30, random_state=42)\n",
    "\n",
    "#checking split\n",
    "print(\"Total number of datapoints: \"+str(features_nonpca_bal.shape[0]))\n",
    "print(\"Number of datapoints in the training set: \"+str(Xnp_train.shape[0]))\n",
    "print(\"Number of datapoints in the validation set: \"+str(Xnp_val.shape[0]))\n",
    "print(\"Number of datapoints in the test set: \"+str(Xnp_test.shape[0]))"
   ]
  },
  {
   "cell_type": "code",
   "execution_count": null,
   "metadata": {},
   "outputs": [],
   "source": [
    "#fit the standardscaler on the training data and use it to transform the validation and test data\n",
    "#learn the statistics from the training data - mean and stdev of the training data to scale the training, valid and test data as well\n",
    "scaler = StandardScaler()\n",
    "#does the fit and transform in one step\n",
    "Xnp_train = scaler.fit_transform(Xnp_train)\n",
    "\n",
    "Xnp_val = scaler.transform(Xnp_val)\n",
    "Xnp_test = scaler.transform(Xnp_test)\n",
    "\n",
    "for i in range(Xnp_train.shape[1]):\n",
    "  print(\"feature: %2d - Mean: %.1f - Std: %.3f - Min: %.3f - Max: %.3f\" % (i+ 1,  np.mean(Xnp_train[:,i]), np.std(Xnp_train[:,i]), np.min(Xnp_train[:,i]), np.max(Xnp_train[:,i])))"
   ]
  },
  {
   "cell_type": "code",
   "execution_count": 20,
   "metadata": {},
   "outputs": [],
   "source": [
    "#try these values of k\n",
    "num_np_neighbours = [1, 3, 5, 7, 9, 11, 13, 15, 17, 19]\n",
    "#store performances for each of the classifiers in this empty list\n",
    "performance_np_euclidean = []\n",
    "\n",
    "for k in num_np_neighbours:\n",
    "  clf_np = KNeighborsClassifier(n_neighbors=k, metric='euclidean')\n",
    "  clf_np.fit(Xnp_train, ynp_train)\n",
    "  \n",
    "  #make predictions on validation and check performance on it\n",
    "  ynp_pred = clf_np.predict(Xnp_val)\n",
    "  acc_np = accuracy_score(ynp_val, ynp_pred)\n",
    "  performance_np_euclidean.append(acc_np)\n",
    "\n",
    "performance_np_manhattan = []\n",
    "for k in num_np_neighbours:\n",
    "  clf_np = KNeighborsClassifier(n_neighbors=k, metric='manhattan')\n",
    "  clf_np.fit(Xnp_train, ynp_train)\n",
    "  \n",
    "  #make predictions on validation and check performance on it\n",
    "  ynp_pred = clf_np.predict(Xnp_val)\n",
    "  acc_np = accuracy_score(ynp_val, ynp_pred)\n",
    "  performance_np_manhattan.append(acc_np)\n",
    "\n",
    "\n",
    "performance_np_cosine = []\n",
    "for k in num_np_neighbours:\n",
    "  clf_np = KNeighborsClassifier(n_neighbors=k, metric='cosine')\n",
    "  clf_np.fit(Xnp_train, ynp_train)\n",
    "  \n",
    "  #make predictions on validation and check performance on it\n",
    "  ynp_pred = clf_np.predict(Xnp_val)\n",
    "  acc_np = accuracy_score(ynp_val, ynp_pred)\n",
    "  performance_np_cosine.append(acc_np)\n"
   ]
  },
  {
   "cell_type": "code",
   "execution_count": null,
   "metadata": {},
   "outputs": [],
   "source": [
    "plt.plot(num_np_neighbours, performance_np_euclidean, '-b', label = 'Euclidean metric')\n",
    "plt.plot(num_np_neighbours, performance_np_manhattan, '-g', label = 'Manhattan metric')\n",
    "plt.plot(num_np_neighbours, performance_np_cosine, '-k', label = 'Cosine metric')\n",
    "plt.grid(True)\n",
    "plt.legend()"
   ]
  },
  {
   "cell_type": "markdown",
   "metadata": {},
   "source": [
    "Clearly, Euclidean metric works better than the other metrics\n"
   ]
  },
  {
   "cell_type": "code",
   "execution_count": null,
   "metadata": {},
   "outputs": [],
   "source": [
    "performance_np_manhattan[5]==performance_np_manhattan[7]"
   ]
  },
  {
   "cell_type": "code",
   "execution_count": null,
   "metadata": {},
   "outputs": [],
   "source": [
    "performance_np_manhattan"
   ]
  },
  {
   "cell_type": "markdown",
   "metadata": {},
   "source": [
    "for non pca variables, can keep k=9 with manhattan metric\n"
   ]
  },
  {
   "cell_type": "code",
   "execution_count": null,
   "metadata": {},
   "outputs": [],
   "source": [
    "from sklearn.metrics import classification_report\n",
    "\n",
    "clf_np = KNeighborsClassifier(n_neighbors=9, metric='manhattan')\n",
    "clf_np.fit(Xnp_train, ynp_train)\n",
    "#validation set was used to find number of k\n",
    "#test set is completely unseens\n",
    "ynp_pred = clf_np.predict(Xnp_test)\n",
    "\n",
    "print(\"\\nClassification Report for Manhattan Metric:\")\n",
    "print(classification_report(ynp_test, ynp_pred))"
   ]
  },
  {
   "cell_type": "code",
   "execution_count": null,
   "metadata": {},
   "outputs": [],
   "source": [
    "cm_np = confusion_matrix(ynp_test, ynp_pred, labels=clf_np.classes_)\n",
    "disp = ConfusionMatrixDisplay(confusion_matrix=cm_np, display_labels=clf_np.classes_)\n",
    "disp.plot()\n",
    "plt.show()"
   ]
  },
  {
   "cell_type": "markdown",
   "metadata": {},
   "source": [
    "accuracy here is better and without having gone through PCA\n"
   ]
  }
 ],
 "metadata": {
  "kernelspec": {
   "display_name": "base",
   "language": "python",
   "name": "python3"
  },
  "language_info": {
   "codemirror_mode": {
    "name": "ipython",
    "version": 3
   },
   "file_extension": ".py",
   "mimetype": "text/x-python",
   "name": "python",
   "nbconvert_exporter": "python",
   "pygments_lexer": "ipython3",
   "version": "3.10.16"
  }
 },
 "nbformat": 4,
 "nbformat_minor": 2
}
