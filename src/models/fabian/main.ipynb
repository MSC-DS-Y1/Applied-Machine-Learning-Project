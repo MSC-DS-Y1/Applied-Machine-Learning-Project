{
 "cells": [
  {
   "cell_type": "markdown",
   "metadata": {},
   "source": [
    "# **Support Vector Machine (SVM)**\n",
    "\n",
    "Support Vector Machine (SVM) is a supervised machine learning algorithm used primarily for classification tasks, but it can also be applied to regression. SVM works by finding the hyperplane that best separates different classes in the feature space, maximizing the margin between data points of different classes.\n",
    "\n",
    "#### Key Features:\n",
    "\n",
    "-   **Classification**: SVM excels in binary and multi-class classification problems.\n",
    "-   **Margin Maximization**: It tries to find the optimal hyperplane that maximizes the margin between different classes, which helps improve model generalization.\n",
    "-   **Kernel Trick**: SVM can handle non-linear data by using kernel functions, transforming the feature space into a higher-dimensional space for better separation.\n",
    "-   **Support Vectors**: The data points that are closest to the hyperplane are called support vectors, which are crucial in determining the optimal hyperplane.\n"
   ]
  },
  {
   "cell_type": "markdown",
   "metadata": {},
   "source": [
    "### **Load the Dataset**\n",
    "\n",
    "The dataset loaded contains 15 columns:\n",
    "\n",
    "-   Columns 1 - 14: Features (These are the PC identified in during data cleaning and exploratory data analysis)\n",
    "-   Column 15: Target (This is the column which will be eventually predicted by the model)\n"
   ]
  },
  {
   "cell_type": "code",
   "execution_count": 1,
   "metadata": {},
   "outputs": [],
   "source": [
    "import pandas as pd\n",
    "\n",
    "data = pd.read_csv(\"../../dataset/dataset_final.csv\")"
   ]
  },
  {
   "cell_type": "code",
   "execution_count": 2,
   "metadata": {},
   "outputs": [],
   "source": [
    "features = data.drop('Target', axis=1)\n",
    "target = data['Target']"
   ]
  },
  {
   "cell_type": "code",
   "execution_count": 3,
   "metadata": {},
   "outputs": [
    {
     "name": "stdout",
     "output_type": "stream",
     "text": [
      "Value Counts for Target:\n",
      "Target\n",
      "Dropout     2209\n",
      "Graduate    2209\n",
      "Enrolled    2209\n",
      "Name: count, dtype: int64\n"
     ]
    },
    {
     "data": {
      "image/png": "[encoded data removed]",
      "text/plain": [
       "<Figure size 800x600 with 1 Axes>"
      ]
     },
     "metadata": {},
     "output_type": "display_data"
    }
   ],
   "source": [
    "import matplotlib.pyplot as plt\n",
    "import seaborn as sns\n",
    "\n",
    "target_counts = target.value_counts()\n",
    "\n",
    "print(f\"Value Counts for Target:\\n{target_counts}\")\n",
    "plt.figure(figsize=(8,6))\n",
    "sns.barplot(x=target_counts.index, y=target_counts.values, hue=target_counts.index)\n",
    "plt.title('Target counts')\n",
    "plt.show()"
   ]
  },
  {
   "cell_type": "code",
   "execution_count": 4,
   "metadata": {},
   "outputs": [
    {
     "name": "stdout",
     "output_type": "stream",
     "text": [
      "Training data distribution 80%\n",
      "Testing data distribution 20%\n",
      "Validation data distribution 0%\n"
     ]
    }
   ],
   "source": [
    "from sklearn.model_selection import train_test_split \n",
    "\n",
    "def split_data(X, y, train_size, test_size, val_size=None):\n",
    "    X_train, X_test, y_train, y_test = train_test_split(X, y, random_state=42, train_size=train_size, shuffle=True)\n",
    "    if val_size is not None:\n",
    "      X_test, X_val, y_test, y_val = train_test_split(X_test, y_test, random_state=42, train_size=test_size/(test_size + val_size), shuffle=True)\n",
    "      \n",
    "      return X_train, X_test, X_val, y_train, y_test, y_val\n",
    "    \n",
    "    return X_train, X_test, pd.Series([]), y_train, y_test, pd.Series([])\n",
    "\n",
    "X_train, X_test, X_val, y_train, y_test, y_val = split_data(features, target, 0.8, 0.2)\n",
    "train = (X_train, y_train)\n",
    "test = (X_test, y_test)\n",
    "val = (X_val, y_val)\n",
    "\n",
    "training_data = pd.concat([X_train, y_train], axis=1)\n",
    "testing_data = pd.concat([X_test, y_test], axis=1)\n",
    "validation_data = pd.concat([X_val, y_val], axis=1)\n",
    "\n",
    "# Check if the distribution is correct\n",
    "total = features.shape[0]\n",
    "print(f\"Training data distribution {(training_data.value_counts().sum() / total):.0%}\")\n",
    "print(f\"Testing data distribution {(testing_data.value_counts().sum() / total):.0%}\")\n",
    "print(f\"Validation data distribution {(validation_data.value_counts().sum() / total):.0%}\")"
   ]
  },
  {
   "cell_type": "markdown",
   "metadata": {},
   "source": [
    "### **SVM Classification with Hyperparameter Tuning**\n",
    "\n",
    "1. **Libraries Used**:\n",
    "\n",
    "    - Support Vector Classifier (`SVC`) implemented using `scikit-learn`.\n",
    "    - Hyperparameter Tuning with 5-fold Cross Validation is implemented using `GridSearchCV` (Exhaustive Search).\n",
    "\n",
    "2. **Defining the SVM Model**:  \n",
    "   An SVM classifier (`SVC`) is instantiated without any predefined hyperparameters.\n",
    "\n",
    "3. **Hyperparameter Grid Setup**:  \n",
    "   A grid of hyperparameters is defined for tuning the model:\n",
    "\n",
    "    - `C`: Regularization strength. Higher values aim for a tighter fit.\n",
    "    - `kernel`: The type of decision boundary (`linear`, `rbf`, `poly`).\n",
    "    - `gamma`: Kernel coefficient for non-linear kernels.\n",
    "    - `degree`: Degree of the polynomial kernel (used only when `kernel='poly'`).\n",
    "\n",
    "4. **Testing the Model**:\n",
    "    - The model is evaluated on the test set using the best-performing model found during training.\n",
    "    - `accuracy_score` and `classification_report` summarize performance metrics, including precision, recall, and F1-score for each class.\n"
   ]
  },
  {
   "cell_type": "code",
   "execution_count": 5,
   "metadata": {},
   "outputs": [],
   "source": [
    "from sklearn.svm import SVC\n",
    "from sklearn.model_selection import GridSearchCV\n",
    "\n",
    "svm_model = SVC()\n",
    "\n",
    "# Define the grid of hyperparameters\n",
    "param_grid = {\n",
    "    'C': [0.1, 1, 10, 100],               # Regularization parameter\n",
    "    'kernel': ['linear', 'rbf', 'poly'],  # Different kernels for SVM\n",
    "    'gamma': ['scale', 'auto'],           # Kernel coefficient for 'rbf' and 'poly'\n",
    "    'degree': [2, 3, 4]                   # Degree for the polynomial kernel\n",
    "}\n",
    "\n",
    "grid_search = GridSearchCV(\n",
    "  estimator=svm_model, \n",
    "  param_grid=param_grid, \n",
    "  scoring='accuracy',\n",
    "  cv=5,          # 5-fold cross-validation\n",
    "  verbose=1,     \n",
    "  n_jobs=-1      \n",
    ")"
   ]
  },
  {
   "cell_type": "code",
   "execution_count": 6,
   "metadata": {},
   "outputs": [
    {
     "name": "stdout",
     "output_type": "stream",
     "text": [
      "Training model\n",
      "Fitting 5 folds for each of 72 candidates, totalling 360 fits\n",
      "Best Parameters: {'C': 100, 'degree': 2, 'gamma': 'auto', 'kernel': 'rbf'}\n",
      "Best Training Accuracy: 0.7824946205964469\n",
      "Test Accuracy: 0.80\n",
      "Classification Report:\n",
      "               precision    recall  f1-score   support\n",
      "\n",
      "     Dropout       0.87      0.77      0.82       444\n",
      "    Enrolled       0.74      0.81      0.78       439\n",
      "    Graduate       0.79      0.81      0.80       443\n",
      "\n",
      "    accuracy                           0.80      1326\n",
      "   macro avg       0.80      0.80      0.80      1326\n",
      "weighted avg       0.80      0.80      0.80      1326\n",
      "\n"
     ]
    },
    {
     "data": {
      "text/plain": [
       "['svm_model.pkl']"
      ]
     },
     "execution_count": 6,
     "metadata": {},
     "output_type": "execute_result"
    }
   ],
   "source": [
    "import joblib\n",
    "from sklearn.metrics import accuracy_score, classification_report\n",
    "\n",
    "X_train, y_train = train\n",
    "X_test, y_test = test\n",
    "\n",
    "print(f\"Training model\")\n",
    "grid_search.fit(X_train, y_train)\n",
    "\n",
    "print(\"Best Parameters:\", grid_search.best_params_)\n",
    "print(\"Best Training Accuracy:\", grid_search.best_score_)\n",
    "\n",
    "# Evaluate on the Testing Set\n",
    "best_model = grid_search.best_estimator_\n",
    "y_test_pred = best_model.predict(X_test)\n",
    "print(f\"Test Accuracy: {accuracy_score(y_test, y_test_pred):.2f}\")\n",
    "print(\"Classification Report:\\n\", classification_report(y_test, y_test_pred))\n",
    "\n",
    "grid_search_results = grid_search.cv_results_\n",
    "\n",
    "# Save the model\n",
    "joblib.dump(best_model, f\"svm_model.pkl\")"
   ]
  },
  {
   "cell_type": "markdown",
   "metadata": {},
   "source": [
    "### **Model Evaluation**\n",
    "\n",
    "1. A classification report containing the `f1-score`, `precision` and `recall` for each target class is generated.\n",
    "    - Since the dataset has already been balanced using SMOTE, the macro average f1-score is used for the overall performance of the model as it treats all the classes equally.\n",
    "2. A confusion matrix is plotted showing the count of correct and incorrect predictions per class.\n"
   ]
  },
  {
   "cell_type": "code",
   "execution_count": 9,
   "metadata": {},
   "outputs": [
    {
     "name": "stdout",
     "output_type": "stream",
     "text": [
      "+------------------------+-----------------------------------------------------------+\n",
      "|         Model          |                            SVM                            |\n",
      "|    Best Parameters     | {'C': 100, 'degree': 2, 'gamma': 'auto', 'kernel': 'rbf'} |\n",
      "| Best Training Accuracy |                           0.782                           |\n",
      "|     Test Accuracy      |                           0.796                           |\n",
      "|        F1-Score        |                           0.796                           |\n",
      "+------------------------+-----------------------------------------------------------+\n"
     ]
    }
   ],
   "source": [
    "from tabulate import tabulate\n",
    "\n",
    "report = classification_report(y_test, y_test_pred, output_dict=True)\n",
    "f1_avg = report['macro avg']['f1-score'] # Dataset has been balanced using SMOTE so we can use macro avg\n",
    "\n",
    "results = {\n",
    "    \"Model\": \"SVM\",\n",
    "    \"Best Parameters\": grid_search.best_params_,\n",
    "    \"Best Training Accuracy\": f\"{grid_search.best_score_:.3f}\",\n",
    "    \"Test Accuracy\": f\"{accuracy_score(y_test, y_test_pred):.3f}\",\n",
    "    \"F1-Score\": f\"{f1_avg:.3f}\"\n",
    "}\n",
    "\n",
    "print(tabulate(results.items(), tablefmt=\"pretty\"))"
   ]
  },
  {
   "cell_type": "code",
   "execution_count": 8,
   "metadata": {},
   "outputs": [
    {
     "data": {
      "image/png": "[encoded data removed]",
      "text/plain": [
       "<Figure size 640x480 with 2 Axes>"
      ]
     },
     "metadata": {},
     "output_type": "display_data"
    }
   ],
   "source": [
    "from sklearn.metrics import confusion_matrix\n",
    "import seaborn as sns\n",
    "import matplotlib.pyplot as plt\n",
    "\n",
    "cm = confusion_matrix(y_test, y_test_pred)\n",
    "sns.heatmap(cm, annot=True, fmt='d', cmap='Blues', xticklabels=['Dropout', 'Enrolled', 'Graduate'], yticklabels=['Dropout', 'Enrolled', 'Graduate'])\n",
    "plt.xlabel('Predicted')\n",
    "plt.ylabel('True')\n",
    "plt.title('Confusion Matrix')\n",
    "plt.show()"
   ]
  }
 ],
 "metadata": {
  "kernelspec": {
   "display_name": "aml",
   "language": "python",
   "name": "python3"
  },
  "language_info": {
   "codemirror_mode": {
    "name": "ipython",
    "version": 3
   },
   "file_extension": ".py",
   "mimetype": "text/x-python",
   "name": "python",
   "nbconvert_exporter": "python",
   "pygments_lexer": "ipython3",
   "version": "3.10.14"
  }
 },
 "nbformat": 4,
 "nbformat_minor": 2
}
