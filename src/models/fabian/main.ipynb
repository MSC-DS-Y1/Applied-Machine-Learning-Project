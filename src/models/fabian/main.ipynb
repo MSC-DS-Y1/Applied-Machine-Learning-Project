{
 "cells": [
  {
   "cell_type": "markdown",
   "metadata": {},
   "source": [
    "### **Support Vector Machine (SVM)**\n",
    "\n",
    "Support Vector Machine (SVM) is a supervised machine learning algorithm used primarily for classification tasks, but it can also be applied to regression. SVM works by finding the hyperplane that best separates different classes in the feature space, maximizing the margin between data points of different classes.\n",
    "\n",
    "#### Key Features:\n",
    "\n",
    "-   **Classification**: SVM excels in binary and multi-class classification problems.\n",
    "-   **Margin Maximization**: It tries to find the optimal hyperplane that maximizes the margin between different classes, which helps improve model generalization.\n",
    "-   **Kernel Trick**: SVM can handle non-linear data by using kernel functions, transforming the feature space into a higher-dimensional space for better separation.\n",
    "-   **Support Vectors**: The data points that are closest to the hyperplane are called support vectors, which are crucial in determining the optimal hyperplane.\n"
   ]
  }
 ],
 "metadata": {
  "language_info": {
   "name": "python"
  }
 },
 "nbformat": 4,
 "nbformat_minor": 2
}
