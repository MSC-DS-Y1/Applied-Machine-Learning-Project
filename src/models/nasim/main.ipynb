{
 "cells": [
  {
   "cell_type": "code",
   "execution_count": 113,
   "metadata": {},
   "outputs": [
    {
     "data": {
      "text/html": [
       "<div>\n",
       "<style scoped>\n",
       "    .dataframe tbody tr th:only-of-type {\n",
       "        vertical-align: middle;\n",
       "    }\n",
       "\n",
       "    .dataframe tbody tr th {\n",
       "        vertical-align: top;\n",
       "    }\n",
       "\n",
       "    .dataframe thead th {\n",
       "        text-align: right;\n",
       "    }\n",
       "</style>\n",
       "<table border=\"1\" class=\"dataframe\">\n",
       "  <thead>\n",
       "    <tr style=\"text-align: right;\">\n",
       "      <th></th>\n",
       "      <th>PC1</th>\n",
       "      <th>PC2</th>\n",
       "      <th>PC3</th>\n",
       "      <th>PC4</th>\n",
       "      <th>PC5</th>\n",
       "      <th>PC6</th>\n",
       "      <th>PC7</th>\n",
       "      <th>PC8</th>\n",
       "      <th>PC9</th>\n",
       "      <th>Target</th>\n",
       "    </tr>\n",
       "  </thead>\n",
       "  <tbody>\n",
       "    <tr>\n",
       "      <th>0</th>\n",
       "      <td>-0.299873</td>\n",
       "      <td>-0.214944</td>\n",
       "      <td>0.080469</td>\n",
       "      <td>-0.179122</td>\n",
       "      <td>0.024284</td>\n",
       "      <td>-0.932123</td>\n",
       "      <td>0.152756</td>\n",
       "      <td>0.020619</td>\n",
       "      <td>-0.145530</td>\n",
       "      <td>Dropout</td>\n",
       "    </tr>\n",
       "    <tr>\n",
       "      <th>1</th>\n",
       "      <td>-0.472005</td>\n",
       "      <td>-0.333525</td>\n",
       "      <td>-0.907935</td>\n",
       "      <td>0.033884</td>\n",
       "      <td>-0.077476</td>\n",
       "      <td>0.130438</td>\n",
       "      <td>0.083525</td>\n",
       "      <td>-0.191366</td>\n",
       "      <td>0.161605</td>\n",
       "      <td>Graduate</td>\n",
       "    </tr>\n",
       "    <tr>\n",
       "      <th>2</th>\n",
       "      <td>-0.377980</td>\n",
       "      <td>0.567188</td>\n",
       "      <td>-0.707070</td>\n",
       "      <td>-0.115344</td>\n",
       "      <td>0.083510</td>\n",
       "      <td>-0.061709</td>\n",
       "      <td>-0.141297</td>\n",
       "      <td>-0.190129</td>\n",
       "      <td>0.031253</td>\n",
       "      <td>Dropout</td>\n",
       "    </tr>\n",
       "    <tr>\n",
       "      <th>3</th>\n",
       "      <td>-0.134040</td>\n",
       "      <td>0.279213</td>\n",
       "      <td>0.157765</td>\n",
       "      <td>-0.025263</td>\n",
       "      <td>-0.576767</td>\n",
       "      <td>0.075713</td>\n",
       "      <td>-0.077658</td>\n",
       "      <td>-0.113742</td>\n",
       "      <td>-0.055928</td>\n",
       "      <td>Graduate</td>\n",
       "    </tr>\n",
       "    <tr>\n",
       "      <th>4</th>\n",
       "      <td>-0.133218</td>\n",
       "      <td>0.233277</td>\n",
       "      <td>0.038659</td>\n",
       "      <td>0.475110</td>\n",
       "      <td>-0.379986</td>\n",
       "      <td>-0.102401</td>\n",
       "      <td>0.115889</td>\n",
       "      <td>0.314580</td>\n",
       "      <td>0.174563</td>\n",
       "      <td>Graduate</td>\n",
       "    </tr>\n",
       "    <tr>\n",
       "      <th>...</th>\n",
       "      <td>...</td>\n",
       "      <td>...</td>\n",
       "      <td>...</td>\n",
       "      <td>...</td>\n",
       "      <td>...</td>\n",
       "      <td>...</td>\n",
       "      <td>...</td>\n",
       "      <td>...</td>\n",
       "      <td>...</td>\n",
       "      <td>...</td>\n",
       "    </tr>\n",
       "    <tr>\n",
       "      <th>4419</th>\n",
       "      <td>-0.280405</td>\n",
       "      <td>-0.511031</td>\n",
       "      <td>0.101725</td>\n",
       "      <td>0.294971</td>\n",
       "      <td>0.465357</td>\n",
       "      <td>0.065862</td>\n",
       "      <td>-0.100211</td>\n",
       "      <td>-0.038890</td>\n",
       "      <td>-0.039420</td>\n",
       "      <td>Graduate</td>\n",
       "    </tr>\n",
       "    <tr>\n",
       "      <th>4420</th>\n",
       "      <td>-0.528357</td>\n",
       "      <td>-0.243201</td>\n",
       "      <td>-0.825375</td>\n",
       "      <td>-0.315428</td>\n",
       "      <td>0.066806</td>\n",
       "      <td>0.145230</td>\n",
       "      <td>-0.082107</td>\n",
       "      <td>-0.116939</td>\n",
       "      <td>-0.038079</td>\n",
       "      <td>Dropout</td>\n",
       "    </tr>\n",
       "    <tr>\n",
       "      <th>4421</th>\n",
       "      <td>0.812404</td>\n",
       "      <td>0.081296</td>\n",
       "      <td>-0.185109</td>\n",
       "      <td>0.286867</td>\n",
       "      <td>-0.276453</td>\n",
       "      <td>-0.050445</td>\n",
       "      <td>-0.060838</td>\n",
       "      <td>0.105535</td>\n",
       "      <td>0.241732</td>\n",
       "      <td>Dropout</td>\n",
       "    </tr>\n",
       "    <tr>\n",
       "      <th>4422</th>\n",
       "      <td>0.813385</td>\n",
       "      <td>0.164807</td>\n",
       "      <td>-0.068527</td>\n",
       "      <td>-0.192814</td>\n",
       "      <td>-0.486774</td>\n",
       "      <td>-0.066303</td>\n",
       "      <td>0.000309</td>\n",
       "      <td>-0.064261</td>\n",
       "      <td>0.282428</td>\n",
       "      <td>Graduate</td>\n",
       "    </tr>\n",
       "    <tr>\n",
       "      <th>4423</th>\n",
       "      <td>-0.137097</td>\n",
       "      <td>0.354717</td>\n",
       "      <td>0.312697</td>\n",
       "      <td>0.242383</td>\n",
       "      <td>0.443301</td>\n",
       "      <td>-0.016643</td>\n",
       "      <td>-0.000783</td>\n",
       "      <td>-0.137612</td>\n",
       "      <td>0.281053</td>\n",
       "      <td>Graduate</td>\n",
       "    </tr>\n",
       "  </tbody>\n",
       "</table>\n",
       "<p>4424 rows × 10 columns</p>\n",
       "</div>"
      ],
      "text/plain": [
       "           PC1       PC2       PC3       PC4       PC5       PC6       PC7  \\\n",
       "0    -0.299873 -0.214944  0.080469 -0.179122  0.024284 -0.932123  0.152756   \n",
       "1    -0.472005 -0.333525 -0.907935  0.033884 -0.077476  0.130438  0.083525   \n",
       "2    -0.377980  0.567188 -0.707070 -0.115344  0.083510 -0.061709 -0.141297   \n",
       "3    -0.134040  0.279213  0.157765 -0.025263 -0.576767  0.075713 -0.077658   \n",
       "4    -0.133218  0.233277  0.038659  0.475110 -0.379986 -0.102401  0.115889   \n",
       "...        ...       ...       ...       ...       ...       ...       ...   \n",
       "4419 -0.280405 -0.511031  0.101725  0.294971  0.465357  0.065862 -0.100211   \n",
       "4420 -0.528357 -0.243201 -0.825375 -0.315428  0.066806  0.145230 -0.082107   \n",
       "4421  0.812404  0.081296 -0.185109  0.286867 -0.276453 -0.050445 -0.060838   \n",
       "4422  0.813385  0.164807 -0.068527 -0.192814 -0.486774 -0.066303  0.000309   \n",
       "4423 -0.137097  0.354717  0.312697  0.242383  0.443301 -0.016643 -0.000783   \n",
       "\n",
       "           PC8       PC9    Target  \n",
       "0     0.020619 -0.145530   Dropout  \n",
       "1    -0.191366  0.161605  Graduate  \n",
       "2    -0.190129  0.031253   Dropout  \n",
       "3    -0.113742 -0.055928  Graduate  \n",
       "4     0.314580  0.174563  Graduate  \n",
       "...        ...       ...       ...  \n",
       "4419 -0.038890 -0.039420  Graduate  \n",
       "4420 -0.116939 -0.038079   Dropout  \n",
       "4421  0.105535  0.241732   Dropout  \n",
       "4422 -0.064261  0.282428  Graduate  \n",
       "4423 -0.137612  0.281053  Graduate  \n",
       "\n",
       "[4424 rows x 10 columns]"
      ]
     },
     "execution_count": 113,
     "metadata": {},
     "output_type": "execute_result"
    }
   ],
   "source": [
    "import pandas as pd\n",
    "\n",
    "data = pd.read_csv('dataset.csv')\n",
    "data"
   ]
  },
  {
   "cell_type": "code",
   "execution_count": 114,
   "metadata": {},
   "outputs": [],
   "source": [
    "# reshaping\n",
    "y = data['Target']\n",
    "x = data.drop(['Target'], axis=1)"
   ]
  },
  {
   "cell_type": "markdown",
   "metadata": {},
   "source": [
    "## Dataset Balancing"
   ]
  },
  {
   "cell_type": "code",
   "execution_count": 115,
   "metadata": {},
   "outputs": [
    {
     "data": {
      "image/png": "[encoded data removed]",
      "text/plain": [
       "<Figure size 640x480 with 1 Axes>"
      ]
     },
     "metadata": {},
     "output_type": "display_data"
    }
   ],
   "source": [
    "import seaborn as sns\n",
    "import matplotlib.pyplot as plt\n",
    "\n",
    "sns.countplot(x='Target', data=data)\n",
    "plt.xticks(rotation=45)\n",
    "plt.show()"
   ]
  },
  {
   "cell_type": "code",
   "execution_count": 116,
   "metadata": {},
   "outputs": [
    {
     "data": {
      "text/plain": [
       "[('Dropout', 2209), ('Enrolled', 2209), ('Graduate', 2209)]"
      ]
     },
     "execution_count": 116,
     "metadata": {},
     "output_type": "execute_result"
    }
   ],
   "source": [
    "from imblearn.over_sampling import SMOTE\n",
    "from collections import Counter\n",
    "\n",
    "x, y = SMOTE().fit_resample(x, y)\n",
    "\n",
    "sorted(Counter(y).items()) # resulting balanced dateframe"
   ]
  },
  {
   "cell_type": "markdown",
   "metadata": {},
   "source": [
    "## Multi-class Logistic Regression"
   ]
  },
  {
   "cell_type": "code",
   "execution_count": 117,
   "metadata": {},
   "outputs": [],
   "source": [
    "from sklearn.model_selection import train_test_split\n",
    "from sklearn.linear_model import LogisticRegression\n",
    "from sklearn.metrics import classification_report, confusion_matrix, ConfusionMatrixDisplay\n",
    "from sklearn.preprocessing import StandardScaler\n",
    "\n",
    "# Split data into training and test sets\n",
    "X_train, X_test, y_train, y_test = train_test_split(x, y, test_size=0.2, random_state=42)\n",
    "\n",
    "# Standardize the feature set (scaling improves model performance for logistic regression)\n",
    "scaler = StandardScaler()\n",
    "X_train = scaler.fit_transform(X_train)\n",
    "X_test = scaler.transform(X_test)\n",
    "\n",
    "# Initialize the Logistic Regression model with multi-class handling\n",
    "model = LogisticRegression(multi_class='multinomial', solver='lbfgs', max_iter=1000, random_state=42)"
   ]
  },
  {
   "cell_type": "code",
   "execution_count": 118,
   "metadata": {},
   "outputs": [
    {
     "name": "stdout",
     "output_type": "stream",
     "text": [
      "\n",
      "Classification Report:\n",
      "              precision    recall  f1-score   support\n",
      "\n",
      "     Dropout       0.75      0.69      0.72       444\n",
      "    Enrolled       0.53      0.57      0.55       439\n",
      "    Graduate       0.61      0.61      0.61       443\n",
      "\n",
      "    accuracy                           0.62      1326\n",
      "   macro avg       0.63      0.62      0.63      1326\n",
      "weighted avg       0.63      0.62      0.63      1326\n",
      "\n"
     ]
    },
    {
     "name": "stderr",
     "output_type": "stream",
     "text": [
      "/usr/local/lib/python3.10/dist-packages/sklearn/linear_model/_logistic.py:1247: FutureWarning: 'multi_class' was deprecated in version 1.5 and will be removed in 1.7. From then on, it will always use 'multinomial'. Leave it to its default value to avoid this warning.\n",
      "  warnings.warn(\n"
     ]
    }
   ],
   "source": [
    "# Train the model\n",
    "model.fit(X_train, y_train)\n",
    "\n",
    "# Make predictions\n",
    "y_pred = model.predict(X_test)\n",
    "\n",
    "print(\"\\nClassification Report:\")\n",
    "print(classification_report(y_test, y_pred))"
   ]
  },
  {
   "cell_type": "markdown",
   "metadata": {},
   "source": [
    "- Model accuracy is around 60%\n",
    "- High precision with Dropout class, but less with Enrolled and Graduate classes. Perhaps due to variables chosen?"
   ]
  },
  {
   "cell_type": "code",
   "execution_count": 119,
   "metadata": {},
   "outputs": [
    {
     "data": {
      "image/png": "[encoded data removed]",
      "text/plain": [
       "<Figure size 640x480 with 2 Axes>"
      ]
     },
     "metadata": {},
     "output_type": "display_data"
    }
   ],
   "source": [
    "cm = confusion_matrix(y_test, y_pred, labels=model.classes_)\n",
    "disp = ConfusionMatrixDisplay(confusion_matrix=cm, display_labels=model.classes_)\n",
    "disp.plot()\n",
    "plt.show()"
   ]
  }
 ],
 "metadata": {
  "kernelspec": {
   "display_name": "Python 3",
   "language": "python",
   "name": "python3"
  },
  "language_info": {
   "codemirror_mode": {
    "name": "ipython",
    "version": 3
   },
   "file_extension": ".py",
   "mimetype": "text/x-python",
   "name": "python",
   "nbconvert_exporter": "python",
   "pygments_lexer": "ipython3",
   "version": "3.10.12"
  }
 },
 "nbformat": 4,
 "nbformat_minor": 2
}
