{
 "cells": [
  {
   "cell_type": "code",
   "execution_count": 275,
   "metadata": {},
   "outputs": [
    {
     "data": {
      "text/html": [
       "<div>\n",
       "<style scoped>\n",
       "    .dataframe tbody tr th:only-of-type {\n",
       "        vertical-align: middle;\n",
       "    }\n",
       "\n",
       "    .dataframe tbody tr th {\n",
       "        vertical-align: top;\n",
       "    }\n",
       "\n",
       "    .dataframe thead th {\n",
       "        text-align: right;\n",
       "    }\n",
       "</style>\n",
       "<table border=\"1\" class=\"dataframe\">\n",
       "  <thead>\n",
       "    <tr style=\"text-align: right;\">\n",
       "      <th></th>\n",
       "      <th>PC1</th>\n",
       "      <th>PC2</th>\n",
       "      <th>PC3</th>\n",
       "      <th>PC4</th>\n",
       "      <th>PC5</th>\n",
       "      <th>PC6</th>\n",
       "      <th>PC7</th>\n",
       "      <th>PC8</th>\n",
       "      <th>Target</th>\n",
       "    </tr>\n",
       "  </thead>\n",
       "  <tbody>\n",
       "    <tr>\n",
       "      <th>0</th>\n",
       "      <td>-0.314242</td>\n",
       "      <td>-0.205719</td>\n",
       "      <td>-0.028824</td>\n",
       "      <td>0.206659</td>\n",
       "      <td>0.012864</td>\n",
       "      <td>-0.874508</td>\n",
       "      <td>0.387179</td>\n",
       "      <td>0.010646</td>\n",
       "      <td>Dropout</td>\n",
       "    </tr>\n",
       "    <tr>\n",
       "      <th>1</th>\n",
       "      <td>-0.470709</td>\n",
       "      <td>-0.329179</td>\n",
       "      <td>0.884960</td>\n",
       "      <td>-0.093840</td>\n",
       "      <td>-0.083021</td>\n",
       "      <td>0.226558</td>\n",
       "      <td>0.106516</td>\n",
       "      <td>-0.184132</td>\n",
       "      <td>Graduate</td>\n",
       "    </tr>\n",
       "    <tr>\n",
       "      <th>2</th>\n",
       "      <td>-0.396169</td>\n",
       "      <td>0.580298</td>\n",
       "      <td>0.717272</td>\n",
       "      <td>0.092688</td>\n",
       "      <td>0.067955</td>\n",
       "      <td>-0.065536</td>\n",
       "      <td>-0.096558</td>\n",
       "      <td>-0.204557</td>\n",
       "      <td>Dropout</td>\n",
       "    </tr>\n",
       "    <tr>\n",
       "      <th>3</th>\n",
       "      <td>-0.130125</td>\n",
       "      <td>0.273844</td>\n",
       "      <td>-0.174658</td>\n",
       "      <td>-0.023552</td>\n",
       "      <td>-0.576278</td>\n",
       "      <td>0.067090</td>\n",
       "      <td>-0.072535</td>\n",
       "      <td>-0.123530</td>\n",
       "      <td>Graduate</td>\n",
       "    </tr>\n",
       "    <tr>\n",
       "      <th>4</th>\n",
       "      <td>-0.131716</td>\n",
       "      <td>0.229628</td>\n",
       "      <td>-0.067836</td>\n",
       "      <td>-0.505245</td>\n",
       "      <td>-0.335535</td>\n",
       "      <td>-0.094679</td>\n",
       "      <td>0.105542</td>\n",
       "      <td>0.325822</td>\n",
       "      <td>Graduate</td>\n",
       "    </tr>\n",
       "    <tr>\n",
       "      <th>...</th>\n",
       "      <td>...</td>\n",
       "      <td>...</td>\n",
       "      <td>...</td>\n",
       "      <td>...</td>\n",
       "      <td>...</td>\n",
       "      <td>...</td>\n",
       "      <td>...</td>\n",
       "      <td>...</td>\n",
       "      <td>...</td>\n",
       "    </tr>\n",
       "    <tr>\n",
       "      <th>4419</th>\n",
       "      <td>-0.276222</td>\n",
       "      <td>-0.514504</td>\n",
       "      <td>-0.105317</td>\n",
       "      <td>-0.246347</td>\n",
       "      <td>0.491042</td>\n",
       "      <td>0.030594</td>\n",
       "      <td>-0.111448</td>\n",
       "      <td>-0.049411</td>\n",
       "      <td>Graduate</td>\n",
       "    </tr>\n",
       "    <tr>\n",
       "      <th>4420</th>\n",
       "      <td>-0.528528</td>\n",
       "      <td>-0.238030</td>\n",
       "      <td>0.820748</td>\n",
       "      <td>0.271141</td>\n",
       "      <td>0.030093</td>\n",
       "      <td>0.218110</td>\n",
       "      <td>-0.039184</td>\n",
       "      <td>-0.136250</td>\n",
       "      <td>Dropout</td>\n",
       "    </tr>\n",
       "    <tr>\n",
       "      <th>4421</th>\n",
       "      <td>0.814815</td>\n",
       "      <td>0.084677</td>\n",
       "      <td>0.172297</td>\n",
       "      <td>-0.317228</td>\n",
       "      <td>-0.250588</td>\n",
       "      <td>-0.060601</td>\n",
       "      <td>-0.045802</td>\n",
       "      <td>0.100848</td>\n",
       "      <td>Dropout</td>\n",
       "    </tr>\n",
       "    <tr>\n",
       "      <th>4422</th>\n",
       "      <td>0.810934</td>\n",
       "      <td>0.170534</td>\n",
       "      <td>0.080124</td>\n",
       "      <td>0.148968</td>\n",
       "      <td>-0.501787</td>\n",
       "      <td>-0.070562</td>\n",
       "      <td>0.011215</td>\n",
       "      <td>-0.056446</td>\n",
       "      <td>Graduate</td>\n",
       "    </tr>\n",
       "    <tr>\n",
       "      <th>4423</th>\n",
       "      <td>-0.132748</td>\n",
       "      <td>0.347853</td>\n",
       "      <td>-0.328484</td>\n",
       "      <td>-0.190778</td>\n",
       "      <td>0.465049</td>\n",
       "      <td>-0.012571</td>\n",
       "      <td>0.015455</td>\n",
       "      <td>-0.132039</td>\n",
       "      <td>Graduate</td>\n",
       "    </tr>\n",
       "  </tbody>\n",
       "</table>\n",
       "<p>4424 rows × 9 columns</p>\n",
       "</div>"
      ],
      "text/plain": [
       "           PC1       PC2       PC3       PC4       PC5       PC6       PC7  \\\n",
       "0    -0.314242 -0.205719 -0.028824  0.206659  0.012864 -0.874508  0.387179   \n",
       "1    -0.470709 -0.329179  0.884960 -0.093840 -0.083021  0.226558  0.106516   \n",
       "2    -0.396169  0.580298  0.717272  0.092688  0.067955 -0.065536 -0.096558   \n",
       "3    -0.130125  0.273844 -0.174658 -0.023552 -0.576278  0.067090 -0.072535   \n",
       "4    -0.131716  0.229628 -0.067836 -0.505245 -0.335535 -0.094679  0.105542   \n",
       "...        ...       ...       ...       ...       ...       ...       ...   \n",
       "4419 -0.276222 -0.514504 -0.105317 -0.246347  0.491042  0.030594 -0.111448   \n",
       "4420 -0.528528 -0.238030  0.820748  0.271141  0.030093  0.218110 -0.039184   \n",
       "4421  0.814815  0.084677  0.172297 -0.317228 -0.250588 -0.060601 -0.045802   \n",
       "4422  0.810934  0.170534  0.080124  0.148968 -0.501787 -0.070562  0.011215   \n",
       "4423 -0.132748  0.347853 -0.328484 -0.190778  0.465049 -0.012571  0.015455   \n",
       "\n",
       "           PC8    Target  \n",
       "0     0.010646   Dropout  \n",
       "1    -0.184132  Graduate  \n",
       "2    -0.204557   Dropout  \n",
       "3    -0.123530  Graduate  \n",
       "4     0.325822  Graduate  \n",
       "...        ...       ...  \n",
       "4419 -0.049411  Graduate  \n",
       "4420 -0.136250   Dropout  \n",
       "4421  0.100848   Dropout  \n",
       "4422 -0.056446  Graduate  \n",
       "4423 -0.132039  Graduate  \n",
       "\n",
       "[4424 rows x 9 columns]"
      ]
     },
     "execution_count": 275,
     "metadata": {},
     "output_type": "execute_result"
    }
   ],
   "source": [
    "import pandas as pd\n",
    "\n",
    "data = pd.read_csv('../../dataset/dataset_final.csv')\n",
    "data"
   ]
  },
  {
   "cell_type": "code",
   "execution_count": 276,
   "metadata": {},
   "outputs": [],
   "source": [
    "# reshaping\n",
    "y = data['Target']\n",
    "x = data.drop(['Target'], axis=1)"
   ]
  },
  {
   "cell_type": "markdown",
   "metadata": {},
   "source": [
    "## Dataset Balancing\n"
   ]
  },
  {
   "cell_type": "code",
   "execution_count": 277,
   "metadata": {},
   "outputs": [
    {
     "data": {
      "image/png": "[encoded data removed]",
      "text/plain": [
       "<Figure size 640x480 with 1 Axes>"
      ]
     },
     "metadata": {},
     "output_type": "display_data"
    }
   ],
   "source": [
    "import seaborn as sns\n",
    "import matplotlib.pyplot as plt\n",
    "\n",
    "sns.countplot(x='Target', data=data)\n",
    "plt.xticks(rotation=45)\n",
    "plt.show()"
   ]
  },
  {
   "cell_type": "code",
   "execution_count": 278,
   "metadata": {},
   "outputs": [
    {
     "data": {
      "text/plain": [
       "[('Dropout', 2209), ('Enrolled', 2209), ('Graduate', 2209)]"
      ]
     },
     "execution_count": 278,
     "metadata": {},
     "output_type": "execute_result"
    }
   ],
   "source": [
    "from imblearn.over_sampling import SMOTE\n",
    "from collections import Counter\n",
    "\n",
    "x, y = SMOTE().fit_resample(x, y)\n",
    "\n",
    "sorted(Counter(y).items()) # resulting balanced dateframe"
   ]
  },
  {
   "cell_type": "markdown",
   "metadata": {},
   "source": [
    "## Multi-class Logistic Regression\n"
   ]
  },
  {
   "cell_type": "markdown",
   "metadata": {},
   "source": [
    "Splitting dataset into 80/20\n"
   ]
  },
  {
   "cell_type": "code",
   "execution_count": 279,
   "metadata": {},
   "outputs": [],
   "source": [
    "from sklearn.model_selection import train_test_split\n",
    "from sklearn.linear_model import LogisticRegression\n",
    "from sklearn.metrics import classification_report, confusion_matrix, ConfusionMatrixDisplay\n",
    "from sklearn.preprocessing import StandardScaler\n",
    "\n",
    "# Split data into training and test sets\n",
    "X_train, X_test, y_train, y_test = train_test_split(x, y, test_size=0.2, random_state=42)\n",
    "\n",
    "# Standardize the feature set (scaling improves model performance for logistic regression)\n",
    "scaler = StandardScaler()\n",
    "X_train = scaler.fit_transform(X_train)\n",
    "X_test = scaler.transform(X_test)\n",
    "\n",
    "# Initialize the Logistic Regression model with multi-class handling\n",
    "model = LogisticRegression(multi_class='multinomial', solver='lbfgs', max_iter=1000, random_state=42)"
   ]
  },
  {
   "cell_type": "code",
   "execution_count": 280,
   "metadata": {},
   "outputs": [
    {
     "name": "stdout",
     "output_type": "stream",
     "text": [
      "\n",
      "Classification Report:\n",
      "              precision    recall  f1-score   support\n",
      "\n",
      "     Dropout       0.74      0.71      0.73       444\n",
      "    Enrolled       0.51      0.54      0.52       439\n",
      "    Graduate       0.63      0.61      0.62       443\n",
      "\n",
      "    accuracy                           0.62      1326\n",
      "   macro avg       0.63      0.62      0.62      1326\n",
      "weighted avg       0.63      0.62      0.62      1326\n",
      "\n"
     ]
    },
    {
     "name": "stderr",
     "output_type": "stream",
     "text": [
      "/usr/local/lib/python3.10/dist-packages/sklearn/linear_model/_logistic.py:1247: FutureWarning: 'multi_class' was deprecated in version 1.5 and will be removed in 1.7. From then on, it will always use 'multinomial'. Leave it to its default value to avoid this warning.\n",
      "  warnings.warn(\n"
     ]
    }
   ],
   "source": [
    "# Train the model\n",
    "model.fit(X_train, y_train)\n",
    "\n",
    "# Make predictions\n",
    "y_pred = model.predict(X_test)\n",
    "\n",
    "print(\"\\nClassification Report:\")\n",
    "print(classification_report(y_test, y_pred))"
   ]
  },
  {
   "cell_type": "markdown",
   "metadata": {},
   "source": [
    "-   Model accuracy is around 60%\n",
    "-   High precision with Dropout class, but less with Enrolled and Graduate classes. Perhaps due to variables chosen?\n"
   ]
  },
  {
   "cell_type": "code",
   "execution_count": 281,
   "metadata": {},
   "outputs": [
    {
     "data": {
      "image/png": "[encoded data removed]",
      "text/plain": [
       "<Figure size 640x480 with 2 Axes>"
      ]
     },
     "metadata": {},
     "output_type": "display_data"
    }
   ],
   "source": [
    "cm = confusion_matrix(y_test, y_pred, labels=model.classes_)\n",
    "disp = ConfusionMatrixDisplay(confusion_matrix=cm, display_labels=model.classes_)\n",
    "disp.plot(cmap='viridis')\n",
    "plt.show()"
   ]
  },
  {
   "cell_type": "markdown",
   "metadata": {},
   "source": [
    "Splitting dataset into 70/20/10\n"
   ]
  },
  {
   "cell_type": "code",
   "execution_count": 282,
   "metadata": {},
   "outputs": [],
   "source": [
    "from sklearn.model_selection import train_test_split\n",
    "from sklearn.linear_model import LogisticRegression\n",
    "from sklearn.metrics import classification_report, confusion_matrix, ConfusionMatrixDisplay\n",
    "from sklearn.preprocessing import StandardScaler\n",
    "\n",
    "# Split data into training (70%) and temporary (30%) sets\n",
    "X_train, X_temp, y_train, y_temp = train_test_split(x, y, test_size=0.3, random_state=42)  # 40% for temp (validation + test)\n",
    "\n",
    "# Split the temporary set into validation (2/3) and test (1/3) sets\n",
    "X_val, X_test, y_val, y_test = train_test_split(X_temp, y_temp, test_size=2/3, random_state=42)  # 50% of the temp for test\n",
    "\n",
    "#  Standardisation and scaling\n",
    "scaler = StandardScaler()\n",
    "X_train = scaler.fit_transform(X_train)\n",
    "X_val = scaler.transform(X_val)\n",
    "X_test = scaler.transform(X_test)\n",
    "\n",
    "# Initialize the Logistic Regression model with multi-class handling\n",
    "model = LogisticRegression(multi_class='multinomial', solver='lbfgs', max_iter=1000, random_state=42)"
   ]
  },
  {
   "cell_type": "code",
   "execution_count": 283,
   "metadata": {},
   "outputs": [
    {
     "name": "stdout",
     "output_type": "stream",
     "text": [
      "\n",
      "Validation Classification Report:\n",
      "              precision    recall  f1-score   support\n",
      "\n",
      "     Dropout       0.76      0.69      0.72       248\n",
      "    Enrolled       0.47      0.54      0.50       210\n",
      "    Graduate       0.58      0.57      0.58       205\n",
      "\n",
      "    accuracy                           0.60       663\n",
      "   macro avg       0.61      0.60      0.60       663\n",
      "weighted avg       0.62      0.60      0.61       663\n",
      "\n"
     ]
    },
    {
     "name": "stderr",
     "output_type": "stream",
     "text": [
      "/usr/local/lib/python3.10/dist-packages/sklearn/linear_model/_logistic.py:1247: FutureWarning: 'multi_class' was deprecated in version 1.5 and will be removed in 1.7. From then on, it will always use 'multinomial'. Leave it to its default value to avoid this warning.\n",
      "  warnings.warn(\n"
     ]
    }
   ],
   "source": [
    "# Train the model\n",
    "model.fit(X_train, y_train)\n",
    "\n",
    "# Make predictions on the validation set\n",
    "y_val_pred = model.predict(X_val)\n",
    "\n",
    "# Evaluate model on the validation set\n",
    "print(\"\\nValidation Classification Report:\")\n",
    "print(classification_report(y_val, y_val_pred))"
   ]
  },
  {
   "cell_type": "code",
   "execution_count": 284,
   "metadata": {},
   "outputs": [
    {
     "name": "stdout",
     "output_type": "stream",
     "text": [
      "\n",
      "Test Classification Report:\n",
      "              precision    recall  f1-score   support\n",
      "\n",
      "     Dropout       0.75      0.70      0.73       433\n",
      "    Enrolled       0.53      0.58      0.55       440\n",
      "    Graduate       0.64      0.61      0.63       453\n",
      "\n",
      "    accuracy                           0.63      1326\n",
      "   macro avg       0.64      0.63      0.63      1326\n",
      "weighted avg       0.64      0.63      0.63      1326\n",
      "\n"
     ]
    }
   ],
   "source": [
    "# Make predictions on the test set\n",
    "y_test_pred = model.predict(X_test)\n",
    "\n",
    "# Evaluate model on the test set\n",
    "print(\"\\nTest Classification Report:\")\n",
    "print(classification_report(y_test, y_test_pred))"
   ]
  },
  {
   "cell_type": "code",
   "execution_count": 285,
   "metadata": {},
   "outputs": [
    {
     "data": {
      "image/png": "[encoded data removed]",
      "text/plain": [
       "<Figure size 640x480 with 2 Axes>"
      ]
     },
     "metadata": {},
     "output_type": "display_data"
    }
   ],
   "source": [
    "cm = confusion_matrix(y_test, y_test_pred, labels=model.classes_)\n",
    "disp = ConfusionMatrixDisplay(confusion_matrix=cm, display_labels=model.classes_)\n",
    "disp.plot(cmap='viridis')\n",
    "plt.show()"
   ]
  },
  {
   "cell_type": "markdown",
   "metadata": {},
   "source": [
    "## Updated Dataset (STD)\n"
   ]
  },
  {
   "cell_type": "code",
   "execution_count": 286,
   "metadata": {},
   "outputs": [
    {
     "data": {
      "text/html": [
       "<div>\n",
       "<style scoped>\n",
       "    .dataframe tbody tr th:only-of-type {\n",
       "        vertical-align: middle;\n",
       "    }\n",
       "\n",
       "    .dataframe tbody tr th {\n",
       "        vertical-align: top;\n",
       "    }\n",
       "\n",
       "    .dataframe thead th {\n",
       "        text-align: right;\n",
       "    }\n",
       "</style>\n",
       "<table border=\"1\" class=\"dataframe\">\n",
       "  <thead>\n",
       "    <tr style=\"text-align: right;\">\n",
       "      <th></th>\n",
       "      <th>PC1</th>\n",
       "      <th>PC2</th>\n",
       "      <th>PC3</th>\n",
       "      <th>PC4</th>\n",
       "      <th>PC5</th>\n",
       "      <th>PC6</th>\n",
       "      <th>PC7</th>\n",
       "      <th>PC8</th>\n",
       "      <th>PC9</th>\n",
       "      <th>PC10</th>\n",
       "      <th>PC11</th>\n",
       "      <th>PC12</th>\n",
       "      <th>Target</th>\n",
       "    </tr>\n",
       "  </thead>\n",
       "  <tbody>\n",
       "    <tr>\n",
       "      <th>0</th>\n",
       "      <td>-4.362150</td>\n",
       "      <td>-1.007771</td>\n",
       "      <td>2.563540</td>\n",
       "      <td>-1.331845</td>\n",
       "      <td>1.075936</td>\n",
       "      <td>-1.368674</td>\n",
       "      <td>0.191537</td>\n",
       "      <td>-0.373345</td>\n",
       "      <td>0.803115</td>\n",
       "      <td>0.837092</td>\n",
       "      <td>1.623067</td>\n",
       "      <td>-0.261753</td>\n",
       "      <td>Dropout</td>\n",
       "    </tr>\n",
       "    <tr>\n",
       "      <th>1</th>\n",
       "      <td>-0.241665</td>\n",
       "      <td>-0.291954</td>\n",
       "      <td>1.576865</td>\n",
       "      <td>1.195618</td>\n",
       "      <td>-1.024771</td>\n",
       "      <td>0.349829</td>\n",
       "      <td>0.015485</td>\n",
       "      <td>-0.468722</td>\n",
       "      <td>0.327269</td>\n",
       "      <td>0.175780</td>\n",
       "      <td>-2.409748</td>\n",
       "      <td>-0.823892</td>\n",
       "      <td>Graduate</td>\n",
       "    </tr>\n",
       "    <tr>\n",
       "      <th>2</th>\n",
       "      <td>-2.704703</td>\n",
       "      <td>0.883059</td>\n",
       "      <td>-0.227150</td>\n",
       "      <td>0.584111</td>\n",
       "      <td>0.216966</td>\n",
       "      <td>-0.617850</td>\n",
       "      <td>-0.370419</td>\n",
       "      <td>0.055970</td>\n",
       "      <td>1.348930</td>\n",
       "      <td>-0.152507</td>\n",
       "      <td>-2.033690</td>\n",
       "      <td>0.099927</td>\n",
       "      <td>Dropout</td>\n",
       "    </tr>\n",
       "    <tr>\n",
       "      <th>3</th>\n",
       "      <td>0.366266</td>\n",
       "      <td>-0.237005</td>\n",
       "      <td>-0.779684</td>\n",
       "      <td>0.273035</td>\n",
       "      <td>0.053979</td>\n",
       "      <td>-0.070852</td>\n",
       "      <td>0.957714</td>\n",
       "      <td>-1.342641</td>\n",
       "      <td>0.319636</td>\n",
       "      <td>-0.506683</td>\n",
       "      <td>-0.036937</td>\n",
       "      <td>1.136352</td>\n",
       "      <td>Graduate</td>\n",
       "    </tr>\n",
       "    <tr>\n",
       "      <th>4</th>\n",
       "      <td>0.002403</td>\n",
       "      <td>2.173728</td>\n",
       "      <td>0.855346</td>\n",
       "      <td>-1.884833</td>\n",
       "      <td>-1.329653</td>\n",
       "      <td>0.679385</td>\n",
       "      <td>0.600227</td>\n",
       "      <td>-0.520670</td>\n",
       "      <td>-0.723744</td>\n",
       "      <td>0.238530</td>\n",
       "      <td>0.123345</td>\n",
       "      <td>0.951798</td>\n",
       "      <td>Graduate</td>\n",
       "    </tr>\n",
       "    <tr>\n",
       "      <th>...</th>\n",
       "      <td>...</td>\n",
       "      <td>...</td>\n",
       "      <td>...</td>\n",
       "      <td>...</td>\n",
       "      <td>...</td>\n",
       "      <td>...</td>\n",
       "      <td>...</td>\n",
       "      <td>...</td>\n",
       "      <td>...</td>\n",
       "      <td>...</td>\n",
       "      <td>...</td>\n",
       "      <td>...</td>\n",
       "      <td>...</td>\n",
       "    </tr>\n",
       "    <tr>\n",
       "      <th>4419</th>\n",
       "      <td>0.064114</td>\n",
       "      <td>-0.857383</td>\n",
       "      <td>0.270023</td>\n",
       "      <td>0.927575</td>\n",
       "      <td>-0.612635</td>\n",
       "      <td>0.164950</td>\n",
       "      <td>-1.744665</td>\n",
       "      <td>0.399305</td>\n",
       "      <td>-0.741414</td>\n",
       "      <td>0.725621</td>\n",
       "      <td>0.491287</td>\n",
       "      <td>-0.248106</td>\n",
       "      <td>Graduate</td>\n",
       "    </tr>\n",
       "    <tr>\n",
       "      <th>4420</th>\n",
       "      <td>-1.110825</td>\n",
       "      <td>-0.195181</td>\n",
       "      <td>3.996976</td>\n",
       "      <td>3.167033</td>\n",
       "      <td>3.844981</td>\n",
       "      <td>10.919090</td>\n",
       "      <td>-1.211768</td>\n",
       "      <td>3.633391</td>\n",
       "      <td>5.335753</td>\n",
       "      <td>-4.966047</td>\n",
       "      <td>0.288967</td>\n",
       "      <td>2.044306</td>\n",
       "      <td>Dropout</td>\n",
       "    </tr>\n",
       "    <tr>\n",
       "      <th>4421</th>\n",
       "      <td>0.479047</td>\n",
       "      <td>-0.159695</td>\n",
       "      <td>-0.165274</td>\n",
       "      <td>-1.329103</td>\n",
       "      <td>-1.459423</td>\n",
       "      <td>0.592325</td>\n",
       "      <td>1.152388</td>\n",
       "      <td>0.609639</td>\n",
       "      <td>-0.158182</td>\n",
       "      <td>0.125479</td>\n",
       "      <td>-1.072362</td>\n",
       "      <td>0.489683</td>\n",
       "      <td>Dropout</td>\n",
       "    </tr>\n",
       "    <tr>\n",
       "      <th>4422</th>\n",
       "      <td>-0.267879</td>\n",
       "      <td>-1.284237</td>\n",
       "      <td>-0.252197</td>\n",
       "      <td>-1.695514</td>\n",
       "      <td>-0.365083</td>\n",
       "      <td>0.189500</td>\n",
       "      <td>1.968225</td>\n",
       "      <td>-0.058573</td>\n",
       "      <td>-0.198617</td>\n",
       "      <td>-0.926187</td>\n",
       "      <td>-1.227996</td>\n",
       "      <td>0.120637</td>\n",
       "      <td>Graduate</td>\n",
       "    </tr>\n",
       "    <tr>\n",
       "      <th>4423</th>\n",
       "      <td>0.171440</td>\n",
       "      <td>-0.425979</td>\n",
       "      <td>0.785941</td>\n",
       "      <td>-0.796540</td>\n",
       "      <td>1.012782</td>\n",
       "      <td>1.565773</td>\n",
       "      <td>-1.382776</td>\n",
       "      <td>2.169789</td>\n",
       "      <td>-0.372278</td>\n",
       "      <td>-1.460044</td>\n",
       "      <td>-0.495083</td>\n",
       "      <td>1.690921</td>\n",
       "      <td>Graduate</td>\n",
       "    </tr>\n",
       "  </tbody>\n",
       "</table>\n",
       "<p>4424 rows × 13 columns</p>\n",
       "</div>"
      ],
      "text/plain": [
       "           PC1       PC2       PC3       PC4       PC5        PC6       PC7  \\\n",
       "0    -4.362150 -1.007771  2.563540 -1.331845  1.075936  -1.368674  0.191537   \n",
       "1    -0.241665 -0.291954  1.576865  1.195618 -1.024771   0.349829  0.015485   \n",
       "2    -2.704703  0.883059 -0.227150  0.584111  0.216966  -0.617850 -0.370419   \n",
       "3     0.366266 -0.237005 -0.779684  0.273035  0.053979  -0.070852  0.957714   \n",
       "4     0.002403  2.173728  0.855346 -1.884833 -1.329653   0.679385  0.600227   \n",
       "...        ...       ...       ...       ...       ...        ...       ...   \n",
       "4419  0.064114 -0.857383  0.270023  0.927575 -0.612635   0.164950 -1.744665   \n",
       "4420 -1.110825 -0.195181  3.996976  3.167033  3.844981  10.919090 -1.211768   \n",
       "4421  0.479047 -0.159695 -0.165274 -1.329103 -1.459423   0.592325  1.152388   \n",
       "4422 -0.267879 -1.284237 -0.252197 -1.695514 -0.365083   0.189500  1.968225   \n",
       "4423  0.171440 -0.425979  0.785941 -0.796540  1.012782   1.565773 -1.382776   \n",
       "\n",
       "           PC8       PC9      PC10      PC11      PC12    Target  \n",
       "0    -0.373345  0.803115  0.837092  1.623067 -0.261753   Dropout  \n",
       "1    -0.468722  0.327269  0.175780 -2.409748 -0.823892  Graduate  \n",
       "2     0.055970  1.348930 -0.152507 -2.033690  0.099927   Dropout  \n",
       "3    -1.342641  0.319636 -0.506683 -0.036937  1.136352  Graduate  \n",
       "4    -0.520670 -0.723744  0.238530  0.123345  0.951798  Graduate  \n",
       "...        ...       ...       ...       ...       ...       ...  \n",
       "4419  0.399305 -0.741414  0.725621  0.491287 -0.248106  Graduate  \n",
       "4420  3.633391  5.335753 -4.966047  0.288967  2.044306   Dropout  \n",
       "4421  0.609639 -0.158182  0.125479 -1.072362  0.489683   Dropout  \n",
       "4422 -0.058573 -0.198617 -0.926187 -1.227996  0.120637  Graduate  \n",
       "4423  2.169789 -0.372278 -1.460044 -0.495083  1.690921  Graduate  \n",
       "\n",
       "[4424 rows x 13 columns]"
      ]
     },
     "execution_count": 286,
     "metadata": {},
     "output_type": "execute_result"
    }
   ],
   "source": [
    "import pandas as pd\n",
    "\n",
    "data = pd.read_csv('../../dataset/dataset_pca_std.csv')\n",
    "data"
   ]
  },
  {
   "cell_type": "code",
   "execution_count": 287,
   "metadata": {},
   "outputs": [],
   "source": [
    "# reshaping\n",
    "y = data['Target']\n",
    "x = data.drop(['Target'], axis=1)"
   ]
  },
  {
   "cell_type": "code",
   "execution_count": 288,
   "metadata": {},
   "outputs": [
    {
     "data": {
      "image/png": "[encoded data removed]",
      "text/plain": [
       "<Figure size 640x480 with 1 Axes>"
      ]
     },
     "metadata": {},
     "output_type": "display_data"
    }
   ],
   "source": [
    "sns.countplot(x='Target', data=data)\n",
    "plt.xticks(rotation=45)\n",
    "plt.show()"
   ]
  },
  {
   "cell_type": "code",
   "execution_count": 289,
   "metadata": {},
   "outputs": [
    {
     "data": {
      "text/plain": [
       "[('Dropout', 2209), ('Enrolled', 2209), ('Graduate', 2209)]"
      ]
     },
     "execution_count": 289,
     "metadata": {},
     "output_type": "execute_result"
    }
   ],
   "source": [
    "from imblearn.over_sampling import SMOTE\n",
    "from collections import Counter\n",
    "\n",
    "x, y = SMOTE().fit_resample(x, y)\n",
    "\n",
    "sorted(Counter(y).items()) # resulting balanced dateframe"
   ]
  },
  {
   "cell_type": "code",
   "execution_count": 290,
   "metadata": {},
   "outputs": [],
   "source": [
    "# Split data into training (70%) and temporary (30%) sets\n",
    "X_train, X_temp, y_train, y_temp = train_test_split(x, y, test_size=0.3, random_state=42)  # 40% for temp (validation + test)\n",
    "\n",
    "# Split the temporary set into validation (2/3) and test (1/3) sets\n",
    "X_val, X_test, y_val, y_test = train_test_split(X_temp, y_temp, test_size=2/3, random_state=42)  # 50% of the temp for test\n",
    "\n",
    "# #  Standardisation and scaling\n",
    "# scaler = StandardScaler()\n",
    "# X_train = scaler.fit_transform(X_train)\n",
    "# X_val = scaler.transform(X_val)\n",
    "# X_test = scaler.transform(X_test)\n",
    "\n",
    "# Initialize the Logistic Regression model with multi-class handling\n",
    "model = LogisticRegression(multi_class='multinomial', solver='lbfgs', max_iter=1000, random_state=42)"
   ]
  },
  {
   "cell_type": "code",
   "execution_count": 291,
   "metadata": {},
   "outputs": [
    {
     "name": "stdout",
     "output_type": "stream",
     "text": [
      "\n",
      "Validation Classification Report:\n",
      "              precision    recall  f1-score   support\n",
      "\n",
      "     Dropout       0.75      0.67      0.70       248\n",
      "    Enrolled       0.50      0.48      0.49       210\n",
      "    Graduate       0.59      0.69      0.63       205\n",
      "\n",
      "    accuracy                           0.61       663\n",
      "   macro avg       0.61      0.61      0.61       663\n",
      "weighted avg       0.62      0.61      0.61       663\n",
      "\n"
     ]
    },
    {
     "name": "stderr",
     "output_type": "stream",
     "text": [
      "/usr/local/lib/python3.10/dist-packages/sklearn/linear_model/_logistic.py:1247: FutureWarning: 'multi_class' was deprecated in version 1.5 and will be removed in 1.7. From then on, it will always use 'multinomial'. Leave it to its default value to avoid this warning.\n",
      "  warnings.warn(\n"
     ]
    }
   ],
   "source": [
    "# Train the model\n",
    "model.fit(X_train, y_train)\n",
    "\n",
    "# Make predictions on the validation set\n",
    "y_val_pred = model.predict(X_val)\n",
    "\n",
    "# Evaluate model on the validation set\n",
    "print(\"\\nValidation Classification Report:\")\n",
    "print(classification_report(y_val, y_val_pred))"
   ]
  },
  {
   "cell_type": "code",
   "execution_count": 292,
   "metadata": {},
   "outputs": [
    {
     "name": "stdout",
     "output_type": "stream",
     "text": [
      "\n",
      "Test Classification Report:\n",
      "              precision    recall  f1-score   support\n",
      "\n",
      "     Dropout       0.73      0.68      0.70       433\n",
      "    Enrolled       0.58      0.52      0.55       440\n",
      "    Graduate       0.65      0.76      0.70       453\n",
      "\n",
      "    accuracy                           0.66      1326\n",
      "   macro avg       0.66      0.65      0.65      1326\n",
      "weighted avg       0.65      0.66      0.65      1326\n",
      "\n"
     ]
    }
   ],
   "source": [
    "# Make predictions on the test set\n",
    "y_test_pred = model.predict(X_test)\n",
    "\n",
    "# Evaluate model on the test set\n",
    "print(\"\\nTest Classification Report:\")\n",
    "print(classification_report(y_test, y_test_pred))"
   ]
  }
 ],
 "metadata": {
  "kernelspec": {
   "display_name": "Python 3",
   "language": "python",
   "name": "python3"
  },
  "language_info": {
   "codemirror_mode": {
    "name": "ipython",
    "version": 3
   },
   "file_extension": ".py",
   "mimetype": "text/x-python",
   "name": "python",
   "nbconvert_exporter": "python",
   "pygments_lexer": "ipython3",
   "version": "3.10.12"
  }
 },
 "nbformat": 4,
 "nbformat_minor": 2
}
