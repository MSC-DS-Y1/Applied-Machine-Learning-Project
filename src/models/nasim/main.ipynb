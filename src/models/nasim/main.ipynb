{
 "cells": [
  {
   "cell_type": "code",
   "execution_count": 34,
   "metadata": {},
   "outputs": [
    {
     "data": {
      "text/html": [
       "<div>\n",
       "<style scoped>\n",
       "    .dataframe tbody tr th:only-of-type {\n",
       "        vertical-align: middle;\n",
       "    }\n",
       "\n",
       "    .dataframe tbody tr th {\n",
       "        vertical-align: top;\n",
       "    }\n",
       "\n",
       "    .dataframe thead th {\n",
       "        text-align: right;\n",
       "    }\n",
       "</style>\n",
       "<table border=\"1\" class=\"dataframe\">\n",
       "  <thead>\n",
       "    <tr style=\"text-align: right;\">\n",
       "      <th></th>\n",
       "      <th>PC1</th>\n",
       "      <th>PC2</th>\n",
       "      <th>PC3</th>\n",
       "      <th>PC4</th>\n",
       "      <th>PC5</th>\n",
       "      <th>PC6</th>\n",
       "      <th>PC7</th>\n",
       "      <th>PC8</th>\n",
       "      <th>Target</th>\n",
       "    </tr>\n",
       "  </thead>\n",
       "  <tbody>\n",
       "    <tr>\n",
       "      <th>0</th>\n",
       "      <td>-0.314242</td>\n",
       "      <td>-0.205719</td>\n",
       "      <td>-0.028824</td>\n",
       "      <td>0.206659</td>\n",
       "      <td>0.012864</td>\n",
       "      <td>-0.874508</td>\n",
       "      <td>0.387179</td>\n",
       "      <td>0.010646</td>\n",
       "      <td>Dropout</td>\n",
       "    </tr>\n",
       "    <tr>\n",
       "      <th>1</th>\n",
       "      <td>-0.470709</td>\n",
       "      <td>-0.329179</td>\n",
       "      <td>0.884960</td>\n",
       "      <td>-0.093840</td>\n",
       "      <td>-0.083021</td>\n",
       "      <td>0.226558</td>\n",
       "      <td>0.106516</td>\n",
       "      <td>-0.184132</td>\n",
       "      <td>Graduate</td>\n",
       "    </tr>\n",
       "    <tr>\n",
       "      <th>2</th>\n",
       "      <td>-0.396169</td>\n",
       "      <td>0.580298</td>\n",
       "      <td>0.717272</td>\n",
       "      <td>0.092688</td>\n",
       "      <td>0.067955</td>\n",
       "      <td>-0.065536</td>\n",
       "      <td>-0.096558</td>\n",
       "      <td>-0.204557</td>\n",
       "      <td>Dropout</td>\n",
       "    </tr>\n",
       "    <tr>\n",
       "      <th>3</th>\n",
       "      <td>-0.130125</td>\n",
       "      <td>0.273844</td>\n",
       "      <td>-0.174658</td>\n",
       "      <td>-0.023552</td>\n",
       "      <td>-0.576278</td>\n",
       "      <td>0.067090</td>\n",
       "      <td>-0.072535</td>\n",
       "      <td>-0.123530</td>\n",
       "      <td>Graduate</td>\n",
       "    </tr>\n",
       "    <tr>\n",
       "      <th>4</th>\n",
       "      <td>-0.131716</td>\n",
       "      <td>0.229628</td>\n",
       "      <td>-0.067836</td>\n",
       "      <td>-0.505245</td>\n",
       "      <td>-0.335535</td>\n",
       "      <td>-0.094679</td>\n",
       "      <td>0.105542</td>\n",
       "      <td>0.325822</td>\n",
       "      <td>Graduate</td>\n",
       "    </tr>\n",
       "    <tr>\n",
       "      <th>...</th>\n",
       "      <td>...</td>\n",
       "      <td>...</td>\n",
       "      <td>...</td>\n",
       "      <td>...</td>\n",
       "      <td>...</td>\n",
       "      <td>...</td>\n",
       "      <td>...</td>\n",
       "      <td>...</td>\n",
       "      <td>...</td>\n",
       "    </tr>\n",
       "    <tr>\n",
       "      <th>4419</th>\n",
       "      <td>-0.276222</td>\n",
       "      <td>-0.514504</td>\n",
       "      <td>-0.105317</td>\n",
       "      <td>-0.246347</td>\n",
       "      <td>0.491042</td>\n",
       "      <td>0.030594</td>\n",
       "      <td>-0.111448</td>\n",
       "      <td>-0.049411</td>\n",
       "      <td>Graduate</td>\n",
       "    </tr>\n",
       "    <tr>\n",
       "      <th>4420</th>\n",
       "      <td>-0.528528</td>\n",
       "      <td>-0.238030</td>\n",
       "      <td>0.820748</td>\n",
       "      <td>0.271141</td>\n",
       "      <td>0.030093</td>\n",
       "      <td>0.218110</td>\n",
       "      <td>-0.039184</td>\n",
       "      <td>-0.136250</td>\n",
       "      <td>Dropout</td>\n",
       "    </tr>\n",
       "    <tr>\n",
       "      <th>4421</th>\n",
       "      <td>0.814815</td>\n",
       "      <td>0.084677</td>\n",
       "      <td>0.172297</td>\n",
       "      <td>-0.317228</td>\n",
       "      <td>-0.250588</td>\n",
       "      <td>-0.060601</td>\n",
       "      <td>-0.045802</td>\n",
       "      <td>0.100848</td>\n",
       "      <td>Dropout</td>\n",
       "    </tr>\n",
       "    <tr>\n",
       "      <th>4422</th>\n",
       "      <td>0.810934</td>\n",
       "      <td>0.170534</td>\n",
       "      <td>0.080124</td>\n",
       "      <td>0.148968</td>\n",
       "      <td>-0.501787</td>\n",
       "      <td>-0.070562</td>\n",
       "      <td>0.011215</td>\n",
       "      <td>-0.056446</td>\n",
       "      <td>Graduate</td>\n",
       "    </tr>\n",
       "    <tr>\n",
       "      <th>4423</th>\n",
       "      <td>-0.132748</td>\n",
       "      <td>0.347853</td>\n",
       "      <td>-0.328484</td>\n",
       "      <td>-0.190778</td>\n",
       "      <td>0.465049</td>\n",
       "      <td>-0.012571</td>\n",
       "      <td>0.015455</td>\n",
       "      <td>-0.132039</td>\n",
       "      <td>Graduate</td>\n",
       "    </tr>\n",
       "  </tbody>\n",
       "</table>\n",
       "<p>4424 rows × 9 columns</p>\n",
       "</div>"
      ],
      "text/plain": [
       "           PC1       PC2       PC3       PC4       PC5       PC6       PC7  \\\n",
       "0    -0.314242 -0.205719 -0.028824  0.206659  0.012864 -0.874508  0.387179   \n",
       "1    -0.470709 -0.329179  0.884960 -0.093840 -0.083021  0.226558  0.106516   \n",
       "2    -0.396169  0.580298  0.717272  0.092688  0.067955 -0.065536 -0.096558   \n",
       "3    -0.130125  0.273844 -0.174658 -0.023552 -0.576278  0.067090 -0.072535   \n",
       "4    -0.131716  0.229628 -0.067836 -0.505245 -0.335535 -0.094679  0.105542   \n",
       "...        ...       ...       ...       ...       ...       ...       ...   \n",
       "4419 -0.276222 -0.514504 -0.105317 -0.246347  0.491042  0.030594 -0.111448   \n",
       "4420 -0.528528 -0.238030  0.820748  0.271141  0.030093  0.218110 -0.039184   \n",
       "4421  0.814815  0.084677  0.172297 -0.317228 -0.250588 -0.060601 -0.045802   \n",
       "4422  0.810934  0.170534  0.080124  0.148968 -0.501787 -0.070562  0.011215   \n",
       "4423 -0.132748  0.347853 -0.328484 -0.190778  0.465049 -0.012571  0.015455   \n",
       "\n",
       "           PC8    Target  \n",
       "0     0.010646   Dropout  \n",
       "1    -0.184132  Graduate  \n",
       "2    -0.204557   Dropout  \n",
       "3    -0.123530  Graduate  \n",
       "4     0.325822  Graduate  \n",
       "...        ...       ...  \n",
       "4419 -0.049411  Graduate  \n",
       "4420 -0.136250   Dropout  \n",
       "4421  0.100848   Dropout  \n",
       "4422 -0.056446  Graduate  \n",
       "4423 -0.132039  Graduate  \n",
       "\n",
       "[4424 rows x 9 columns]"
      ]
     },
     "execution_count": 34,
     "metadata": {},
     "output_type": "execute_result"
    }
   ],
   "source": [
    "import pandas as pd\n",
    "\n",
    "data = pd.read_csv('../../dataset/dataset_pca.csv')\n",
    "data"
   ]
  },
  {
   "cell_type": "code",
   "execution_count": 35,
   "metadata": {},
   "outputs": [],
   "source": [
    "# reshaping\n",
    "y = data['Target']\n",
    "x = data.drop(['Target'], axis=1)"
   ]
  },
  {
   "cell_type": "markdown",
   "metadata": {},
   "source": [
    "## Dataset Balancing\n"
   ]
  },
  {
   "cell_type": "code",
   "execution_count": 36,
   "metadata": {},
   "outputs": [
    {
     "data": {
      "image/png": "[encoded data removed]",
      "text/plain": [
       "<Figure size 640x480 with 1 Axes>"
      ]
     },
     "metadata": {},
     "output_type": "display_data"
    }
   ],
   "source": [
    "import seaborn as sns\n",
    "import matplotlib.pyplot as plt\n",
    "\n",
    "sns.countplot(x='Target', data=data)\n",
    "plt.xticks(rotation=45)\n",
    "plt.show()"
   ]
  },
  {
   "cell_type": "code",
   "execution_count": 37,
   "metadata": {},
   "outputs": [
    {
     "data": {
      "text/plain": [
       "[('Dropout', 2209), ('Enrolled', 2209), ('Graduate', 2209)]"
      ]
     },
     "execution_count": 37,
     "metadata": {},
     "output_type": "execute_result"
    }
   ],
   "source": [
    "from imblearn.over_sampling import SMOTE\n",
    "from collections import Counter\n",
    "\n",
    "x, y = SMOTE().fit_resample(x, y)\n",
    "\n",
    "sorted(Counter(y).items()) # resulting balanced dateframe"
   ]
  },
  {
   "cell_type": "markdown",
   "metadata": {},
   "source": [
    "## Multi-class Logistic Regression\n"
   ]
  },
  {
   "cell_type": "markdown",
   "metadata": {},
   "source": [
    "Splitting dataset into 80/20\n"
   ]
  },
  {
   "cell_type": "code",
   "execution_count": 38,
   "metadata": {},
   "outputs": [],
   "source": [
    "from sklearn.model_selection import train_test_split\n",
    "from sklearn.linear_model import LogisticRegression\n",
    "from sklearn.metrics import classification_report, confusion_matrix, ConfusionMatrixDisplay\n",
    "from sklearn.preprocessing import StandardScaler\n",
    "\n",
    "# Split data into training and test sets\n",
    "X_train, X_test, y_train, y_test = train_test_split(x, y, test_size=0.2, random_state=42)\n",
    "\n",
    "# Standardize the feature set (scaling improves model performance for logistic regression)\n",
    "scaler = StandardScaler()\n",
    "X_train = scaler.fit_transform(X_train)\n",
    "X_test = scaler.transform(X_test)\n",
    "\n",
    "# Initialize the Logistic Regression model with multi-class handling\n",
    "model = LogisticRegression(multi_class='multinomial', solver='lbfgs', max_iter=1000, random_state=42)"
   ]
  },
  {
   "cell_type": "code",
   "execution_count": 39,
   "metadata": {},
   "outputs": [
    {
     "name": "stdout",
     "output_type": "stream",
     "text": [
      "\n",
      "Classification Report:\n",
      "              precision    recall  f1-score   support\n",
      "\n",
      "     Dropout       0.74      0.69      0.72       444\n",
      "    Enrolled       0.49      0.55      0.52       439\n",
      "    Graduate       0.61      0.58      0.60       443\n",
      "\n",
      "    accuracy                           0.61      1326\n",
      "   macro avg       0.61      0.61      0.61      1326\n",
      "weighted avg       0.61      0.61      0.61      1326\n",
      "\n"
     ]
    },
    {
     "name": "stderr",
     "output_type": "stream",
     "text": [
      "/usr/local/lib/python3.10/dist-packages/sklearn/linear_model/_logistic.py:1247: FutureWarning: 'multi_class' was deprecated in version 1.5 and will be removed in 1.7. From then on, it will always use 'multinomial'. Leave it to its default value to avoid this warning.\n",
      "  warnings.warn(\n"
     ]
    }
   ],
   "source": [
    "# Train the model\n",
    "model.fit(X_train, y_train)\n",
    "\n",
    "# Make predictions\n",
    "y_pred = model.predict(X_test)\n",
    "\n",
    "print(\"\\nClassification Report:\")\n",
    "print(classification_report(y_test, y_pred))"
   ]
  },
  {
   "cell_type": "markdown",
   "metadata": {},
   "source": [
    "-   Model accuracy is around 60%\n",
    "-   High precision with Dropout class, but less with Enrolled and Graduate classes. Perhaps due to variables chosen?\n"
   ]
  },
  {
   "cell_type": "code",
   "execution_count": 40,
   "metadata": {},
   "outputs": [
    {
     "data": {
      "image/png": "[encoded data removed]",
      "text/plain": [
       "<Figure size 640x480 with 2 Axes>"
      ]
     },
     "metadata": {},
     "output_type": "display_data"
    }
   ],
   "source": [
    "cm = confusion_matrix(y_test, y_pred, labels=model.classes_)\n",
    "disp = ConfusionMatrixDisplay(confusion_matrix=cm, display_labels=model.classes_)\n",
    "disp.plot(cmap='viridis')\n",
    "plt.show()"
   ]
  },
  {
   "cell_type": "markdown",
   "metadata": {},
   "source": [
    "Splitting dataset into 70/20/10\n"
   ]
  },
  {
   "cell_type": "code",
   "execution_count": 41,
   "metadata": {},
   "outputs": [],
   "source": [
    "from sklearn.model_selection import train_test_split\n",
    "from sklearn.linear_model import LogisticRegression\n",
    "from sklearn.metrics import classification_report, confusion_matrix, ConfusionMatrixDisplay\n",
    "from sklearn.preprocessing import StandardScaler\n",
    "\n",
    "# Split data into training (70%) and temporary (30%) sets\n",
    "X_train, X_temp, y_train, y_temp = train_test_split(x, y, test_size=0.3, random_state=42)  # 40% for temp (validation + test)\n",
    "\n",
    "# Split the temporary set into validation (2/3) and test (1/3) sets\n",
    "X_val, X_test, y_val, y_test = train_test_split(X_temp, y_temp, test_size=2/3, random_state=42)  # 50% of the temp for test\n",
    "\n",
    "#  Standardisation and scaling\n",
    "scaler = StandardScaler()\n",
    "X_train = scaler.fit_transform(X_train)\n",
    "X_val = scaler.transform(X_val)\n",
    "X_test = scaler.transform(X_test)\n",
    "\n",
    "# Initialize the Logistic Regression model with multi-class handling\n",
    "model = LogisticRegression(multi_class='multinomial', solver='lbfgs', max_iter=1000, random_state=42)"
   ]
  },
  {
   "cell_type": "code",
   "execution_count": 42,
   "metadata": {},
   "outputs": [
    {
     "name": "stderr",
     "output_type": "stream",
     "text": [
      "/usr/local/lib/python3.10/dist-packages/sklearn/linear_model/_logistic.py:1247: FutureWarning: 'multi_class' was deprecated in version 1.5 and will be removed in 1.7. From then on, it will always use 'multinomial'. Leave it to its default value to avoid this warning.\n",
      "  warnings.warn(\n"
     ]
    },
    {
     "name": "stdout",
     "output_type": "stream",
     "text": [
      "\n",
      "Validation Classification Report:\n",
      "              precision    recall  f1-score   support\n",
      "\n",
      "     Dropout       0.75      0.68      0.71       248\n",
      "    Enrolled       0.45      0.53      0.49       210\n",
      "    Graduate       0.58      0.55      0.56       205\n",
      "\n",
      "    accuracy                           0.59       663\n",
      "   macro avg       0.60      0.59      0.59       663\n",
      "weighted avg       0.60      0.59      0.60       663\n",
      "\n"
     ]
    }
   ],
   "source": [
    "# Train the model\n",
    "model.fit(X_train, y_train)\n",
    "\n",
    "# Make predictions on the validation set\n",
    "y_val_pred = model.predict(X_val)\n",
    "\n",
    "# Evaluate model on the validation set\n",
    "print(\"\\nValidation Classification Report:\")\n",
    "print(classification_report(y_val, y_val_pred))"
   ]
  },
  {
   "cell_type": "code",
   "execution_count": 43,
   "metadata": {},
   "outputs": [
    {
     "name": "stdout",
     "output_type": "stream",
     "text": [
      "\n",
      "Test Classification Report:\n",
      "              precision    recall  f1-score   support\n",
      "\n",
      "     Dropout       0.74      0.67      0.70       433\n",
      "    Enrolled       0.51      0.57      0.54       440\n",
      "    Graduate       0.61      0.59      0.60       453\n",
      "\n",
      "    accuracy                           0.61      1326\n",
      "   macro avg       0.62      0.61      0.61      1326\n",
      "weighted avg       0.62      0.61      0.61      1326\n",
      "\n"
     ]
    }
   ],
   "source": [
    "# Make predictions on the test set\n",
    "y_test_pred = model.predict(X_test)\n",
    "\n",
    "# Evaluate model on the test set\n",
    "print(\"\\nTest Classification Report:\")\n",
    "print(classification_report(y_test, y_test_pred))"
   ]
  },
  {
   "cell_type": "code",
   "execution_count": 44,
   "metadata": {},
   "outputs": [
    {
     "data": {
      "image/png": "[encoded data removed]",
      "text/plain": [
       "<Figure size 640x480 with 2 Axes>"
      ]
     },
     "metadata": {},
     "output_type": "display_data"
    }
   ],
   "source": [
    "cm = confusion_matrix(y_test, y_test_pred, labels=model.classes_)\n",
    "disp = ConfusionMatrixDisplay(confusion_matrix=cm, display_labels=model.classes_)\n",
    "disp.plot(cmap='viridis')\n",
    "plt.show()"
   ]
  }
 ],
 "metadata": {
  "kernelspec": {
   "display_name": "Python 3",
   "language": "python",
   "name": "python3"
  },
  "language_info": {
   "codemirror_mode": {
    "name": "ipython",
    "version": 3
   },
   "file_extension": ".py",
   "mimetype": "text/x-python",
   "name": "python",
   "nbconvert_exporter": "python",
   "pygments_lexer": "ipython3",
   "version": "3.10.12"
  }
 },
 "nbformat": 4,
 "nbformat_minor": 2
}
