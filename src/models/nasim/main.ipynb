{
 "cells": [
  {
   "cell_type": "code",
   "execution_count": 22,
   "metadata": {},
   "outputs": [
    {
     "data": {
      "text/html": [
       "<div>\n",
       "<style scoped>\n",
       "    .dataframe tbody tr th:only-of-type {\n",
       "        vertical-align: middle;\n",
       "    }\n",
       "\n",
       "    .dataframe tbody tr th {\n",
       "        vertical-align: top;\n",
       "    }\n",
       "\n",
       "    .dataframe thead th {\n",
       "        text-align: right;\n",
       "    }\n",
       "</style>\n",
       "<table border=\"1\" class=\"dataframe\">\n",
       "  <thead>\n",
       "    <tr style=\"text-align: right;\">\n",
       "      <th></th>\n",
       "      <th>PC1</th>\n",
       "      <th>PC2</th>\n",
       "      <th>PC3</th>\n",
       "      <th>PC4</th>\n",
       "      <th>PC5</th>\n",
       "      <th>PC6</th>\n",
       "      <th>PC7</th>\n",
       "      <th>PC8</th>\n",
       "      <th>PC9</th>\n",
       "      <th>PC10</th>\n",
       "      <th>PC11</th>\n",
       "      <th>PC12</th>\n",
       "      <th>PC13</th>\n",
       "      <th>PC14</th>\n",
       "      <th>Target</th>\n",
       "    </tr>\n",
       "  </thead>\n",
       "  <tbody>\n",
       "    <tr>\n",
       "      <th>0</th>\n",
       "      <td>-4.362150</td>\n",
       "      <td>-1.007771</td>\n",
       "      <td>-2.563540</td>\n",
       "      <td>1.331845</td>\n",
       "      <td>-1.075936</td>\n",
       "      <td>-1.368674</td>\n",
       "      <td>-0.191537</td>\n",
       "      <td>-0.373345</td>\n",
       "      <td>-0.803115</td>\n",
       "      <td>0.837092</td>\n",
       "      <td>1.623067</td>\n",
       "      <td>-0.261753</td>\n",
       "      <td>0.235638</td>\n",
       "      <td>-0.326818</td>\n",
       "      <td>Dropout</td>\n",
       "    </tr>\n",
       "    <tr>\n",
       "      <th>1</th>\n",
       "      <td>-0.241665</td>\n",
       "      <td>-0.291954</td>\n",
       "      <td>-1.576865</td>\n",
       "      <td>-1.195618</td>\n",
       "      <td>1.024771</td>\n",
       "      <td>0.349829</td>\n",
       "      <td>-0.015485</td>\n",
       "      <td>-0.468722</td>\n",
       "      <td>-0.327269</td>\n",
       "      <td>0.175780</td>\n",
       "      <td>-2.409748</td>\n",
       "      <td>-0.823892</td>\n",
       "      <td>-0.581045</td>\n",
       "      <td>-0.973223</td>\n",
       "      <td>Graduate</td>\n",
       "    </tr>\n",
       "    <tr>\n",
       "      <th>2</th>\n",
       "      <td>-2.704703</td>\n",
       "      <td>0.883059</td>\n",
       "      <td>0.227150</td>\n",
       "      <td>-0.584111</td>\n",
       "      <td>-0.216966</td>\n",
       "      <td>-0.617850</td>\n",
       "      <td>0.370419</td>\n",
       "      <td>0.055970</td>\n",
       "      <td>-1.348930</td>\n",
       "      <td>-0.152507</td>\n",
       "      <td>-2.033690</td>\n",
       "      <td>0.099927</td>\n",
       "      <td>-1.232974</td>\n",
       "      <td>-0.678305</td>\n",
       "      <td>Dropout</td>\n",
       "    </tr>\n",
       "    <tr>\n",
       "      <th>3</th>\n",
       "      <td>0.366266</td>\n",
       "      <td>-0.237005</td>\n",
       "      <td>0.779684</td>\n",
       "      <td>-0.273035</td>\n",
       "      <td>-0.053979</td>\n",
       "      <td>-0.070852</td>\n",
       "      <td>-0.957714</td>\n",
       "      <td>-1.342641</td>\n",
       "      <td>-0.319636</td>\n",
       "      <td>-0.506683</td>\n",
       "      <td>-0.036937</td>\n",
       "      <td>1.136352</td>\n",
       "      <td>0.300461</td>\n",
       "      <td>-0.328121</td>\n",
       "      <td>Graduate</td>\n",
       "    </tr>\n",
       "    <tr>\n",
       "      <th>4</th>\n",
       "      <td>0.002403</td>\n",
       "      <td>2.173728</td>\n",
       "      <td>-0.855346</td>\n",
       "      <td>1.884833</td>\n",
       "      <td>1.329653</td>\n",
       "      <td>0.679385</td>\n",
       "      <td>-0.600227</td>\n",
       "      <td>-0.520670</td>\n",
       "      <td>0.723744</td>\n",
       "      <td>0.238530</td>\n",
       "      <td>0.123345</td>\n",
       "      <td>0.951798</td>\n",
       "      <td>-0.536999</td>\n",
       "      <td>0.329798</td>\n",
       "      <td>Graduate</td>\n",
       "    </tr>\n",
       "    <tr>\n",
       "      <th>...</th>\n",
       "      <td>...</td>\n",
       "      <td>...</td>\n",
       "      <td>...</td>\n",
       "      <td>...</td>\n",
       "      <td>...</td>\n",
       "      <td>...</td>\n",
       "      <td>...</td>\n",
       "      <td>...</td>\n",
       "      <td>...</td>\n",
       "      <td>...</td>\n",
       "      <td>...</td>\n",
       "      <td>...</td>\n",
       "      <td>...</td>\n",
       "      <td>...</td>\n",
       "      <td>...</td>\n",
       "    </tr>\n",
       "    <tr>\n",
       "      <th>6622</th>\n",
       "      <td>0.060873</td>\n",
       "      <td>-1.038330</td>\n",
       "      <td>-0.659588</td>\n",
       "      <td>-0.622870</td>\n",
       "      <td>0.090081</td>\n",
       "      <td>0.225687</td>\n",
       "      <td>0.144346</td>\n",
       "      <td>-0.735628</td>\n",
       "      <td>1.092355</td>\n",
       "      <td>-0.388809</td>\n",
       "      <td>-0.191486</td>\n",
       "      <td>-0.284427</td>\n",
       "      <td>-0.311598</td>\n",
       "      <td>-0.111791</td>\n",
       "      <td>Enrolled</td>\n",
       "    </tr>\n",
       "    <tr>\n",
       "      <th>6623</th>\n",
       "      <td>1.148948</td>\n",
       "      <td>-1.170207</td>\n",
       "      <td>-0.717351</td>\n",
       "      <td>-0.962082</td>\n",
       "      <td>0.870401</td>\n",
       "      <td>0.614360</td>\n",
       "      <td>0.009241</td>\n",
       "      <td>-0.920165</td>\n",
       "      <td>0.642480</td>\n",
       "      <td>0.390729</td>\n",
       "      <td>-0.037445</td>\n",
       "      <td>-0.035594</td>\n",
       "      <td>-0.211604</td>\n",
       "      <td>-0.474668</td>\n",
       "      <td>Enrolled</td>\n",
       "    </tr>\n",
       "    <tr>\n",
       "      <th>6624</th>\n",
       "      <td>-1.002743</td>\n",
       "      <td>0.146619</td>\n",
       "      <td>1.154968</td>\n",
       "      <td>-0.141683</td>\n",
       "      <td>-1.294870</td>\n",
       "      <td>-0.938337</td>\n",
       "      <td>0.429822</td>\n",
       "      <td>-0.098083</td>\n",
       "      <td>0.023849</td>\n",
       "      <td>-0.824973</td>\n",
       "      <td>0.271648</td>\n",
       "      <td>0.682401</td>\n",
       "      <td>0.797084</td>\n",
       "      <td>0.081801</td>\n",
       "      <td>Enrolled</td>\n",
       "    </tr>\n",
       "    <tr>\n",
       "      <th>6625</th>\n",
       "      <td>-0.388730</td>\n",
       "      <td>1.818346</td>\n",
       "      <td>0.501319</td>\n",
       "      <td>1.047079</td>\n",
       "      <td>0.424902</td>\n",
       "      <td>0.603358</td>\n",
       "      <td>-0.964207</td>\n",
       "      <td>-1.525201</td>\n",
       "      <td>0.314041</td>\n",
       "      <td>-0.649624</td>\n",
       "      <td>0.409576</td>\n",
       "      <td>0.568857</td>\n",
       "      <td>-0.749601</td>\n",
       "      <td>-0.016070</td>\n",
       "      <td>Enrolled</td>\n",
       "    </tr>\n",
       "    <tr>\n",
       "      <th>6626</th>\n",
       "      <td>-1.311067</td>\n",
       "      <td>0.165531</td>\n",
       "      <td>-0.989419</td>\n",
       "      <td>-1.531756</td>\n",
       "      <td>-0.396373</td>\n",
       "      <td>-0.378884</td>\n",
       "      <td>0.325120</td>\n",
       "      <td>-0.333634</td>\n",
       "      <td>-0.178589</td>\n",
       "      <td>-0.788813</td>\n",
       "      <td>-2.135803</td>\n",
       "      <td>-1.341024</td>\n",
       "      <td>0.379643</td>\n",
       "      <td>-0.271374</td>\n",
       "      <td>Enrolled</td>\n",
       "    </tr>\n",
       "  </tbody>\n",
       "</table>\n",
       "<p>6627 rows × 15 columns</p>\n",
       "</div>"
      ],
      "text/plain": [
       "           PC1       PC2       PC3  ...      PC13      PC14    Target\n",
       "0    -4.362150 -1.007771 -2.563540  ...  0.235638 -0.326818   Dropout\n",
       "1    -0.241665 -0.291954 -1.576865  ... -0.581045 -0.973223  Graduate\n",
       "2    -2.704703  0.883059  0.227150  ... -1.232974 -0.678305   Dropout\n",
       "3     0.366266 -0.237005  0.779684  ...  0.300461 -0.328121  Graduate\n",
       "4     0.002403  2.173728 -0.855346  ... -0.536999  0.329798  Graduate\n",
       "...        ...       ...       ...  ...       ...       ...       ...\n",
       "6622  0.060873 -1.038330 -0.659588  ... -0.311598 -0.111791  Enrolled\n",
       "6623  1.148948 -1.170207 -0.717351  ... -0.211604 -0.474668  Enrolled\n",
       "6624 -1.002743  0.146619  1.154968  ...  0.797084  0.081801  Enrolled\n",
       "6625 -0.388730  1.818346  0.501319  ... -0.749601 -0.016070  Enrolled\n",
       "6626 -1.311067  0.165531 -0.989419  ...  0.379643 -0.271374  Enrolled\n",
       "\n",
       "[6627 rows x 15 columns]"
      ]
     },
     "execution_count": 22,
     "metadata": {},
     "output_type": "execute_result"
    }
   ],
   "source": [
    "import pandas as pd\n",
    "\n",
    "data = pd.read_csv('../../dataset/dataset_final.csv')\n",
    "data"
   ]
  },
  {
   "cell_type": "code",
   "execution_count": 23,
   "metadata": {},
   "outputs": [],
   "source": [
    "# reshaping\n",
    "y = data['Target']\n",
    "x = data.drop(['Target'], axis=1)"
   ]
  },
  {
   "cell_type": "markdown",
   "metadata": {},
   "source": [
    "## Multi-class Logistic Regression\n"
   ]
  },
  {
   "cell_type": "markdown",
   "metadata": {},
   "source": [
    "Splitting dataset into 80/20\n"
   ]
  },
  {
   "cell_type": "code",
   "execution_count": 24,
   "metadata": {},
   "outputs": [],
   "source": [
    "from sklearn.model_selection import train_test_split\n",
    "from sklearn.linear_model import LogisticRegression\n",
    "from sklearn.metrics import classification_report, confusion_matrix, ConfusionMatrixDisplay\n",
    "\n",
    "# Split data into training and test sets\n",
    "X_train, X_test, y_train, y_test = train_test_split(x, y, test_size=0.2, random_state=42)"
   ]
  },
  {
   "cell_type": "markdown",
   "metadata": {},
   "source": [
    "Multinomial Logistic Regression"
   ]
  },
  {
   "cell_type": "code",
   "execution_count": 25,
   "metadata": {},
   "outputs": [
    {
     "name": "stdout",
     "output_type": "stream",
     "text": [
      "\n",
      "Classification Report:\n",
      "              precision    recall  f1-score   support\n",
      "\n",
      "     Dropout       0.75      0.72      0.73       444\n",
      "    Enrolled       0.60      0.54      0.57       439\n",
      "    Graduate       0.68      0.77      0.72       443\n",
      "\n",
      "    accuracy                           0.68      1326\n",
      "   macro avg       0.67      0.68      0.67      1326\n",
      "weighted avg       0.67      0.68      0.67      1326\n",
      "\n"
     ]
    }
   ],
   "source": [
    "# Initialize the Logistic Regression model with multi-class handling\n",
    "model = LogisticRegression(max_iter=1000, random_state=42)\n",
    "\n",
    "# Train the model\n",
    "model.fit(X_train, y_train)\n",
    "\n",
    "# Make predictions\n",
    "y_pred = model.predict(X_test)\n",
    "\n",
    "print(\"\\nClassification Report:\")\n",
    "print(classification_report(y_test, y_pred))"
   ]
  },
  {
   "cell_type": "code",
   "execution_count": 26,
   "metadata": {},
   "outputs": [
    {
     "data": {
      "text/plain": [
       "<sklearn.metrics._plot.confusion_matrix.ConfusionMatrixDisplay at 0x7fbdbda06c80>"
      ]
     },
     "execution_count": 26,
     "metadata": {},
     "output_type": "execute_result"
    },
    {
     "data": {
      "image/png": "[encoded data removed]",
      "text/plain": [
       "<Figure size 640x480 with 2 Axes>"
      ]
     },
     "metadata": {},
     "output_type": "display_data"
    }
   ],
   "source": [
    "cm = confusion_matrix(y_test, y_pred, labels=model.classes_)\n",
    "disp = ConfusionMatrixDisplay(confusion_matrix=cm, display_labels=model.classes_)\n",
    "disp.plot(cmap='viridis')"
   ]
  },
  {
   "cell_type": "markdown",
   "metadata": {},
   "source": [
    "OvR Logistic Regression"
   ]
  },
  {
   "cell_type": "code",
   "execution_count": 27,
   "metadata": {},
   "outputs": [
    {
     "name": "stdout",
     "output_type": "stream",
     "text": [
      "\n",
      "Classification Report:\n",
      "              precision    recall  f1-score   support\n",
      "\n",
      "     Dropout       0.75      0.71      0.73       444\n",
      "    Enrolled       0.60      0.53      0.56       439\n",
      "    Graduate       0.67      0.79      0.72       443\n",
      "\n",
      "    accuracy                           0.67      1326\n",
      "   macro avg       0.67      0.67      0.67      1326\n",
      "weighted avg       0.67      0.67      0.67      1326\n",
      "\n"
     ]
    }
   ],
   "source": [
    "from sklearn.multiclass import OneVsRestClassifier\n",
    "\n",
    "# Initialize the Logistic Regression model with multi-class handling\n",
    "ovr = OneVsRestClassifier(LogisticRegression(max_iter=1000, random_state=42))\n",
    "\n",
    "# Train the model\n",
    "ovr.fit(X_train, y_train)\n",
    "\n",
    "# Make predictions\n",
    "y_pred = ovr.predict(X_test)\n",
    "\n",
    "print(\"\\nClassification Report:\")\n",
    "print(classification_report(y_test, y_pred))"
   ]
  },
  {
   "cell_type": "code",
   "execution_count": 28,
   "metadata": {},
   "outputs": [
    {
     "data": {
      "text/plain": [
       "<sklearn.metrics._plot.confusion_matrix.ConfusionMatrixDisplay at 0x7fbdbdf524a0>"
      ]
     },
     "execution_count": 28,
     "metadata": {},
     "output_type": "execute_result"
    },
    {
     "data": {
      "image/png": "[encoded data removed]",
      "text/plain": [
       "<Figure size 640x480 with 2 Axes>"
      ]
     },
     "metadata": {},
     "output_type": "display_data"
    }
   ],
   "source": [
    "cm = confusion_matrix(y_test, y_pred, labels=ovr.classes_)\n",
    "disp = ConfusionMatrixDisplay(confusion_matrix=cm, display_labels=ovr.classes_)\n",
    "disp.plot(cmap='viridis')"
   ]
  }
 ],
 "metadata": {
  "kernelspec": {
   "display_name": "Python 3",
   "language": "python",
   "name": "python3"
  },
  "language_info": {
   "codemirror_mode": {
    "name": "ipython",
    "version": 3
   },
   "file_extension": ".py",
   "mimetype": "text/x-python",
   "name": "python",
   "nbconvert_exporter": "python",
   "pygments_lexer": "ipython3",
   "version": "3.10.12"
  }
 },
 "nbformat": 4,
 "nbformat_minor": 2
}
