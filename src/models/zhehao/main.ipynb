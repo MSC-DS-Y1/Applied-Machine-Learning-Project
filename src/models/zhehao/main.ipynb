{
 "cells": [
  {
   "cell_type": "code",
   "id": "initial_id",
   "metadata": {
    "collapsed": true,
    "ExecuteTime": {
     "end_time": "2025-01-17T11:42:17.680056Z",
     "start_time": "2025-01-17T11:42:17.589484Z"
    }
   },
   "source": [
    "import matplotlib.pyplot as plt\n",
    "import numpy as np\n",
    "import sklearn.naive_bayes as nb\n",
    "import pandas as pd\n",
    "from PIL.ImageColor import colormap\n",
    "from tensorflow.python.keras.metrics import Accuracy\n",
    "\n",
    "# Load data\n",
    "data = pd.read_csv('../../dataset/dataset_final.csv')\n",
    "\n",
    "X = data.iloc[:,:-1]\n",
    "Y = data.iloc[:,-1]\n",
    "\n",
    "data"
   ],
   "outputs": [
    {
     "data": {
      "text/plain": [
       "           PC1       PC2       PC3       PC4       PC5       PC6       PC7  \\\n",
       "0    -4.362150 -1.007771 -2.563540  1.331845 -1.075936 -1.368674 -0.191537   \n",
       "1    -0.241665 -0.291954 -1.576865 -1.195618  1.024771  0.349829 -0.015485   \n",
       "2    -2.704703  0.883059  0.227150 -0.584111 -0.216966 -0.617850  0.370419   \n",
       "3     0.366266 -0.237005  0.779684 -0.273035 -0.053979 -0.070852 -0.957714   \n",
       "4     0.002403  2.173728 -0.855346  1.884833  1.329653  0.679385 -0.600227   \n",
       "...        ...       ...       ...       ...       ...       ...       ...   \n",
       "6622  0.060873 -1.038330 -0.659588 -0.622870  0.090081  0.225687  0.144346   \n",
       "6623  1.148948 -1.170207 -0.717351 -0.962082  0.870401  0.614360  0.009241   \n",
       "6624 -1.002743  0.146619  1.154968 -0.141683 -1.294870 -0.938337  0.429822   \n",
       "6625 -0.388730  1.818346  0.501319  1.047079  0.424902  0.603358 -0.964207   \n",
       "6626 -1.311067  0.165531 -0.989419 -1.531756 -0.396373 -0.378884  0.325120   \n",
       "\n",
       "           PC8       PC9      PC10      PC11      PC12      PC13      PC14  \\\n",
       "0    -0.373345 -0.803115  0.837092  1.623067 -0.261753  0.235638 -0.326818   \n",
       "1    -0.468722 -0.327269  0.175780 -2.409748 -0.823892 -0.581045 -0.973223   \n",
       "2     0.055970 -1.348930 -0.152507 -2.033690  0.099927 -1.232974 -0.678305   \n",
       "3    -1.342641 -0.319636 -0.506683 -0.036937  1.136352  0.300461 -0.328121   \n",
       "4    -0.520670  0.723744  0.238530  0.123345  0.951798 -0.536999  0.329798   \n",
       "...        ...       ...       ...       ...       ...       ...       ...   \n",
       "6622 -0.735628  1.092355 -0.388809 -0.191486 -0.284427 -0.311598 -0.111791   \n",
       "6623 -0.920165  0.642480  0.390729 -0.037445 -0.035594 -0.211604 -0.474668   \n",
       "6624 -0.098083  0.023849 -0.824973  0.271648  0.682401  0.797084  0.081801   \n",
       "6625 -1.525201  0.314041 -0.649624  0.409576  0.568857 -0.749601 -0.016070   \n",
       "6626 -0.333634 -0.178589 -0.788813 -2.135803 -1.341024  0.379643 -0.271374   \n",
       "\n",
       "        Target  \n",
       "0      Dropout  \n",
       "1     Graduate  \n",
       "2      Dropout  \n",
       "3     Graduate  \n",
       "4     Graduate  \n",
       "...        ...  \n",
       "6622  Enrolled  \n",
       "6623  Enrolled  \n",
       "6624  Enrolled  \n",
       "6625  Enrolled  \n",
       "6626  Enrolled  \n",
       "\n",
       "[6627 rows x 15 columns]"
      ],
      "text/html": [
       "<div>\n",
       "<style scoped>\n",
       "    .dataframe tbody tr th:only-of-type {\n",
       "        vertical-align: middle;\n",
       "    }\n",
       "\n",
       "    .dataframe tbody tr th {\n",
       "        vertical-align: top;\n",
       "    }\n",
       "\n",
       "    .dataframe thead th {\n",
       "        text-align: right;\n",
       "    }\n",
       "</style>\n",
       "<table border=\"1\" class=\"dataframe\">\n",
       "  <thead>\n",
       "    <tr style=\"text-align: right;\">\n",
       "      <th></th>\n",
       "      <th>PC1</th>\n",
       "      <th>PC2</th>\n",
       "      <th>PC3</th>\n",
       "      <th>PC4</th>\n",
       "      <th>PC5</th>\n",
       "      <th>PC6</th>\n",
       "      <th>PC7</th>\n",
       "      <th>PC8</th>\n",
       "      <th>PC9</th>\n",
       "      <th>PC10</th>\n",
       "      <th>PC11</th>\n",
       "      <th>PC12</th>\n",
       "      <th>PC13</th>\n",
       "      <th>PC14</th>\n",
       "      <th>Target</th>\n",
       "    </tr>\n",
       "  </thead>\n",
       "  <tbody>\n",
       "    <tr>\n",
       "      <th>0</th>\n",
       "      <td>-4.362150</td>\n",
       "      <td>-1.007771</td>\n",
       "      <td>-2.563540</td>\n",
       "      <td>1.331845</td>\n",
       "      <td>-1.075936</td>\n",
       "      <td>-1.368674</td>\n",
       "      <td>-0.191537</td>\n",
       "      <td>-0.373345</td>\n",
       "      <td>-0.803115</td>\n",
       "      <td>0.837092</td>\n",
       "      <td>1.623067</td>\n",
       "      <td>-0.261753</td>\n",
       "      <td>0.235638</td>\n",
       "      <td>-0.326818</td>\n",
       "      <td>Dropout</td>\n",
       "    </tr>\n",
       "    <tr>\n",
       "      <th>1</th>\n",
       "      <td>-0.241665</td>\n",
       "      <td>-0.291954</td>\n",
       "      <td>-1.576865</td>\n",
       "      <td>-1.195618</td>\n",
       "      <td>1.024771</td>\n",
       "      <td>0.349829</td>\n",
       "      <td>-0.015485</td>\n",
       "      <td>-0.468722</td>\n",
       "      <td>-0.327269</td>\n",
       "      <td>0.175780</td>\n",
       "      <td>-2.409748</td>\n",
       "      <td>-0.823892</td>\n",
       "      <td>-0.581045</td>\n",
       "      <td>-0.973223</td>\n",
       "      <td>Graduate</td>\n",
       "    </tr>\n",
       "    <tr>\n",
       "      <th>2</th>\n",
       "      <td>-2.704703</td>\n",
       "      <td>0.883059</td>\n",
       "      <td>0.227150</td>\n",
       "      <td>-0.584111</td>\n",
       "      <td>-0.216966</td>\n",
       "      <td>-0.617850</td>\n",
       "      <td>0.370419</td>\n",
       "      <td>0.055970</td>\n",
       "      <td>-1.348930</td>\n",
       "      <td>-0.152507</td>\n",
       "      <td>-2.033690</td>\n",
       "      <td>0.099927</td>\n",
       "      <td>-1.232974</td>\n",
       "      <td>-0.678305</td>\n",
       "      <td>Dropout</td>\n",
       "    </tr>\n",
       "    <tr>\n",
       "      <th>3</th>\n",
       "      <td>0.366266</td>\n",
       "      <td>-0.237005</td>\n",
       "      <td>0.779684</td>\n",
       "      <td>-0.273035</td>\n",
       "      <td>-0.053979</td>\n",
       "      <td>-0.070852</td>\n",
       "      <td>-0.957714</td>\n",
       "      <td>-1.342641</td>\n",
       "      <td>-0.319636</td>\n",
       "      <td>-0.506683</td>\n",
       "      <td>-0.036937</td>\n",
       "      <td>1.136352</td>\n",
       "      <td>0.300461</td>\n",
       "      <td>-0.328121</td>\n",
       "      <td>Graduate</td>\n",
       "    </tr>\n",
       "    <tr>\n",
       "      <th>4</th>\n",
       "      <td>0.002403</td>\n",
       "      <td>2.173728</td>\n",
       "      <td>-0.855346</td>\n",
       "      <td>1.884833</td>\n",
       "      <td>1.329653</td>\n",
       "      <td>0.679385</td>\n",
       "      <td>-0.600227</td>\n",
       "      <td>-0.520670</td>\n",
       "      <td>0.723744</td>\n",
       "      <td>0.238530</td>\n",
       "      <td>0.123345</td>\n",
       "      <td>0.951798</td>\n",
       "      <td>-0.536999</td>\n",
       "      <td>0.329798</td>\n",
       "      <td>Graduate</td>\n",
       "    </tr>\n",
       "    <tr>\n",
       "      <th>...</th>\n",
       "      <td>...</td>\n",
       "      <td>...</td>\n",
       "      <td>...</td>\n",
       "      <td>...</td>\n",
       "      <td>...</td>\n",
       "      <td>...</td>\n",
       "      <td>...</td>\n",
       "      <td>...</td>\n",
       "      <td>...</td>\n",
       "      <td>...</td>\n",
       "      <td>...</td>\n",
       "      <td>...</td>\n",
       "      <td>...</td>\n",
       "      <td>...</td>\n",
       "      <td>...</td>\n",
       "    </tr>\n",
       "    <tr>\n",
       "      <th>6622</th>\n",
       "      <td>0.060873</td>\n",
       "      <td>-1.038330</td>\n",
       "      <td>-0.659588</td>\n",
       "      <td>-0.622870</td>\n",
       "      <td>0.090081</td>\n",
       "      <td>0.225687</td>\n",
       "      <td>0.144346</td>\n",
       "      <td>-0.735628</td>\n",
       "      <td>1.092355</td>\n",
       "      <td>-0.388809</td>\n",
       "      <td>-0.191486</td>\n",
       "      <td>-0.284427</td>\n",
       "      <td>-0.311598</td>\n",
       "      <td>-0.111791</td>\n",
       "      <td>Enrolled</td>\n",
       "    </tr>\n",
       "    <tr>\n",
       "      <th>6623</th>\n",
       "      <td>1.148948</td>\n",
       "      <td>-1.170207</td>\n",
       "      <td>-0.717351</td>\n",
       "      <td>-0.962082</td>\n",
       "      <td>0.870401</td>\n",
       "      <td>0.614360</td>\n",
       "      <td>0.009241</td>\n",
       "      <td>-0.920165</td>\n",
       "      <td>0.642480</td>\n",
       "      <td>0.390729</td>\n",
       "      <td>-0.037445</td>\n",
       "      <td>-0.035594</td>\n",
       "      <td>-0.211604</td>\n",
       "      <td>-0.474668</td>\n",
       "      <td>Enrolled</td>\n",
       "    </tr>\n",
       "    <tr>\n",
       "      <th>6624</th>\n",
       "      <td>-1.002743</td>\n",
       "      <td>0.146619</td>\n",
       "      <td>1.154968</td>\n",
       "      <td>-0.141683</td>\n",
       "      <td>-1.294870</td>\n",
       "      <td>-0.938337</td>\n",
       "      <td>0.429822</td>\n",
       "      <td>-0.098083</td>\n",
       "      <td>0.023849</td>\n",
       "      <td>-0.824973</td>\n",
       "      <td>0.271648</td>\n",
       "      <td>0.682401</td>\n",
       "      <td>0.797084</td>\n",
       "      <td>0.081801</td>\n",
       "      <td>Enrolled</td>\n",
       "    </tr>\n",
       "    <tr>\n",
       "      <th>6625</th>\n",
       "      <td>-0.388730</td>\n",
       "      <td>1.818346</td>\n",
       "      <td>0.501319</td>\n",
       "      <td>1.047079</td>\n",
       "      <td>0.424902</td>\n",
       "      <td>0.603358</td>\n",
       "      <td>-0.964207</td>\n",
       "      <td>-1.525201</td>\n",
       "      <td>0.314041</td>\n",
       "      <td>-0.649624</td>\n",
       "      <td>0.409576</td>\n",
       "      <td>0.568857</td>\n",
       "      <td>-0.749601</td>\n",
       "      <td>-0.016070</td>\n",
       "      <td>Enrolled</td>\n",
       "    </tr>\n",
       "    <tr>\n",
       "      <th>6626</th>\n",
       "      <td>-1.311067</td>\n",
       "      <td>0.165531</td>\n",
       "      <td>-0.989419</td>\n",
       "      <td>-1.531756</td>\n",
       "      <td>-0.396373</td>\n",
       "      <td>-0.378884</td>\n",
       "      <td>0.325120</td>\n",
       "      <td>-0.333634</td>\n",
       "      <td>-0.178589</td>\n",
       "      <td>-0.788813</td>\n",
       "      <td>-2.135803</td>\n",
       "      <td>-1.341024</td>\n",
       "      <td>0.379643</td>\n",
       "      <td>-0.271374</td>\n",
       "      <td>Enrolled</td>\n",
       "    </tr>\n",
       "  </tbody>\n",
       "</table>\n",
       "<p>6627 rows × 15 columns</p>\n",
       "</div>"
      ]
     },
     "execution_count": 2,
     "metadata": {},
     "output_type": "execute_result"
    }
   ],
   "execution_count": 2
  },
  {
   "cell_type": "code",
   "id": "6a4e33b5e498fe76",
   "metadata": {
    "ExecuteTime": {
     "end_time": "2025-01-17T11:42:17.842443Z",
     "start_time": "2025-01-17T11:42:17.705402Z"
    }
   },
   "source": [
    "import seaborn as sns\n",
    "#Plotting histogram of target\n",
    "sns.histplot(data['Target'])"
   ],
   "outputs": [
    {
     "data": {
      "text/plain": [
       "<AxesSubplot:xlabel='Target', ylabel='Count'>"
      ]
     },
     "execution_count": 3,
     "metadata": {},
     "output_type": "execute_result"
    },
    {
     "data": {
      "text/plain": [
       "<Figure size 640x480 with 1 Axes>"
      ],
      "image/png": "[encoded data removed]"
     },
     "metadata": {},
     "output_type": "display_data"
    }
   ],
   "execution_count": 3
  },
  {
   "cell_type": "markdown",
   "id": "b230a90f440b7e20",
   "metadata": {},
   "source": [
    "From the histogram, there presents an unbalanced distribution of the target classes.\n",
    "Synthetic Minority Oversampling Technique (SMOTE) is used to equalise the counts per classes.\n"
   ]
  },
  {
   "cell_type": "code",
   "id": "561373f82dd3fd02",
   "metadata": {
    "ExecuteTime": {
     "end_time": "2025-01-17T11:42:17.893364Z",
     "start_time": "2025-01-17T11:42:17.879956Z"
    }
   },
   "source": [
    "from sklearn.model_selection import train_test_split\n",
    "\n",
    "# Splitting dataset to training, testing, validation\n",
    "# 20% for testing - 10% for validation - 70% for training\n",
    "X_train_val, X_test, y_train_val, y_test = train_test_split(X, Y, test_size=0.20, random_state=42)\n",
    "X_train, X_val, y_train, y_val = train_test_split(X_train_val, y_train_val, test_size=0.12, random_state=42)\n",
    "print(\"Total number of datapoints: \"+str(X.shape[0]))\n",
    "print(\"Number of datapoints in the training set: \"+str(X_train.shape[0]))\n",
    "print(\"Number of datapoints in the validation set: \"+str(X_val.shape[0]))\n",
    "print(\"Number of datapoints in the test set: \"+str(X_test.shape[0]))"
   ],
   "outputs": [
    {
     "name": "stdout",
     "output_type": "stream",
     "text": [
      "Total number of datapoints: 6627\n",
      "Number of datapoints in the training set: 4664\n",
      "Number of datapoints in the validation set: 637\n",
      "Number of datapoints in the test set: 1326\n"
     ]
    }
   ],
   "execution_count": 4
  },
  {
   "cell_type": "markdown",
   "id": "1275a6f642a9be7f",
   "metadata": {},
   "source": [
    "Cross-Validation Step\n",
    "\n",
    "Categorical NB classification\n"
   ]
  },
  {
   "cell_type": "code",
   "id": "893c7fce13d96157",
   "metadata": {
    "ExecuteTime": {
     "end_time": "2025-01-17T11:42:31.255333Z",
     "start_time": "2025-01-17T11:42:17.944604Z"
    }
   },
   "source": [
    "from sklearn.metrics import accuracy_score \n",
    "\n",
    "# to be able to use catergoical NB classifier, the variables need to be positive discrete\n",
    "# this is done by using OrdinalEncoder\n",
    "from sklearn.preprocessing import OrdinalEncoder\n",
    "# Initialize OrdinalEncoder\n",
    "encoder = OrdinalEncoder()\n",
    "X_train_enc = encoder.fit_transform(X_train)\n",
    "X_val_enc = encoder.fit_transform(X_val)\n",
    "X_test_enc = encoder.fit_transform(X_test)\n",
    "\n",
    "# Size of the array to contain values of the hyperparameter\n",
    "N = 1000\n",
    "\n",
    "# Hyperparameter: alpha, taking 1000 values between 0 and 100\n",
    "alpha = np.linspace(0,100,N)\n",
    "# array to store accuracies associated to each alpha\n",
    "accuracies = np.zeros(len(alpha))\n",
    "\n",
    "# Looping iterations to evaluate performance via accuracy for each alpha\n",
    "for i in range(len(alpha)):\n",
    "    # Define the model\n",
    "    nb_model = nb.CategoricalNB(alpha = alpha[i])\n",
    "    nb_model.fit(X_train_enc, y_train)\n",
    "    y_pred = nb_model.predict(X_val_enc)\n",
    "    accuracies[i] = accuracy_score(y_val, y_pred)\n",
    "\n",
    "# visualise the relationship of the hyperparameter and accuracy\n",
    "plt.plot(alpha, accuracies)\n",
    "plt.xlabel('Alpha')\n",
    "plt.ylabel('Accuracy')\n",
    "\n",
    "# Finding maximum value and its index, and its corresponded alpha (the first value of the maximum is taken)\n",
    "max_value = np.max(accuracies)  # Maximum value\n",
    "max_index = np.argmax(accuracies)  # Index of the maximum value\n",
    "optimum_alpha_categorical = alpha[max_index] # chosen optimum alpha value after tuning the hyperparameter  \n",
    "print(f\"Maximum Value of accuracy: {max_value}\")\n",
    "print(f\"Alpha parameter corresponding to the max value: {optimum_alpha_categorical}\")       "
   ],
   "outputs": [
    {
     "name": "stderr",
     "output_type": "stream",
     "text": [
      "/Users/zhehaowang/.conda/envs/Pycharm test 1/lib/python3.9/site-packages/sklearn/naive_bayes.py:591: UserWarning: alpha too small will result in numeric errors, setting alpha = 1.0e-10\n",
      "  warnings.warn(\n"
     ]
    },
    {
     "name": "stdout",
     "output_type": "stream",
     "text": [
      "Maximum Value of accuracy: 0.33437990580847726\n",
      "Alpha parameter corresponding to the max value: 4.404404404404405\n"
     ]
    },
    {
     "data": {
      "text/plain": [
       "<Figure size 640x480 with 1 Axes>"
      ],
      "image/png": "[encoded data removed]"
     },
     "metadata": {},
     "output_type": "display_data"
    }
   ],
   "execution_count": 5
  },
  {
   "cell_type": "markdown",
   "id": "4bdc2aaadc9b1a57",
   "metadata": {},
   "source": [
    "Gaussian NB classification\n"
   ]
  },
  {
   "cell_type": "code",
   "id": "ada500b2c8f0da62",
   "metadata": {
    "ExecuteTime": {
     "end_time": "2025-01-17T11:42:36.732563Z",
     "start_time": "2025-01-17T11:42:31.361415Z"
    }
   },
   "source": [
    "# Gaussian Naive Bayes. \n",
    "# tuning hyperparameter var_smoothing \n",
    "var_smooth = np.linspace(0,5,N)\n",
    "accuracies = np.zeros(len(var_smooth))\n",
    "for i in range(len(var_smooth)):\n",
    "    # Define the model with a specific var_smoothing\n",
    "    nb_model = nb.GaussianNB(var_smoothing = var_smooth[i])\n",
    "    nb_model.fit(X_train, y_train)\n",
    "    y_pred = nb_model.predict(X_val)\n",
    "    accuracies[i] = accuracy_score(y_val, y_pred)\n",
    "    \n",
    "plt.plot(var_smooth, accuracies)\n",
    "plt.xlabel('Variation Smoothing')\n",
    "plt.ylabel('Accuracy')\n",
    "\n",
    "# Finding maximum value and its index\n",
    "max_value = np.max(accuracies)  # Maximum value\n",
    "max_index = np.argmax(accuracies)  # Index of the maximum value\n",
    "optimum_var_smooth = var_smooth[max_index]\n",
    "print(f\"Maximum Value of accuracy: {max_value}\")\n",
    "print(f\"var_smoothing parameter corresponding to the max value: {optimum_var_smooth}\")"
   ],
   "outputs": [
    {
     "name": "stdout",
     "output_type": "stream",
     "text": [
      "Maximum Value of accuracy: 0.6436420722135008\n",
      "var_smoothing parameter corresponding to the max value: 0.14514514514514515\n"
     ]
    },
    {
     "data": {
      "text/plain": [
       "<Figure size 640x480 with 1 Axes>"
      ],
      "image/png": "[encoded data removed]"
     },
     "metadata": {},
     "output_type": "display_data"
    }
   ],
   "execution_count": 6
  },
  {
   "cell_type": "markdown",
   "id": "6ebed8d3e8eb4e2",
   "metadata": {},
   "source": [
    "The hyperparameter var_smoothing is an user-defined value to the variance of the distribution that widens the normal distribution curve and accounts for more samples that are further away from the distribution mean.\n"
   ]
  },
  {
   "cell_type": "markdown",
   "id": "4cdf6b68e564dd85",
   "metadata": {},
   "source": [
    "Bernoulli NB Classification\n"
   ]
  },
  {
   "cell_type": "code",
   "id": "29d9898cace16873",
   "metadata": {
    "ExecuteTime": {
     "end_time": "2025-01-17T11:43:14.385995Z",
     "start_time": "2025-01-17T11:42:36.808799Z"
    }
   },
   "source": [
    "# Bernoulli NB\n",
    "# Binarize data (using a threshold of 1.0)\n",
    "from sklearn.preprocessing import Binarizer\n",
    "from sklearn.model_selection import cross_val_score\n",
    "\n",
    "import warnings\n",
    "# Suppress all warnings\n",
    "warnings.filterwarnings(\"ignore\")\n",
    "\n",
    "# Binarisation operation, to assign 0 to values below a certain threshold and 1 for those above\n",
    "thresholds = np.linspace(-5, 5, N)\n",
    "acc = np.zeros(N)\n",
    "# Performing cross validation for the threshold for binarisation\n",
    "for t in range(len(thresholds)):\n",
    "    binarizer = Binarizer(threshold=thresholds[t])\n",
    "    X_binarized = binarizer.transform(X_train)\n",
    "    model = nb.BernoulliNB()\n",
    "    scores = cross_val_score(model, X_binarized, y_train,scoring = 'accuracy', cv=3)\n",
    "    acc[t] = scores.mean()\n",
    "    # print(f\"Threshold: {t}, Accuracy: {scores.mean()}\")\n",
    "\n",
    "# Finding maximum value and its index of the binarize threshold\n",
    "max_value = np.max(acc)  # Maximum value\n",
    "max_index = np.argmax(acc)  # Index of the maximum value\n",
    "optimum_threshold = thresholds[max_index]\n",
    "print(f\"Maximum Value of accuracy: {max_value}\")\n",
    "print(f\"Binarise Threshold corresponding to the max value of accuracy: {optimum_threshold}\")\n",
    "\n",
    "\n",
    "# Performing binarisation on the train data using the optimum threshold\n",
    "# Binarize data (using a threshold of 1.0)\n",
    "binarizer = Binarizer(threshold=optimum_threshold)\n",
    "X_binarized_train = binarizer.transform(X_train)\n",
    "\n",
    "# Bernoulli model\n",
    "# the range of alpha are chosen via trial and error\n",
    "alpha = np.linspace(0,1000,N)\n",
    "accuracies = np.zeros(len(alpha))\n",
    "for i in range(len(alpha)):\n",
    "    # Define the model\n",
    "    nb_model = nb.BernoulliNB(alpha = alpha[i])\n",
    "    nb_model.fit(X_binarized_train, y_train)\n",
    "    X_binarized_val = binarizer.transform(X_val)\n",
    "    y_pred = nb_model.predict(X_binarized_val)\n",
    "    accuracies[i] = accuracy_score(y_val, y_pred)\n",
    "    \n",
    "plt.plot(alpha, accuracies)    \n",
    "plt.xlabel('Alpha')\n",
    "plt.ylabel('Accuracy')\n",
    "\n",
    "# Finding maximum value and its index\n",
    "max_value = np.max(accuracies)  # Maximum value\n",
    "max_index = np.argmax(accuracies)  # Index of the maximum value\n",
    "optimum_alpha_bernoulli = alpha[max_index]\n",
    "print(f\"Maximum Value of accuracy: {max_value}\")\n",
    "print(f\"alpha parameter corresponding to the max value: {optimum_alpha_bernoulli}\")"
   ],
   "outputs": [
    {
     "name": "stdout",
     "output_type": "stream",
     "text": [
      "Maximum Value of accuracy: 0.6335770773069808\n",
      "Binarise Threshold corresponding to the max value of accuracy: -0.25525525525525516\n",
      "Maximum Value of accuracy: 0.6420722135007849\n",
      "alpha parameter corresponding to the max value: 555.5555555555557\n"
     ]
    },
    {
     "data": {
      "text/plain": [
       "<Figure size 640x480 with 1 Axes>"
      ],
      "image/png": "[encoded data removed]"
     },
     "metadata": {},
     "output_type": "display_data"
    }
   ],
   "execution_count": 7
  },
  {
   "cell_type": "markdown",
   "id": "4c217da239a5d46f",
   "metadata": {},
   "source": [
    "A relatively high value of alpha of 212 appeared to result in highest accuracy, which might have indicated the needing to help the model generalize better by assuming a small amount of \"presence\" for each feature in every class, even if it might not have been observed in the training data.\n"
   ]
  },
  {
   "cell_type": "markdown",
   "id": "17fc175587e557b2",
   "metadata": {},
   "source": "Model selection: determining the NB classifier at the optimum parameters of the best performance via accuracy\n"
  },
  {
   "cell_type": "code",
   "id": "a061bebe0ad00286",
   "metadata": {
    "ExecuteTime": {
     "end_time": "2025-01-17T11:32:35.362735Z",
     "start_time": "2025-01-16T16:32:59.874939Z"
    }
   },
   "source": [
    "# Implementation\n",
    "# accuracy on test dataset\n",
    "# Categorical NB\n",
    "model = nb.CategoricalNB(alpha = optimum_alpha_categorical)\n",
    "model.fit(X_train_enc, y_train)\n",
    "y_pred = model.predict(X_test_enc)\n",
    "acc = accuracy_score(y_test, y_pred)\n",
    "print(f\"The performance of the CategoricalNB is: {acc}\")\n",
    "\n",
    "# Gaussian NB\n",
    "model = nb.GaussianNB(var_smoothing = optimum_var_smooth)\n",
    "model.fit(X_train, y_train)\n",
    "y_pred = model.predict(X_test) \n",
    "acc = accuracy_score(y_test, y_pred)\n",
    "print(f\"The performance of the GaussianNB is: {acc}\")\n",
    "\n",
    "# Bernoulli NB\n",
    "model = nb.BernoulliNB(alpha=optimum_alpha_bernoulli)\n",
    "binarizer = Binarizer(threshold=optimum_threshold)\n",
    "X_binarized_train = binarizer.transform(X_train)\n",
    "X_binarized_test = binarizer.transform(X_test)\n",
    "model.fit(X_binarized_train, y_train)\n",
    "y_pred = model.predict(X_binarized_test)\n",
    "acc = accuracy_score(y_test, y_pred)\n",
    "print(f\"The performance of the BernoulliNB is: {acc}\")"
   ],
   "outputs": [
    {
     "name": "stdout",
     "output_type": "stream",
     "text": [
      "The performance of the CategoricalNB is: 0.3521870286576169\n",
      "The performance of the GaussianNB is: 0.6304675716440422\n",
      "The performance of the BernoulliNB is: 0.6168929110105581\n"
     ]
    }
   ],
   "execution_count": 7
  },
  {
   "cell_type": "markdown",
   "id": "c9b6ffcbe247988d",
   "metadata": {},
   "source": [
    "It turns out that the Gaussian Naive Bayes classifier has the best performance in terms of accuracy rate.\n",
    "This might have been due to the nature of the original feature variables where it works well with continuous,\n",
    "potentially negative features, making it the best choice for PCA-transformed data.\n",
    "The Categorical and Bernoulli classifiers (and potentially multinomial and complement) required encoding the continuous principal components\n",
    "into positive discrete or binaries quantities before fitting the model which would have resulted in loss of information, making the performance, as expected, to be lower.\n",
    "\n",
    "It is however, rather unexpected that the Bernoulli classifier has a accuracy rate close to that of Gaussian despite the use of binarization operation\n",
    "with respect to a threshold value, which would result in loss of information.\n",
    "\n",
    "===> It turns out that the BernoulliNB with a very high alpha to smooth the distributions of the classes, overcome the loss of information resulted from binarisation process.\n"
   ]
  },
  {
   "metadata": {},
   "cell_type": "markdown",
   "source": [
    "Implementation of the ML model: \n",
    "Performance measures (Accuracy and F1 scores)"
   ],
   "id": "59309db5b12adc63"
  },
  {
   "metadata": {
    "ExecuteTime": {
     "end_time": "2025-01-17T15:02:21.479657Z",
     "start_time": "2025-01-17T15:02:21.352996Z"
    }
   },
   "cell_type": "code",
   "source": [
    "import seaborn as sns\n",
    "# Gaussian NB\n",
    "model = nb.GaussianNB(var_smoothing = optimum_var_smooth)\n",
    "model.fit(X_train, y_train)\n",
    "y_pred = model.predict(X_test) \n",
    "\n",
    "# Classification report produces the accuracy and f1 scores\n",
    "from sklearn.metrics import classification_report\n",
    "print(\"Classification Report for BernoulliNB:\")\n",
    "print(classification_report(y_test, y_pred, digits=4))"
   ],
   "id": "79992aa6355460a1",
   "outputs": [
    {
     "name": "stdout",
     "output_type": "stream",
     "text": [
      "Classification Report for BernoulliNB:\n",
      "              precision    recall  f1-score   support\n",
      "\n",
      "     Dropout     0.7573    0.5270    0.6215       444\n",
      "    Enrolled     0.5667    0.5809    0.5737       439\n",
      "    Graduate     0.6120    0.7833    0.6871       443\n",
      "\n",
      "    accuracy                         0.6305      1326\n",
      "   macro avg     0.6453    0.6304    0.6274      1326\n",
      "weighted avg     0.6456    0.6305    0.6276      1326\n",
      "\n"
     ]
    }
   ],
   "execution_count": 38
  },
  {
   "cell_type": "code",
   "id": "c9b124e0d43d1190",
   "metadata": {
    "ExecuteTime": {
     "end_time": "2025-01-17T12:30:53.399933Z",
     "start_time": "2025-01-17T12:30:53.378606Z"
    }
   },
   "source": [
    "from sklearn.metrics import confusion_matrix\n",
    "# Compute confusion matrix\n",
    "cm = confusion_matrix(y_test, y_pred)\n",
    "print(\"Confusion Matrix:\\n\", cm)\n",
    "# Extract TPs, TNs, FPs, FNs for each class\n",
    "n_classes = cm.shape[0]  # Number of classes\n",
    "tps = np.diag(cm)  # Diagonal elements are True Positives\n",
    "fps = cm.sum(axis=0) - tps  # Column sum minus TP\n",
    "fns = cm.sum(axis=1) - tps  # Row sum minus TP\n",
    "tns = cm.sum() - (fps + fns + tps)  # Total sum minus TP, FP, FN\n",
    "\n",
    "print(\"True Positives (TPs):\", tps)\n",
    "print(\"False Positives (FPs):\", fps)\n",
    "print(\"False Negatives (FNs):\", fns)\n",
    "print(\"True Negatives (TNs):\", tns)"
   ],
   "outputs": [
    {
     "name": "stdout",
     "output_type": "stream",
     "text": [
      "Confusion Matrix:\n",
      " [[234 133  77]\n",
      " [ 41 255 143]\n",
      " [ 34  62 347]]\n",
      "True Positives (TPs): [234 255 347]\n",
      "False Positives (FPs): [ 75 195 220]\n",
      "False Negatives (FNs): [210 184  96]\n",
      "True Negatives (TNs): [807 692 663]\n"
     ]
    }
   ],
   "execution_count": 35
  },
  {
   "metadata": {
    "ExecuteTime": {
     "end_time": "2025-01-17T15:13:04.886121Z",
     "start_time": "2025-01-17T15:13:04.863628Z"
    }
   },
   "cell_type": "code",
   "source": [
    "Accuracy = np.sum(np.diag(cm)) / np.sum(cm)\n",
    "print(\"Accuracy Score:\", Accuracy)\n",
    "F1 = 2 * tps / (2 * tps + fps + fns)\n",
    "print(\"F1 score:\",F1)\n",
    "print(\"Macro F1 averaged score:\", np.mean(F1))"
   ],
   "id": "92fd1f69353bcb30",
   "outputs": [
    {
     "name": "stdout",
     "output_type": "stream",
     "text": [
      "Accuracy Score: 0.6304675716440422\n",
      "F1 score: [0.62151394 0.57367829 0.68712871]\n",
      "Macro F1 averaged score: 0.6274403157693728\n"
     ]
    }
   ],
   "execution_count": 50
  },
  {
   "metadata": {},
   "cell_type": "code",
   "outputs": [],
   "execution_count": null,
   "source": "",
   "id": "a6193fe43c5742bd"
  }
 ],
 "metadata": {
  "kernelspec": {
   "display_name": "Python 3",
   "language": "python",
   "name": "python3"
  },
  "language_info": {
   "codemirror_mode": {
    "name": "ipython",
    "version": 2
   },
   "file_extension": ".py",
   "mimetype": "text/x-python",
   "name": "python",
   "nbconvert_exporter": "python",
   "pygments_lexer": "ipython2",
   "version": "2.7.6"
  }
 },
 "nbformat": 4,
 "nbformat_minor": 5
}
