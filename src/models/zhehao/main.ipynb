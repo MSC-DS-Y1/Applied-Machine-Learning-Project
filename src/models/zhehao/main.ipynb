{
 "cells": [
  {
   "cell_type": "code",
   "id": "initial_id",
   "metadata": {
    "collapsed": true,
    "ExecuteTime": {
     "end_time": "2025-01-16T13:35:47.603314Z",
     "start_time": "2025-01-16T13:35:47.533242Z"
    }
   },
   "source": [
    "import matplotlib.pyplot as plt\n",
    "import numpy as np\n",
    "import sklearn.naive_bayes as nb\n",
    "import pandas as pd\n",
    "\n",
    "data = pd.read_csv('dataset_pca.csv')\n",
    "\n",
    "X = data.iloc[:,:-1]\n",
    "Y = data.iloc[:,-1]\n",
    "\n",
    "data"
   ],
   "outputs": [
    {
     "data": {
      "text/plain": [
       "           PC1       PC2       PC3       PC4       PC5       PC6       PC7  \\\n",
       "0    -0.314242 -0.205719 -0.028824  0.206659  0.012864 -0.874508  0.387179   \n",
       "1    -0.470709 -0.329179  0.884960 -0.093840 -0.083021  0.226558  0.106516   \n",
       "2    -0.396169  0.580298  0.717272  0.092688  0.067955 -0.065536 -0.096558   \n",
       "3    -0.130125  0.273844 -0.174658 -0.023552 -0.576278  0.067090 -0.072535   \n",
       "4    -0.131716  0.229628 -0.067836 -0.505245 -0.335535 -0.094679  0.105542   \n",
       "...        ...       ...       ...       ...       ...       ...       ...   \n",
       "4419 -0.276222 -0.514504 -0.105317 -0.246347  0.491042  0.030594 -0.111448   \n",
       "4420 -0.528528 -0.238030  0.820748  0.271141  0.030093  0.218110 -0.039184   \n",
       "4421  0.814815  0.084677  0.172297 -0.317228 -0.250588 -0.060601 -0.045802   \n",
       "4422  0.810934  0.170534  0.080124  0.148968 -0.501787 -0.070562  0.011215   \n",
       "4423 -0.132748  0.347853 -0.328484 -0.190778  0.465049 -0.012571  0.015455   \n",
       "\n",
       "           PC8    Target  \n",
       "0     0.010646   Dropout  \n",
       "1    -0.184132  Graduate  \n",
       "2    -0.204557   Dropout  \n",
       "3    -0.123530  Graduate  \n",
       "4     0.325822  Graduate  \n",
       "...        ...       ...  \n",
       "4419 -0.049411  Graduate  \n",
       "4420 -0.136250   Dropout  \n",
       "4421  0.100848   Dropout  \n",
       "4422 -0.056446  Graduate  \n",
       "4423 -0.132039  Graduate  \n",
       "\n",
       "[4424 rows x 9 columns]"
      ],
      "text/html": [
       "<div>\n",
       "<style scoped>\n",
       "    .dataframe tbody tr th:only-of-type {\n",
       "        vertical-align: middle;\n",
       "    }\n",
       "\n",
       "    .dataframe tbody tr th {\n",
       "        vertical-align: top;\n",
       "    }\n",
       "\n",
       "    .dataframe thead th {\n",
       "        text-align: right;\n",
       "    }\n",
       "</style>\n",
       "<table border=\"1\" class=\"dataframe\">\n",
       "  <thead>\n",
       "    <tr style=\"text-align: right;\">\n",
       "      <th></th>\n",
       "      <th>PC1</th>\n",
       "      <th>PC2</th>\n",
       "      <th>PC3</th>\n",
       "      <th>PC4</th>\n",
       "      <th>PC5</th>\n",
       "      <th>PC6</th>\n",
       "      <th>PC7</th>\n",
       "      <th>PC8</th>\n",
       "      <th>Target</th>\n",
       "    </tr>\n",
       "  </thead>\n",
       "  <tbody>\n",
       "    <tr>\n",
       "      <th>0</th>\n",
       "      <td>-0.314242</td>\n",
       "      <td>-0.205719</td>\n",
       "      <td>-0.028824</td>\n",
       "      <td>0.206659</td>\n",
       "      <td>0.012864</td>\n",
       "      <td>-0.874508</td>\n",
       "      <td>0.387179</td>\n",
       "      <td>0.010646</td>\n",
       "      <td>Dropout</td>\n",
       "    </tr>\n",
       "    <tr>\n",
       "      <th>1</th>\n",
       "      <td>-0.470709</td>\n",
       "      <td>-0.329179</td>\n",
       "      <td>0.884960</td>\n",
       "      <td>-0.093840</td>\n",
       "      <td>-0.083021</td>\n",
       "      <td>0.226558</td>\n",
       "      <td>0.106516</td>\n",
       "      <td>-0.184132</td>\n",
       "      <td>Graduate</td>\n",
       "    </tr>\n",
       "    <tr>\n",
       "      <th>2</th>\n",
       "      <td>-0.396169</td>\n",
       "      <td>0.580298</td>\n",
       "      <td>0.717272</td>\n",
       "      <td>0.092688</td>\n",
       "      <td>0.067955</td>\n",
       "      <td>-0.065536</td>\n",
       "      <td>-0.096558</td>\n",
       "      <td>-0.204557</td>\n",
       "      <td>Dropout</td>\n",
       "    </tr>\n",
       "    <tr>\n",
       "      <th>3</th>\n",
       "      <td>-0.130125</td>\n",
       "      <td>0.273844</td>\n",
       "      <td>-0.174658</td>\n",
       "      <td>-0.023552</td>\n",
       "      <td>-0.576278</td>\n",
       "      <td>0.067090</td>\n",
       "      <td>-0.072535</td>\n",
       "      <td>-0.123530</td>\n",
       "      <td>Graduate</td>\n",
       "    </tr>\n",
       "    <tr>\n",
       "      <th>4</th>\n",
       "      <td>-0.131716</td>\n",
       "      <td>0.229628</td>\n",
       "      <td>-0.067836</td>\n",
       "      <td>-0.505245</td>\n",
       "      <td>-0.335535</td>\n",
       "      <td>-0.094679</td>\n",
       "      <td>0.105542</td>\n",
       "      <td>0.325822</td>\n",
       "      <td>Graduate</td>\n",
       "    </tr>\n",
       "    <tr>\n",
       "      <th>...</th>\n",
       "      <td>...</td>\n",
       "      <td>...</td>\n",
       "      <td>...</td>\n",
       "      <td>...</td>\n",
       "      <td>...</td>\n",
       "      <td>...</td>\n",
       "      <td>...</td>\n",
       "      <td>...</td>\n",
       "      <td>...</td>\n",
       "    </tr>\n",
       "    <tr>\n",
       "      <th>4419</th>\n",
       "      <td>-0.276222</td>\n",
       "      <td>-0.514504</td>\n",
       "      <td>-0.105317</td>\n",
       "      <td>-0.246347</td>\n",
       "      <td>0.491042</td>\n",
       "      <td>0.030594</td>\n",
       "      <td>-0.111448</td>\n",
       "      <td>-0.049411</td>\n",
       "      <td>Graduate</td>\n",
       "    </tr>\n",
       "    <tr>\n",
       "      <th>4420</th>\n",
       "      <td>-0.528528</td>\n",
       "      <td>-0.238030</td>\n",
       "      <td>0.820748</td>\n",
       "      <td>0.271141</td>\n",
       "      <td>0.030093</td>\n",
       "      <td>0.218110</td>\n",
       "      <td>-0.039184</td>\n",
       "      <td>-0.136250</td>\n",
       "      <td>Dropout</td>\n",
       "    </tr>\n",
       "    <tr>\n",
       "      <th>4421</th>\n",
       "      <td>0.814815</td>\n",
       "      <td>0.084677</td>\n",
       "      <td>0.172297</td>\n",
       "      <td>-0.317228</td>\n",
       "      <td>-0.250588</td>\n",
       "      <td>-0.060601</td>\n",
       "      <td>-0.045802</td>\n",
       "      <td>0.100848</td>\n",
       "      <td>Dropout</td>\n",
       "    </tr>\n",
       "    <tr>\n",
       "      <th>4422</th>\n",
       "      <td>0.810934</td>\n",
       "      <td>0.170534</td>\n",
       "      <td>0.080124</td>\n",
       "      <td>0.148968</td>\n",
       "      <td>-0.501787</td>\n",
       "      <td>-0.070562</td>\n",
       "      <td>0.011215</td>\n",
       "      <td>-0.056446</td>\n",
       "      <td>Graduate</td>\n",
       "    </tr>\n",
       "    <tr>\n",
       "      <th>4423</th>\n",
       "      <td>-0.132748</td>\n",
       "      <td>0.347853</td>\n",
       "      <td>-0.328484</td>\n",
       "      <td>-0.190778</td>\n",
       "      <td>0.465049</td>\n",
       "      <td>-0.012571</td>\n",
       "      <td>0.015455</td>\n",
       "      <td>-0.132039</td>\n",
       "      <td>Graduate</td>\n",
       "    </tr>\n",
       "  </tbody>\n",
       "</table>\n",
       "<p>4424 rows × 9 columns</p>\n",
       "</div>"
      ]
     },
     "execution_count": 86,
     "metadata": {},
     "output_type": "execute_result"
    }
   ],
   "execution_count": 86
  },
  {
   "metadata": {
    "ExecuteTime": {
     "end_time": "2025-01-16T13:35:49.984653Z",
     "start_time": "2025-01-16T13:35:49.863055Z"
    }
   },
   "cell_type": "code",
   "source": [
    "import seaborn as sns\n",
    "#Plotting histogram of target\n",
    "sns.histplot(data['Target'])"
   ],
   "id": "6a4e33b5e498fe76",
   "outputs": [
    {
     "data": {
      "text/plain": [
       "<AxesSubplot:xlabel='Target', ylabel='Count'>"
      ]
     },
     "execution_count": 87,
     "metadata": {},
     "output_type": "execute_result"
    },
    {
     "data": {
      "text/plain": [
       "<Figure size 640x480 with 1 Axes>"
      ],
      "image/png": "[encoded data removed]"
     },
     "metadata": {},
     "output_type": "display_data"
    }
   ],
   "execution_count": 87
  },
  {
   "metadata": {},
   "cell_type": "markdown",
   "source": [
    "From the histogram, there presents an unbalanced distribution of the target classes. \n",
    "Synthetic Minority Oversampling Technique (SMOTE) is used to equalise the counts per classes."
   ],
   "id": "b230a90f440b7e20"
  },
  {
   "metadata": {
    "ExecuteTime": {
     "end_time": "2025-01-16T13:47:28.041685Z",
     "start_time": "2025-01-16T13:47:27.865302Z"
    }
   },
   "cell_type": "code",
   "source": [
    "from imblearn.over_sampling import SMOTE\n",
    "\n",
    "# SMOTE to account for unbalanced data\n",
    "sm = SMOTE(random_state=42)\n",
    "X, Y = sm.fit_resample(X, Y)\n",
    "\n",
    "#Plotting histogram of target\n",
    "sns.histplot(Y)"
   ],
   "id": "561373f82dd3fd02",
   "outputs": [
    {
     "data": {
      "text/plain": [
       "<AxesSubplot:xlabel='Target', ylabel='Count'>"
      ]
     },
     "execution_count": 93,
     "metadata": {},
     "output_type": "execute_result"
    },
    {
     "data": {
      "text/plain": [
       "<Figure size 640x480 with 1 Axes>"
      ],
      "image/png": "[encoded data removed]"
     },
     "metadata": {},
     "output_type": "display_data"
    }
   ],
   "execution_count": 93
  },
  {
   "metadata": {
    "ExecuteTime": {
     "end_time": "2025-01-16T13:36:27.224043Z",
     "start_time": "2025-01-16T13:36:27.195271Z"
    }
   },
   "cell_type": "code",
   "source": [
    "from sklearn.model_selection import train_test_split\n",
    "\n",
    "# Splitting dataset to training, testing, validation\n",
    "#20% for testing - 10% for validation - 70% for training\n",
    "X_train_val, X_test, y_train_val, y_test = train_test_split(X, Y, test_size=0.20, random_state=42)\n",
    "X_train, X_val, y_train, y_val = train_test_split(X_train_val, y_train_val, test_size=0.12, random_state=42)\n",
    "print(\"Total number of datapoints: \"+str(X.shape[0]))\n",
    "print(\"Number of datapoints in the training set: \"+str(X_train.shape[0]))\n",
    "print(\"Number of datapoints in the validation set: \"+str(X_val.shape[0]))\n",
    "print(\"Number of datapoints in the test set: \"+str(X_test.shape[0]))"
   ],
   "id": "611be61556cf1893",
   "outputs": [
    {
     "name": "stdout",
     "output_type": "stream",
     "text": [
      "Total number of datapoints: 6627\n",
      "Number of datapoints in the training set: 4664\n",
      "Number of datapoints in the validation set: 637\n",
      "Number of datapoints in the test set: 1326\n"
     ]
    }
   ],
   "execution_count": 91
  },
  {
   "metadata": {},
   "cell_type": "markdown",
   "source": [
    "Cross-Validation Step\n",
    "\n",
    "Categorical NB classification"
   ],
   "id": "1275a6f642a9be7f"
  },
  {
   "metadata": {
    "ExecuteTime": {
     "end_time": "2025-01-16T13:41:51.021042Z",
     "start_time": "2025-01-16T13:41:38.180642Z"
    }
   },
   "cell_type": "code",
   "source": [
    "from sklearn.metrics import accuracy_score\n",
    "\n",
    "# to be able to use catergoical NB classifier, the variables need to be positive discrete\n",
    "# this is done by using OrdinalEncoder\n",
    "from sklearn.preprocessing import OrdinalEncoder\n",
    "# Initialize OrdinalEncoder\n",
    "encoder = OrdinalEncoder()\n",
    "X_train_enc = encoder.fit_transform(X_train)\n",
    "X_val_enc = encoder.fit_transform(X_val)\n",
    "X_test_enc = encoder.fit_transform(X_test)\n",
    "\n",
    "# Size of the array to contain values of the hyperparameter\n",
    "N = 1000\n",
    "\n",
    "# Hyperparameter: alpha, taking 1000 values between 0 and 100\n",
    "alpha = np.linspace(0,100,N)\n",
    "# array to store accuracies associated to each alpha\n",
    "accuracies = np.zeros(len(alpha))\n",
    "\n",
    "# Looping iterations to evaluate performance via accuracy for each alpha\n",
    "for i in range(len(alpha)):\n",
    "    # Define the model\n",
    "    nb_model = nb.CategoricalNB(alpha = alpha[i])\n",
    "    nb_model.fit(X_train_enc, y_train)\n",
    "    y_pred = nb_model.predict(X_val_enc)\n",
    "    accuracies[i] = accuracy_score(y_val, y_pred)\n",
    "\n",
    "# visualise the relationship of the hyperparameter and accuracy\n",
    "plt.plot(alpha, accuracies)\n",
    "plt.xlabel('Alpha')\n",
    "plt.ylabel('Accuracy')\n",
    "\n",
    "# Finding maximum value and its index, and its corresponded alpha (the first value of the maximum is taken)\n",
    "max_value = np.max(accuracies)  # Maximum value\n",
    "max_index = np.argmax(accuracies)  # Index of the maximum value\n",
    "optimum_alpha_categorical = alpha[max_index] # chosen optimum alpha value after tuning the hyperparameter  \n",
    "print(f\"Maximum Value of accuracy: {max_value}\")\n",
    "print(f\"Alpha parameter corresponding to the max value: {optimum_alpha_categorical}\")       "
   ],
   "id": "893c7fce13d96157",
   "outputs": [
    {
     "name": "stdout",
     "output_type": "stream",
     "text": [
      "Maximum Value of accuracy: 0.3218210361067504\n",
      "Alpha parameter corresponding to the max value: 2.4024024024024024\n"
     ]
    },
    {
     "data": {
      "text/plain": [
       "<Figure size 640x480 with 1 Axes>"
      ],
      "image/png": "[encoded data removed]"
     },
     "metadata": {},
     "output_type": "display_data"
    }
   ],
   "execution_count": 92
  },
  {
   "metadata": {},
   "cell_type": "markdown",
   "source": "Gaussian NB classification",
   "id": "4bdc2aaadc9b1a57"
  },
  {
   "metadata": {
    "ExecuteTime": {
     "end_time": "2025-01-16T14:33:04.681433Z",
     "start_time": "2025-01-16T14:32:58.453175Z"
    }
   },
   "cell_type": "code",
   "source": [
    "# Gaussian Naive Bayes. \n",
    "# tuning hyperparameter var_smoothing \n",
    "var_smooth = np.linspace(0,5,N)\n",
    "accuracies = np.zeros(len(var_smooth))\n",
    "for i in range(len(var_smooth)):\n",
    "    # Define the model with a specific var_smoothing\n",
    "    nb_model = nb.GaussianNB(var_smoothing = var_smooth[i])\n",
    "    nb_model.fit(X_train, y_train)\n",
    "    y_pred = nb_model.predict(X_val)\n",
    "    accuracies[i] = accuracy_score(y_val, y_pred)\n",
    "    \n",
    "plt.plot(var_smooth, accuracies)\n",
    "plt.xlabel('Variation Smoothing')\n",
    "plt.ylabel('Accuracy')\n",
    "\n",
    "# Finding maximum value and its index\n",
    "max_value = np.max(accuracies)  # Maximum value\n",
    "max_index = np.argmax(accuracies)  # Index of the maximum value\n",
    "optimum_var_smooth = var_smooth[max_index]\n",
    "print(f\"Maximum Value of accuracy: {max_value}\")\n",
    "print(f\"var_smoothing parameter corresponding to the max value: {optimum_var_smooth}\")"
   ],
   "id": "ada500b2c8f0da62",
   "outputs": [
    {
     "name": "stdout",
     "output_type": "stream",
     "text": [
      "Maximum Value of accuracy: 0.5243328100470958\n",
      "var_smoothing parameter corresponding to the max value: 0.0\n"
     ]
    },
    {
     "data": {
      "text/plain": [
       "<Figure size 640x480 with 1 Axes>"
      ],
      "image/png": "[encoded data removed]"
     },
     "metadata": {},
     "output_type": "display_data"
    }
   ],
   "execution_count": 101
  },
  {
   "metadata": {},
   "cell_type": "markdown",
   "source": "The hyperparameter var_smoothing is an user-defined value to the variance of the distribution that widens the normal distribution curve and accounts for more samples that are further away from the distribution mean.",
   "id": "6ebed8d3e8eb4e2"
  },
  {
   "metadata": {},
   "cell_type": "markdown",
   "source": "Bernoulli NB Classification",
   "id": "4cdf6b68e564dd85"
  },
  {
   "metadata": {
    "ExecuteTime": {
     "end_time": "2025-01-16T13:52:39.697298Z",
     "start_time": "2025-01-16T13:51:55.865154Z"
    }
   },
   "cell_type": "code",
   "source": [
    "# Bernoulli NB\n",
    "# Binarize data (using a threshold of 1.0)\n",
    "from sklearn.preprocessing import Binarizer\n",
    "from sklearn.model_selection import cross_val_score\n",
    "\n",
    "import warnings\n",
    "# Suppress all warnings\n",
    "warnings.filterwarnings(\"ignore\")\n",
    "\n",
    "# Binarisation operation, to assign 0 to values below a certain threshold and 1 for those above\n",
    "thresholds = np.linspace(-5, 5, N)\n",
    "acc = np.zeros(N)\n",
    "# Performing cross validation for the threshold for binarisation\n",
    "for t in range(len(thresholds)):\n",
    "    binarizer = Binarizer(threshold=thresholds[t])\n",
    "    X_binarized = binarizer.transform(X_train)\n",
    "    model = nb.BernoulliNB()\n",
    "    scores = cross_val_score(model, X_binarized, y_train,scoring = 'accuracy', cv=3)\n",
    "    acc[t] = scores.mean()\n",
    "    # print(f\"Threshold: {t}, Accuracy: {scores.mean()}\")\n",
    "\n",
    "# Finding maximum value and its index of the binarize threshold\n",
    "max_value = np.max(acc)  # Maximum value\n",
    "max_index = np.argmax(acc)  # Index of the maximum value\n",
    "optimum_threshold = thresholds[max_index]\n",
    "print(f\"Maximum Value of accuracy: {max_value}\")\n",
    "print(f\"Binarise Threshold corresponding to the max value of accuracy: {optimum_threshold}\")\n",
    "\n",
    "\n",
    "# Performing binarisation on the train data using the optimum threshold\n",
    "# Binarize data (using a threshold of 1.0)\n",
    "binarizer = Binarizer(threshold=optimum_threshold)\n",
    "X_binarized_train = binarizer.transform(X_train)\n",
    "\n",
    "# Bernoulli model\n",
    "# the range of alpha are chosen via trial and error\n",
    "alpha = np.linspace(0,1000,N)\n",
    "accuracies = np.zeros(len(alpha))\n",
    "for i in range(len(alpha)):\n",
    "    # Define the model\n",
    "    nb_model = nb.BernoulliNB(alpha = alpha[i])\n",
    "    nb_model.fit(X_binarized_train, y_train)\n",
    "    X_binarized_val = binarizer.transform(X_val)\n",
    "    y_pred = nb_model.predict(X_binarized_val)\n",
    "    accuracies[i] = accuracy_score(y_val, y_pred)\n",
    "    \n",
    "plt.plot(alpha, accuracies)    \n",
    "plt.xlabel('Alpha')\n",
    "plt.ylabel('Accuracy')\n",
    "\n",
    "# Finding maximum value and its index\n",
    "max_value = np.max(accuracies)  # Maximum value\n",
    "max_index = np.argmax(accuracies)  # Index of the maximum value\n",
    "optimum_alpha_bernoulli = alpha[max_index]\n",
    "print(f\"Maximum Value of accuracy: {max_value}\")\n",
    "print(f\"alpha parameter corresponding to the max value: {optimum_alpha_bernoulli}\")"
   ],
   "id": "29d9898cace16873",
   "outputs": [
    {
     "name": "stdout",
     "output_type": "stream",
     "text": [
      "Maximum Value of accuracy: 0.5675403929423223\n",
      "Binarise Threshold corresponding to the max value of accuracy: -0.01501501501501501\n",
      "Maximum Value of accuracy: 0.5698587127158555\n",
      "alpha parameter corresponding to the max value: 212.21221221221222\n"
     ]
    },
    {
     "data": {
      "text/plain": [
       "<Figure size 640x480 with 1 Axes>"
      ],
      "image/png": "[encoded data removed]"
     },
     "metadata": {},
     "output_type": "display_data"
    }
   ],
   "execution_count": 97
  },
  {
   "metadata": {},
   "cell_type": "markdown",
   "source": "A relatively high value of alpha of 212 appeared to result in highest accuracy, which might have indicated the needing to help the model generalize better by assuming a small amount of \"presence\" for each feature in every class, even if it might not have been observed in the training data.\n",
   "id": "4c217da239a5d46f"
  },
  {
   "metadata": {},
   "cell_type": "markdown",
   "source": "Implementation: determining the NB classifier at the optimum parameters of the best performance via accuracy",
   "id": "17fc175587e557b2"
  },
  {
   "metadata": {
    "ExecuteTime": {
     "end_time": "2025-01-16T14:54:58.415161Z",
     "start_time": "2025-01-16T14:54:58.317767Z"
    }
   },
   "cell_type": "code",
   "source": [
    "# Implementation\n",
    "# accuracy on test dataset\n",
    "# Categorical NB\n",
    "model = nb.CategoricalNB(alpha = optimum_alpha_categorical)\n",
    "model.fit(X_train_enc, y_train)\n",
    "y_pred = model.predict(X_test_enc)\n",
    "acc = accuracy_score(y_test, y_pred)\n",
    "print(f\"The performance of the CategoricalNB is: {acc}\")\n",
    "\n",
    "# Gaussian NB\n",
    "model = nb.GaussianNB(var_smoothing = optimum_var_smooth)\n",
    "model.fit(X_train, y_train)\n",
    "y_pred = model.predict(X_test) \n",
    "acc = accuracy_score(y_test, y_pred)\n",
    "print(f\"The performance of the GaussianNB is: {acc}\")\n",
    "\n",
    "# Bernoulli NB\n",
    "model = nb.BernoulliNB(alpha=optimum_alpha_bernoulli)\n",
    "binarizer = Binarizer(threshold=optimum_threshold)\n",
    "X_binarized_train = binarizer.transform(X_train)\n",
    "X_binarized_test = binarizer.transform(X_test)\n",
    "model.fit(X_binarized_train, y_train)\n",
    "y_pred = model.predict(X_binarized_test)\n",
    "acc = accuracy_score(y_test, y_pred)\n",
    "print(f\"The performance of the BernoulliNB is: {acc}\")"
   ],
   "id": "a061bebe0ad00286",
   "outputs": [
    {
     "name": "stdout",
     "output_type": "stream",
     "text": [
      "The performance of the CategoricalNB is: 0.3220211161387632\n",
      "The performance of the GaussianNB is: 0.5520361990950227\n",
      "The performance of the BernoulliNB is: 0.5565610859728507\n"
     ]
    }
   ],
   "execution_count": 109
  },
  {
   "metadata": {},
   "cell_type": "markdown",
   "source": [
    "It turns out that the Gaussian Naive Bayes classifier has the best performance in terms of accuracy rate. \n",
    "This might have been due to the nature of the original feature variables where it works well with continuous,\n",
    "potentially negative features, making it the best choice for PCA-transformed data. \n",
    "The Categorical and Bernoulli classifiers (and potentially multinomial and complement) required encoding the continuous principal components\n",
    "into positive discrete or binaries qunatities before fitting the model which would have resulted in loss of information, making the performance, as expected, to be lower. \n",
    "\n",
    "It is however, rather unexpected that the Bernoulli classifier has a accuracy rate close to that of Gaussian despite the use of binarization operation\n",
    "with respect to a threshold value, which would result in loss of information. \n",
    "\n",
    "===> It turns out that the BernoulliNB with a very high alpha to smooth the distributions of the classes, overcome the loss of information resulted from binarisation process. "
   ],
   "id": "c9b6ffcbe247988d"
  },
  {
   "metadata": {
    "ExecuteTime": {
     "end_time": "2025-01-16T14:55:01.200270Z",
     "start_time": "2025-01-16T14:55:01.139685Z"
    }
   },
   "cell_type": "code",
   "source": [
    "from sklearn.metrics import classification_report\n",
    "print(\"Classification Report for BernoulliNB:\")\n",
    "print(classification_report(y_test, y_pred))"
   ],
   "id": "b77f29571a5cd274",
   "outputs": [
    {
     "name": "stdout",
     "output_type": "stream",
     "text": [
      "Classification Report for BernoulliNB:\n",
      "              precision    recall  f1-score   support\n",
      "\n",
      "     Dropout       0.61      0.52      0.56       444\n",
      "    Enrolled       0.51      0.53      0.52       439\n",
      "    Graduate       0.56      0.62      0.59       443\n",
      "\n",
      "    accuracy                           0.56      1326\n",
      "   macro avg       0.56      0.56      0.56      1326\n",
      "weighted avg       0.56      0.56      0.56      1326\n",
      "\n"
     ]
    }
   ],
   "execution_count": 110
  },
  {
   "metadata": {
    "ExecuteTime": {
     "end_time": "2025-01-16T14:53:37.369916Z",
     "start_time": "2025-01-16T14:53:37.346042Z"
    }
   },
   "cell_type": "code",
   "source": "",
   "id": "c9b124e0d43d1190",
   "outputs": [
    {
     "data": {
      "text/plain": [
       "4552     Dropout\n",
       "4443     Dropout\n",
       "3910    Enrolled\n",
       "4728     Dropout\n",
       "4490     Dropout\n",
       "          ...   \n",
       "4709     Dropout\n",
       "1272     Dropout\n",
       "6204    Enrolled\n",
       "4481     Dropout\n",
       "6044    Enrolled\n",
       "Name: Target, Length: 1326, dtype: object"
      ]
     },
     "execution_count": 105,
     "metadata": {},
     "output_type": "execute_result"
    }
   ],
   "execution_count": 105
  },
  {
   "metadata": {
    "ExecuteTime": {
     "end_time": "2025-01-16T14:54:32.066937Z",
     "start_time": "2025-01-16T14:54:32.061922Z"
    }
   },
   "cell_type": "code",
   "source": "len(y_pred)",
   "id": "5c45179d885ebcfc",
   "outputs": [
    {
     "data": {
      "text/plain": [
       "637"
      ]
     },
     "execution_count": 108,
     "metadata": {},
     "output_type": "execute_result"
    }
   ],
   "execution_count": 108
  },
  {
   "metadata": {},
   "cell_type": "code",
   "outputs": [],
   "execution_count": null,
   "source": "",
   "id": "487a9071235c47e8"
  }
 ],
 "metadata": {
  "kernelspec": {
   "display_name": "Python 3",
   "language": "python",
   "name": "python3"
  },
  "language_info": {
   "codemirror_mode": {
    "name": "ipython",
    "version": 2
   },
   "file_extension": ".py",
   "mimetype": "text/x-python",
   "name": "python",
   "nbconvert_exporter": "python",
   "pygments_lexer": "ipython2",
   "version": "2.7.6"
  }
 },
 "nbformat": 4,
 "nbformat_minor": 5
}
